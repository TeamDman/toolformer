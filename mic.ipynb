{
 "cells": [
  {
   "cell_type": "code",
   "execution_count": 1,
   "metadata": {},
   "outputs": [],
   "source": [
    "import io\n",
    "from pydub import AudioSegment\n",
    "import speech_recognition as sr\n",
    "import whisper\n",
    "import queue\n",
    "import tempfile\n",
    "import os\n",
    "import threading\n",
    "import click\n",
    "import torch\n",
    "import numpy as np\n"
   ]
  },
  {
   "cell_type": "code",
   "execution_count": 2,
   "metadata": {},
   "outputs": [],
   "source": [
    "def record_audio(audio_queue, energy, pause, dynamic_energy, save_file, temp_dir):\n",
    "    #load the speech recognizer and set the initial energy threshold and pause threshold\n",
    "    r = sr.Recognizer()\n",
    "    r.energy_threshold = energy\n",
    "    r.pause_threshold = pause\n",
    "    r.dynamic_energy_threshold = dynamic_energy\n",
    "\n",
    "    with sr.Microphone(sample_rate=16000) as source:\n",
    "        print(\"Say something!\")\n",
    "        i = 0\n",
    "        while True:\n",
    "            #get and save audio to wav file\n",
    "            audio = r.listen(source)\n",
    "            if save_file:\n",
    "                data = io.BytesIO(audio.get_wav_data())\n",
    "                audio_clip = AudioSegment.from_file(data)\n",
    "                filename = os.path.join(temp_dir, f\"temp{i}.wav\")\n",
    "                audio_clip.export(filename, format=\"wav\")\n",
    "                audio_data = filename\n",
    "            else:\n",
    "                torch_audio = torch.from_numpy(np.frombuffer(audio.get_raw_data(), np.int16).flatten().astype(np.float32) / 32768.0)\n",
    "                audio_data = torch_audio\n",
    "\n",
    "            audio_queue.put_nowait(audio_data)\n",
    "            i += 1\n",
    "\n",
    "\n",
    "def transcribe_forever(audio_queue, result_queue, audio_model, english, verbose, save_file):\n",
    "    while True:\n",
    "        audio_data = audio_queue.get()\n",
    "        if english:\n",
    "            result = audio_model.transcribe(audio_data,language='english')\n",
    "        else:\n",
    "            result = audio_model.transcribe(audio_data)\n",
    "\n",
    "        if not verbose:\n",
    "            predicted_text = result[\"text\"]\n",
    "            result_queue.put_nowait(\"You said: \" + predicted_text)\n",
    "        else:\n",
    "            result_queue.put_nowait(result)\n",
    "\n",
    "        if save_file:\n",
    "            os.remove(audio_data)\n"
   ]
  },
  {
   "cell_type": "code",
   "execution_count": 3,
   "metadata": {},
   "outputs": [],
   "source": [
    "model=\"base\"\n",
    "english=True\n",
    "verbose=False\n",
    "energy=100\n",
    "pause=0.8\n",
    "dynamic_energy=False\n",
    "save_file=False\n",
    "\n",
    "temp_dir = tempfile.mkdtemp() if save_file else None\n",
    "#there are no english models for large\n",
    "if model != \"large\" and english:\n",
    "    model = model + \".en\""
   ]
  },
  {
   "cell_type": "code",
   "execution_count": 4,
   "metadata": {},
   "outputs": [],
   "source": [
    "audio_model = whisper.load_model(model).to(\"cuda\")"
   ]
  },
  {
   "cell_type": "code",
   "execution_count": 5,
   "metadata": {},
   "outputs": [
    {
     "name": "stdout",
     "output_type": "stream",
     "text": [
      "Say something!\n"
     ]
    }
   ],
   "source": [
    "audio_queue = queue.Queue()\n",
    "result_queue = queue.Queue()\n",
    "record_thread = threading.Thread(target=record_audio,\n",
    "                    args=(audio_queue, energy, pause, dynamic_energy, save_file, temp_dir))\n",
    "record_thread.start()\n",
    "transcribe_thread = threading.Thread(target=transcribe_forever,\n",
    "                    args=(audio_queue, result_queue, audio_model, english, verbose, save_file))\n",
    "transcribe_thread.start()"
   ]
  },
  {
   "cell_type": "code",
   "execution_count": 12,
   "metadata": {},
   "outputs": [
    {
     "name": "stdout",
     "output_type": "stream",
     "text": [
      "You said:  Apparently not.\n",
      "You said: \n",
      "You said:  Pewter window to the left\n"
     ]
    },
    {
     "ename": "KeyboardInterrupt",
     "evalue": "",
     "output_type": "error",
     "traceback": [
      "\u001b[1;31m---------------------------------------------------------------------------\u001b[0m",
      "\u001b[1;31mKeyboardInterrupt\u001b[0m                         Traceback (most recent call last)",
      "Cell \u001b[1;32mIn[12], line 2\u001b[0m\n\u001b[0;32m      1\u001b[0m \u001b[39mwhile\u001b[39;00m \u001b[39mTrue\u001b[39;00m:\n\u001b[1;32m----> 2\u001b[0m     \u001b[39mprint\u001b[39m(result_queue\u001b[39m.\u001b[39;49mget())\n",
      "File \u001b[1;32mc:\\Users\\TeamD\\.conda\\envs\\gptj\\lib\\queue.py:171\u001b[0m, in \u001b[0;36mQueue.get\u001b[1;34m(self, block, timeout)\u001b[0m\n\u001b[0;32m    169\u001b[0m \u001b[39melif\u001b[39;00m timeout \u001b[39mis\u001b[39;00m \u001b[39mNone\u001b[39;00m:\n\u001b[0;32m    170\u001b[0m     \u001b[39mwhile\u001b[39;00m \u001b[39mnot\u001b[39;00m \u001b[39mself\u001b[39m\u001b[39m.\u001b[39m_qsize():\n\u001b[1;32m--> 171\u001b[0m         \u001b[39mself\u001b[39;49m\u001b[39m.\u001b[39;49mnot_empty\u001b[39m.\u001b[39;49mwait()\n\u001b[0;32m    172\u001b[0m \u001b[39melif\u001b[39;00m timeout \u001b[39m<\u001b[39m \u001b[39m0\u001b[39m:\n\u001b[0;32m    173\u001b[0m     \u001b[39mraise\u001b[39;00m \u001b[39mValueError\u001b[39;00m(\u001b[39m\"\u001b[39m\u001b[39m'\u001b[39m\u001b[39mtimeout\u001b[39m\u001b[39m'\u001b[39m\u001b[39m must be a non-negative number\u001b[39m\u001b[39m\"\u001b[39m)\n",
      "File \u001b[1;32mc:\\Users\\TeamD\\.conda\\envs\\gptj\\lib\\threading.py:320\u001b[0m, in \u001b[0;36mCondition.wait\u001b[1;34m(self, timeout)\u001b[0m\n\u001b[0;32m    318\u001b[0m \u001b[39mtry\u001b[39;00m:    \u001b[39m# restore state no matter what (e.g., KeyboardInterrupt)\u001b[39;00m\n\u001b[0;32m    319\u001b[0m     \u001b[39mif\u001b[39;00m timeout \u001b[39mis\u001b[39;00m \u001b[39mNone\u001b[39;00m:\n\u001b[1;32m--> 320\u001b[0m         waiter\u001b[39m.\u001b[39;49macquire()\n\u001b[0;32m    321\u001b[0m         gotit \u001b[39m=\u001b[39m \u001b[39mTrue\u001b[39;00m\n\u001b[0;32m    322\u001b[0m     \u001b[39melse\u001b[39;00m:\n",
      "\u001b[1;31mKeyboardInterrupt\u001b[0m: "
     ]
    }
   ],
   "source": [
    "while True:\n",
    "    print(result_queue.get())"
   ]
  }
 ],
 "metadata": {
  "kernelspec": {
   "display_name": "gptj",
   "language": "python",
   "name": "python3"
  },
  "language_info": {
   "codemirror_mode": {
    "name": "ipython",
    "version": 3
   },
   "file_extension": ".py",
   "mimetype": "text/x-python",
   "name": "python",
   "nbconvert_exporter": "python",
   "pygments_lexer": "ipython3",
   "version": "3.10.9"
  },
  "orig_nbformat": 4,
  "vscode": {
   "interpreter": {
    "hash": "a091c563561efc8bc921af2d05a3a1115537b9cd9158ae425ad172b67cf38642"
   }
  }
 },
 "nbformat": 4,
 "nbformat_minor": 2
}
