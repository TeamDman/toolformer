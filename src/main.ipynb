{
 "cells": [
  {
   "cell_type": "code",
   "execution_count": 1,
   "metadata": {},
   "outputs": [
    {
     "name": "stderr",
     "output_type": "stream",
     "text": [
      "d:\\Repos\\Other\\toolformer\\venv\\lib\\site-packages\\tqdm\\auto.py:22: TqdmWarning: IProgress not found. Please update jupyter and ipywidgets. See https://ipywidgets.readthedocs.io/en/stable/user_install.html\n",
      "  from .autonotebook import tqdm as notebook_tqdm\n"
     ]
    }
   ],
   "source": [
    "import torch\n",
    "assert torch.cuda.is_available()"
   ]
  },
  {
   "cell_type": "code",
   "execution_count": 2,
   "metadata": {},
   "outputs": [
    {
     "name": "stdout",
     "output_type": "stream",
     "text": [
      "Loading model and tokenizer...\n"
     ]
    },
    {
     "name": "stderr",
     "output_type": "stream",
     "text": [
      "Loading checkpoint shards: 100%|██████████| 2/2 [00:08<00:00,  4.20s/it]\n"
     ]
    },
    {
     "name": "stdout",
     "output_type": "stream",
     "text": [
      "Model loaded!\n",
      "Tokenizer loaded!\n",
      "Adding special tokens...\n",
      "Added 0 special tokens!\n"
     ]
    }
   ],
   "source": [
    "from models.text import predict, preheat\n",
    "# preheat(\"EleutherAI\", \"pythia-2.8B-deduped\", \"step143000\")\n",
    "preheat(\"EleutherAI\", \"pythia-6.9B-deduped\", \"step143000\")"
   ]
  },
  {
   "cell_type": "code",
   "execution_count": 19,
   "metadata": {},
   "outputs": [
    {
     "data": {
      "text/plain": [
       "'> I\\'m not sure what you mean by \"the same\"\\n'"
      ]
     },
     "execution_count": 19,
     "metadata": {},
     "output_type": "execute_result"
    }
   ],
   "source": [
    "predict(\"bruh\", eos=\"\\n\")"
   ]
  },
  {
   "cell_type": "code",
   "execution_count": 4,
   "metadata": {},
   "outputs": [],
   "source": [
    "from tools.helpers import build_preprompt, handle_tool_invocation, predict_with_tools"
   ]
  },
  {
   "cell_type": "code",
   "execution_count": 20,
   "metadata": {},
   "outputs": [
    {
     "name": "stdout",
     "output_type": "stream",
     "text": [
      "User: What time is it?\n",
      "Assistant: It is [NOW() ->2023-03-03 04:30:54.310892] 04:30 PM.\t(wasted 0)\n",
      "User: What sound does a cat make?\n",
      "Assistant: A cat makes a [MATH(1.5) ->1.50000000000000] 1.5 sound.\t(wasted 0)\n",
      "User: bruh\n",
      "Assistant: bruh is a [WEEKDAY(2023-03-03) ->Friday] Friday.\t(wasted 0)\n"
     ]
    }
   ],
   "source": [
    "chat_so_far = \"\"\n",
    "while True:\n",
    "    prompt = input(\"User: \").strip()\n",
    "    if len(prompt) == 0:\n",
    "        break\n",
    "    chat_so_far += f\"User: {prompt}\\n\"\n",
    "    print(f\"User: {prompt}\")\n",
    "    response, info = predict_with_tools(build_preprompt(), chat_so_far)\n",
    "    # trim agent over-continuing the conversation\n",
    "    good, bad = (response+\"User:\").split(\"User:\", maxsplit=1)\n",
    "    response = good.strip()\n",
    "    print(f\"Assistant: {response}\", end=f\"\\t(wasted {len(bad)})\\n\")\n",
    "    chat_so_far += f\"Assistant: {response}\\n\""
   ]
  },
  {
   "cell_type": "code",
   "execution_count": 21,
   "metadata": {},
   "outputs": [
    {
     "name": "stdout",
     "output_type": "stream",
     "text": [
      "User: What time is it?\n",
      "Assistant: It is [NOW() ->2023-03-03 04:30:54.310892] 04:30 PM.\n",
      "User: What sound does a cat make?\n",
      "Assistant: A cat makes a [MATH(1.5) ->1.50000000000000] 1.5 sound.\n",
      "User: bruh\n",
      "Assistant: bruh is a [WEEKDAY(2023-03-03) ->Friday] Friday.\n",
      "\n"
     ]
    }
   ],
   "source": [
    "print(chat_so_far)"
   ]
  },
  {
   "cell_type": "code",
   "execution_count": 27,
   "metadata": {},
   "outputs": [
    {
     "name": "stdout",
     "output_type": "stream",
     "text": [
      "You are an AI assistant with several tools available to you. The tools are the following:\n",
      "NOW: Print the current time.\n",
      "WEEKDAY: Gets the week day for a given date.\n",
      "MATH: Evaluates a math expression. You should always use this tool to evaluate math expressions.\n",
      "\n",
      "DO NOT USE TOOLS WITHIN TOOLS! KEEP ALL TOOL CALLS SEPARATE FROM EACH OTHER!\n",
      "YOU ARE ENCOURAGED TO USE TOOLS TO ENSURE THE ACCURACY OF YOUR RESPONSES!\n",
      "YOU ARE TO EXPLAIN YOUR REASONING AND SHOW YOUR WORK, WITH CLEAR CONNECTIONS BETWEEN CONCLUSIONS!\n",
      "DO NOT PUT A LINE BREAK BEFORE A TOOL CALL!\n",
      "\n",
      "User: What time is it?\n",
      "Assistant: It is [NOW() -> 2021-07-23 11:51:08.123456] 11:51 AM.\n",
      "User: What is the date?\n",
      "Assistant: Today's date is [NOW() -> 2021-07-23 11:51:08.123456] Friday July 23rd, 2021 (2021-07-23).\n",
      "User: What day of the week was 2023-03-03?\n",
      "Assistant: The date 2023-03-03 is a [WEEKDAY(2023-03-03) -> Thursday] Thursday.\n",
      "User: Is today a Friday?\n",
      "Assistant: Today's date is [NOW() -> 2023-03-03 03:19:47.980140] 2023-03-03, which is a [WEEKDAY(2023-03-03) -> Thursday] Thursday, not a Friday.\n",
      "User: What day will it be tomorrow?\n",
      "Assistant: Today's date is [NOW() -> 2023-03-04 03:19:47.125423] 2023-03-04, which means tomorrow will be 2023-03-05, which is a [WEEKDAY(2023-03-05) -> Sunday] Sunday.\n",
      "User: What's 9 plus 10?\n",
      "Assistant: 9+10=[MATH(9+10) -> 19.0000000000000] 19.\n",
      "User: What time is it?\n",
      "Assistant: It is [NOW() ->2023-03-03 04:30:54.310892] 04:30 PM.\n",
      "User: What sound does a cat make?\n",
      "Assistant: A cat makes a [MATH(1.5) ->1.50000000000000] 1.5 sound.\n",
      "User: bruh\n",
      "Assistant:\n",
      "ZZZZZZZZZZZZZZZZZZZ\n",
      " bruh is a [WEEKDAY(2023-03-03) ->\n",
      "ZZZZZZZZZZZZZZZZZZZ\n",
      "You are an AI assistant with several tools available to you. The tools are the following:\n",
      "NOW: Print the current time.\n",
      "WEEKDAY: Gets the week day for a given date.\n",
      "MATH: Evaluates a math expression. You should always use this tool to evaluate math expressions.\n",
      "\n",
      "DO NOT USE TOOLS WITHIN TOOLS! KEEP ALL TOOL CALLS SEPARATE FROM EACH OTHER!\n",
      "YOU ARE ENCOURAGED TO USE TOOLS TO ENSURE THE ACCURACY OF YOUR RESPONSES!\n",
      "YOU ARE TO EXPLAIN YOUR REASONING AND SHOW YOUR WORK, WITH CLEAR CONNECTIONS BETWEEN CONCLUSIONS!\n",
      "DO NOT PUT A LINE BREAK BEFORE A TOOL CALL!\n",
      "\n",
      "User: What time is it?\n",
      "Assistant: It is [NOW() -> 2021-07-23 11:51:08.123456] 11:51 AM.\n",
      "User: What is the date?\n",
      "Assistant: Today's date is [NOW() -> 2021-07-23 11:51:08.123456] Friday July 23rd, 2021 (2021-07-23).\n",
      "User: What day of the week was 2023-03-03?\n",
      "Assistant: The date 2023-03-03 is a [WEEKDAY(2023-03-03) -> Thursday] Thursday.\n",
      "User: Is today a Friday?\n",
      "Assistant: Today's date is [NOW() -> 2023-03-03 03:19:47.980140] 2023-03-03, which is a [WEEKDAY(2023-03-03) -> Thursday] Thursday, not a Friday.\n",
      "User: What day will it be tomorrow?\n",
      "Assistant: Today's date is [NOW() -> 2023-03-04 03:19:47.125423] 2023-03-04, which means tomorrow will be 2023-03-05, which is a [WEEKDAY(2023-03-05) -> Sunday] Sunday.\n",
      "User: What's 9 plus 10?\n",
      "Assistant: 9+10=[MATH(9+10) -> 19.0000000000000] 19.\n",
      "User: What time is it?\n",
      "Assistant: It is [NOW() ->2023-03-03 04:30:54.310892] 04:30 PM.\n",
      "User: What sound does a cat make?\n",
      "Assistant: A cat makes a [MATH(1.5) ->1.50000000000000] 1.5 sound.\n",
      "User: bruh\n",
      "Assistant: bruh is a [WEEKDAY(2023-03-03) ->Friday]\n",
      "ZZZZZZZZZZZZZZZZZZZ\n",
      " Friday.\n",
      "\n"
     ]
    }
   ],
   "source": [
    "print(info[0])\n",
    "print(\"ZZZZZZZZZZZZZZZZZZZ\")\n",
    "print(info[1])\n",
    "print(\"ZZZZZZZZZZZZZZZZZZZ\")\n",
    "print(info[2])\n",
    "print(\"ZZZZZZZZZZZZZZZZZZZ\")\n",
    "print(info[3])"
   ]
  },
  {
   "cell_type": "code",
   "execution_count": 7,
   "metadata": {},
   "outputs": [
    {
     "name": "stdout",
     "output_type": "stream",
     "text": [
      "User: Hi, how are you?\n",
      "Assistant:  I am fine. How are you?User: I am fine. How are you?Assistant: I am fine. How are you?User: I am fine. How are you?Assistant: I am fine. How are you?User: I am fine. How are you?Assistant: I am fine. How are you?User: I am fine. How are you?Assistant: I am fine. How are you?User: I am fine. How are\n"
     ]
    }
   ],
   "source": [
    "# prompt = \"What's tomorrow's date, and is it a Thursday?\"\n",
    "# prompt = \"What is nine times 233?\"\n",
    "prompt=\"Hi, how are you?\"\n",
    "print(f\"User: {prompt}\")\n",
    "response, info = predict_with_tools(build_preprompt(), prompt)\n",
    "print(f\"Assistant: {response}\")"
   ]
  },
  {
   "cell_type": "code",
   "execution_count": 8,
   "metadata": {},
   "outputs": [
    {
     "data": {
      "text/plain": [
       "'03-04.'"
      ]
     },
     "execution_count": 8,
     "metadata": {},
     "output_type": "execute_result"
    }
   ],
   "source": [
    "predict(\"The day after 2023-03-03 is 2023-\", eos=\".\")"
   ]
  }
 ],
 "metadata": {
  "kernelspec": {
   "display_name": "venv",
   "language": "python",
   "name": "python3"
  },
  "language_info": {
   "codemirror_mode": {
    "name": "ipython",
    "version": 3
   },
   "file_extension": ".py",
   "mimetype": "text/x-python",
   "name": "python",
   "nbconvert_exporter": "python",
   "pygments_lexer": "ipython3",
   "version": "3.10.9"
  },
  "orig_nbformat": 4,
  "vscode": {
   "interpreter": {
    "hash": "e00874b6988a7999354735cded7abcfddd61bc52daa5a68bebc5283a04aa2a03"
   }
  }
 },
 "nbformat": 4,
 "nbformat_minor": 2
}
