{
 "cells": [
  {
   "cell_type": "code",
   "execution_count": 2,
   "metadata": {},
   "outputs": [
    {
     "name": "stdout",
     "output_type": "stream",
     "text": [
      "d:\\Repos\\Other\\toolformer\\src\n"
     ]
    }
   ],
   "source": [
    "%cd .."
   ]
  },
  {
   "cell_type": "code",
   "execution_count": 3,
   "metadata": {},
   "outputs": [
    {
     "name": "stdout",
     "output_type": "stream",
     "text": [
      "NOW() -> 2023-03-03 03:32:09.292093\n",
      "WEEKDAY(2023-03-03) -> Friday\n",
      "MATH(9+10) -> 19.0000000000000\n"
     ]
    }
   ],
   "source": [
    "import re\n",
    "from helpers import tools\n",
    "pattern = r\".*?\\((.*?)\\).*?\"\n",
    "for tool in tools:\n",
    "    found = re.match(pattern, tool.examples[0].output, re.DOTALL)\n",
    "    assert found\n",
    "    params = found.group(1)\n",
    "    output = tool.method(params)\n",
    "    print(f\"{tool.name}({params}) -> {output}\")\n"
   ]
  }
 ],
 "metadata": {
  "kernelspec": {
   "display_name": "venv",
   "language": "python",
   "name": "python3"
  },
  "language_info": {
   "codemirror_mode": {
    "name": "ipython",
    "version": 3
   },
   "file_extension": ".py",
   "mimetype": "text/x-python",
   "name": "python",
   "nbconvert_exporter": "python",
   "pygments_lexer": "ipython3",
   "version": "3.10.9"
  },
  "orig_nbformat": 4,
  "vscode": {
   "interpreter": {
    "hash": "e00874b6988a7999354735cded7abcfddd61bc52daa5a68bebc5283a04aa2a03"
   }
  }
 },
 "nbformat": 4,
 "nbformat_minor": 2
}
