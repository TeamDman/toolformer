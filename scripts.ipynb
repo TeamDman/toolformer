{
 "cells": [
  {
   "cell_type": "code",
   "execution_count": 1,
   "metadata": {},
   "outputs": [],
   "source": [
    "# save conda env\n",
    "!conda env export > environment.yml"
   ]
  },
  {
   "cell_type": "code",
   "execution_count": 3,
   "metadata": {},
   "outputs": [
    {
     "name": "stderr",
     "output_type": "stream",
     "text": [
      "ffmpeg version 4.3.1-2020-11-19-full_build-www.gyan.dev Copyright (c) 2000-2020 the FFmpeg developers\n",
      "  built with gcc 10.2.0 (Rev5, Built by MSYS2 project)\n",
      "  configuration: --enable-gpl --enable-version3 --enable-static --disable-w32threads --disable-autodetect --enable-fontconfig --enable-iconv --enable-gnutls --enable-libxml2 --enable-gmp --enable-lzma --enable-libsnappy --enable-zlib --enable-libsrt --enable-libssh --enable-libzmq --enable-avisynth --enable-libbluray --enable-libcaca --enable-sdl2 --enable-libdav1d --enable-libzvbi --enable-librav1e --enable-libwebp --enable-libx264 --enable-libx265 --enable-libxvid --enable-libaom --enable-libopenjpeg --enable-libvpx --enable-libass --enable-frei0r --enable-libfreetype --enable-libfribidi --enable-libvidstab --enable-libvmaf --enable-libzimg --enable-amf --enable-cuda-llvm --enable-cuvid --enable-ffnvcodec --enable-nvdec --enable-nvenc --enable-d3d11va --enable-dxva2 --enable-libmfx --enable-libcdio --enable-libgme --enable-libmodplug --enable-libopenmpt --enable-libopencore-amrwb --enable-libmp3lame --enable-libshine --enable-libtheora --enable-libtwolame --enable-libvo-amrwbenc --enable-libilbc --enable-libgsm --enable-libopencore-amrnb --enable-libopus --enable-libspeex --enable-libvorbis --enable-ladspa --enable-libbs2b --enable-libflite --enable-libmysofa --enable-librubberband --enable-libsoxr --enable-chromaprint\n",
      "  libavutil      56. 51.100 / 56. 51.100\n",
      "  libavcodec     58. 91.100 / 58. 91.100\n",
      "  libavformat    58. 45.100 / 58. 45.100\n",
      "  libavdevice    58. 10.100 / 58. 10.100\n",
      "  libavfilter     7. 85.100 /  7. 85.100\n",
      "  libswscale      5.  7.100 /  5.  7.100\n",
      "  libswresample   3.  7.100 /  3.  7.100\n",
      "  libpostproc    55.  7.100 / 55.  7.100\n",
      "Input #0, matroska,webm, from '2023-02-28 01-22-07.mkv':\n",
      "  Metadata:\n",
      "    ENCODER         : Lavf59.27.100\n",
      "  Duration: 00:00:31.83, start: 0.000000, bitrate: 381 kb/s\n",
      "    Stream #0:0: Video: h264 (High), yuv420p(tv, bt709, progressive), 1920x1080 [SAR 1:1 DAR 16:9], 60 fps, 60 tbr, 1k tbn, 120 tbc\n",
      "    Metadata:\n",
      "      DURATION        : 00:00:31.834000000\n",
      "    Stream #0:1: Audio: aac (LC), 48000 Hz, stereo, fltp\n",
      "    Metadata:\n",
      "      title           : simple_aac_recording\n",
      "      DURATION        : 00:00:31.808000000\n",
      "Output #0, mp4, to 'demo.mp4':\n",
      "  Metadata:\n",
      "    encoder         : Lavf58.45.100\n",
      "    Stream #0:0: Video: h264 (High) (avc1 / 0x31637661), yuv420p(tv, bt709, progressive), 1920x1080 [SAR 1:1 DAR 16:9], q=2-31, 60 fps, 60 tbr, 16k tbn, 1k tbc\n",
      "    Metadata:\n",
      "      DURATION        : 00:00:31.834000000\n",
      "    Stream #0:1: Audio: aac (LC) (mp4a / 0x6134706D), 48000 Hz, stereo, fltp\n",
      "    Metadata:\n",
      "      title           : simple_aac_recording\n",
      "      DURATION        : 00:00:31.808000000\n",
      "Stream mapping:\n",
      "  Stream #0:0 -> #0:0 (copy)\n",
      "  Stream #0:1 -> #0:1 (copy)\n",
      "Press [q] to stop, [?] for help\n",
      "frame= 1910 fps=0.0 q=-1.0 Lsize=    1522kB time=00:00:31.78 bitrate= 392.3kbits/s speed=2.3e+03x    \n",
      "video:1452kB audio:9kB subtitle:0kB other streams:0kB global headers:0kB muxing overhead: 4.174676%\n"
     ]
    }
   ],
   "source": [
    "!ffmpeg -i \"2023-02-28 01-22-07.mkv\" -c copy demo.mp4"
   ]
  }
 ],
 "metadata": {
  "kernelspec": {
   "display_name": "gptj",
   "language": "python",
   "name": "python3"
  },
  "language_info": {
   "codemirror_mode": {
    "name": "ipython",
    "version": 3
   },
   "file_extension": ".py",
   "mimetype": "text/x-python",
   "name": "python",
   "nbconvert_exporter": "python",
   "pygments_lexer": "ipython3",
   "version": "3.10.9"
  },
  "orig_nbformat": 4,
  "vscode": {
   "interpreter": {
    "hash": "a091c563561efc8bc921af2d05a3a1115537b9cd9158ae425ad172b67cf38642"
   }
  }
 },
 "nbformat": 4,
 "nbformat_minor": 2
}
