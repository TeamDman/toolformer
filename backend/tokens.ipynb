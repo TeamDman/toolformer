{
 "cells": [
  {
   "cell_type": "code",
   "execution_count": 1,
   "metadata": {},
   "outputs": [
    {
     "name": "stderr",
     "output_type": "stream",
     "text": [
      "d:\\Repos\\Other\\toolformer\\backend\\venv\\lib\\site-packages\\tqdm\\auto.py:21: TqdmWarning: IProgress not found. Please update jupyter and ipywidgets. See https://ipywidgets.readthedocs.io/en/stable/user_install.html\n",
      "  from .autonotebook import tqdm as notebook_tqdm\n"
     ]
    }
   ],
   "source": [
    "from transformers import GPTNeoXForCausalLM, AutoTokenizer, PreTrainedTokenizerFast\n",
    "tokenizer: PreTrainedTokenizerFast = AutoTokenizer.from_pretrained(\n",
    "  \"EleutherAI/pythia-2.8B-deduped\",\n",
    "  revision=\"step143000\",\n",
    "  cache_dir=\"./pythia-2.8B-deduped/step143000\",\n",
    ")"
   ]
  },
  {
   "cell_type": "code",
   "execution_count": 7,
   "metadata": {},
   "outputs": [
    {
     "name": "stdout",
     "output_type": "stream",
     "text": [
      "[90, 8, 455, 1871, 1849, 8, 248, 8, 31622, 8, 1689, 80]\n",
      "['y', \"'\", 'all', \"'d\", \"'ve\", \"'\", 'he', \"'\", 'hee', \"'\", 'ho', 'o']\n"
     ]
    }
   ],
   "source": [
    "tokens = tokenizer(\"y'all'd've'he'hee'hoo\")\n",
    "print(tokens['input_ids'])\n",
    "print(tokenizer.convert_ids_to_tokens(tokens[\"input_ids\"]))"
   ]
  }
 ],
 "metadata": {
  "kernelspec": {
   "display_name": "venv",
   "language": "python",
   "name": "python3"
  },
  "language_info": {
   "codemirror_mode": {
    "name": "ipython",
    "version": 3
   },
   "file_extension": ".py",
   "mimetype": "text/x-python",
   "name": "python",
   "nbconvert_exporter": "python",
   "pygments_lexer": "ipython3",
   "version": "3.10.9"
  },
  "orig_nbformat": 4
 },
 "nbformat": 4,
 "nbformat_minor": 2
}
