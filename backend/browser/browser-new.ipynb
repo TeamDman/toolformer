{
 "cells": [
  {
   "cell_type": "code",
   "execution_count": 1,
   "metadata": {},
   "outputs": [
    {
     "name": "stdout",
     "output_type": "stream",
     "text": [
      "{'Log in button': \"/./body/./div[@id='react-root']/./div/./div/./div[@id='layers']/./div/./div/./div/./div[@data-testid='BottomBar']/./div/./div/./div/./div/./div/./div/./a[@href='/login'][@data-testid='login'][@role='link']/./div[@dir='ltr']/./span/./span\",\n",
      " 'Sign in button': 'hi',\n",
      " 'logInSelector': \"//span[text()[contains(., 'Log in')]]\",\n",
      " 'logInSubmitSelector': \"//div[@aria-labelledby='modal-header'][@aria-modal='true'][@role='dialog']//div[@role='group'][@tabindex='0']//div[@data-testid='LoginForm_Footer_Container']//div[@data-testid='LoginForm_Login_Button'][@role='button'][@tabindex='0']//div[@dir='ltr']//span//span\",\n",
      " 'loginNextSelector': \"//span[text()[contains(., 'Next')]]\",\n",
      " 'passwordSelector': \"//input[@type='password'][@name='password'][@spellcheck='true'][@value='']\",\n",
      " 'usernameSelector': \"//input[@autocomplete='username']\"}\n"
     ]
    }
   ],
   "source": [
    "import json\n",
    "from pprint import pprint\n",
    "class AutoSaveDict(dict):\n",
    "    def __init__(self, json_file):\n",
    "        self.json_file = json_file\n",
    "        try:\n",
    "            with open(json_file, 'r') as f:\n",
    "                data = json.load(f)\n",
    "                super().__init__(data)\n",
    "        except FileNotFoundError:\n",
    "            super().__init__()\n",
    "\n",
    "    def __setitem__(self, key, value):\n",
    "        super().__setitem__(key, value)\n",
    "        self.save_to_json()\n",
    "\n",
    "    def __delitem__(self, __key) -> None:\n",
    "        super().__delitem__(__key)\n",
    "        self.save_to_json()\n",
    "\n",
    "    def save_to_json(self):\n",
    "        with open(self.json_file, 'w') as f:\n",
    "            json.dump(self, f, indent=4)\n",
    "config = AutoSaveDict(\"config.json\")\n",
    "pprint(config)"
   ]
  },
  {
   "cell_type": "code",
   "execution_count": 2,
   "metadata": {},
   "outputs": [],
   "source": [
    "from selenium import webdriver\n",
    "from selenium.webdriver.common.by import By\n",
    "\n",
    "driver = webdriver.Edge()"
   ]
  },
  {
   "cell_type": "code",
   "execution_count": 3,
   "metadata": {},
   "outputs": [],
   "source": [
    "driver.get(\"https://twitter.com\")"
   ]
  },
  {
   "cell_type": "code",
   "execution_count": 43,
   "metadata": {},
   "outputs": [
    {
     "name": "stdout",
     "output_type": "stream",
     "text": [
      "{'height': 1000, 'width': 960, 'x': 1920, 'y': 0}\n"
     ]
    }
   ],
   "source": [
    "driver.set_window_rect(1920,0,1920//2,1000)\n",
    "print(driver.get_window_rect())"
   ]
  },
  {
   "cell_type": "code",
   "execution_count": 73,
   "metadata": {},
   "outputs": [],
   "source": [
    "async def identify(thing: str):\n",
    "    if thing in config:\n",
    "        try:\n",
    "            driver.find_element(By.XPATH, config[thing])\n",
    "            return config[thing]\n",
    "        except:\n",
    "            print(\"Xpath in config is invalid, reidentifying\")\n",
    "    print(\"Prompting user to click\")\n",
    "    selector = driver.execute_async_script(open(\"picker.js\",\"r\").read(), thing)\n",
    "    print(f\"Prompt resulted in selector {selector}\")\n",
    "    config[thing] = selector\n",
    "    assert driver.find_element(By.XPATH, config[thing]) is not None\n",
    "    return config[thing]"
   ]
  },
  {
   "cell_type": "code",
   "execution_count": 74,
   "metadata": {},
   "outputs": [],
   "source": [
    "async def click(thing):\n",
    "    xpath = await identify(thing)\n",
    "    driver.execute_script(f\"\"\"\n",
    "        document.evaluate(\n",
    "            `{xpath}`, document, null, XPathResult.FIRST_ORDERED_NODE_TYPE, null\n",
    "        ).singleNodeValue.click();\n",
    "    \"\"\")"
   ]
  },
  {
   "cell_type": "code",
   "execution_count": 77,
   "metadata": {},
   "outputs": [],
   "source": [
    "async def focus(thing):\n",
    "    xpath = await identify(thing)\n",
    "    \"\"\"\n",
    "    1. Insert a panel into the page to absorb a mouse click\n",
    "    2. Click the browser content area to allow for programmatic focusing of elements (browser security thing)\n",
    "    3. The panel removes itself\n",
    "    4. The element is focused\n",
    "    \"\"\"\n",
    "    import pyautogui\n",
    "    driver.execute_script(r\"\"\"\n",
    "const panel = document.createElement(\"div\");\n",
    "panel.style.position = \"fixed\";\n",
    "panel.style.top = \"0\";\n",
    "panel.style.left = \"0\";\n",
    "panel.style.width = \"100%\";\n",
    "panel.style.height = \"100%\";\n",
    "panel.style.zIndex = \"9999\";\n",
    "panel.style.background = \"rgba(0,0.5,0,0.5)\";\n",
    "panel.innerText = \"CLICK FOR FOCUS\";\n",
    "panel.style.color = \"white\";\n",
    "panel.style.fontSize = \"50px\";\n",
    "panel.style.fontFamily = \"Impact, Charcoal, sans-serif\";\n",
    "\n",
    "panel.style.display = \"flex\";\n",
    "panel.style.justifyContent = \"center\";\n",
    "panel.style.alignItems = \"center\";\n",
    "panel.style.cursor = \"pointer\";\n",
    "document.body.appendChild(panel);\n",
    "panel.addEventListener(\"click\", () => {\n",
    "    document.body.removeChild(panel);\n",
    "});\n",
    "\"\"\")\n",
    "    # click on the browser window\n",
    "    restore = pyautogui.position()\n",
    "    pyautogui.click(driver.get_window_position()['x'] + driver.get_window_size()[\"width\"]//4, driver.get_window_position()['y'] + driver.get_window_size()[\"height\"]//2)\n",
    "    pyautogui.moveTo(restore)\n",
    "\n",
    "    driver.execute_script(f\"\"\"\n",
    "        document.evaluate(\n",
    "            `{xpath}`, document, null, XPathResult.FIRST_ORDERED_NODE_TYPE, null\n",
    "        ).singleNodeValue.focus();\n",
    "    \"\"\")\n"
   ]
  },
  {
   "cell_type": "code",
   "execution_count": 75,
   "metadata": {},
   "outputs": [],
   "source": [
    "await click(\"Log in button\")"
   ]
  },
  {
   "cell_type": "code",
   "execution_count": 78,
   "metadata": {},
   "outputs": [],
   "source": [
    "await focus(\"Username field\")"
   ]
  },
  {
   "cell_type": "code",
   "execution_count": 113,
   "metadata": {},
   "outputs": [],
   "source": [
    "from typing import List\n",
    "\n",
    "async def isOnePassOpen():\n",
    "    import mss\n",
    "    import pyautogui\n",
    "    from IPython.display import display\n",
    "    from PIL import Image\n",
    "    def getMouseMonitorScreenshot():\n",
    "        # Get the current mouse position\n",
    "        mouse_x, mouse_y = pyautogui.position()\n",
    "\n",
    "        # Determine the monitor the mouse is on\n",
    "        with mss.mss() as sct:\n",
    "            target_monitor = None\n",
    "            for monitor in sct.monitors[1:]:\n",
    "                if monitor[\"left\"] <= mouse_x < monitor[\"left\"] + monitor[\"width\"] and monitor[\"top\"] <= mouse_y < monitor[\"top\"] + monitor[\"height\"]:\n",
    "                    target_monitor = monitor\n",
    "                    break\n",
    "\n",
    "            if target_monitor:\n",
    "                image = sct.grab(target_monitor)\n",
    "                return Image.frombytes(\"RGB\", image.size, image.bgra, \"raw\", \"BGRX\")\n",
    "            else:\n",
    "                return None\n",
    "    import pytesseract\n",
    "    pytesseract.pytesseract.tesseract_cmd = r\"C:\\Program Files\\Tesseract-OCR\\tesseract.exe\"\n",
    "    def recognize_text(image):\n",
    "        return pytesseract.image_to_string(image, lang=\"eng\")\n",
    "    \n",
    "    \n",
    "    text = recognize_text(getMouseMonitorScreenshot())\n",
    "    # print(\"OCR\", text)\n",
    "    if \"Search 1Password\" in text or \"Q earch 1Password\" in text:\n",
    "        return True\n",
    "    elif \"Copy Username\" in text and \"Copy Password\" in text:\n",
    "        return True\n",
    "    else:\n",
    "        return False\n",
    "async def fillValueFromOnePass(thing: str, search: str, hotkey: List[str]) -> str:\n",
    "    await identify(thing)\n",
    "    import pyautogui\n",
    "    from time import sleep\n",
    "    # hotkey to open 1Password search\n",
    "    pyautogui.hotkey(\"ctrl\",\"shift\",\"space\")\n",
    "    sleep(0.5)\n",
    "    if isOnePassOpen():\n",
    "        pyautogui.typewrite(search)\n",
    "        sleep(0.5)\n",
    "        pyautogui.hotkey(*hotkey)\n",
    "        await focus(thing)\n",
    "        sleep(0.5)\n",
    "        # select text in input if any\n",
    "        pyautogui.hotkey(\"ctrl\",\"a\")\n",
    "        # paste clobbering the text\n",
    "        pyautogui.hotkey(\"ctrl\",\"v\")"
   ]
  },
  {
   "cell_type": "code",
   "execution_count": 93,
   "metadata": {},
   "outputs": [
    {
     "name": "stderr",
     "output_type": "stream",
     "text": [
      "C:\\Users\\TeamD\\AppData\\Local\\Temp\\ipykernel_4648\\790595159.py:45: RuntimeWarning: coroutine 'isOnePassOpen' was never awaited\n",
      "  if isOnePassOpen():\n",
      "RuntimeWarning: Enable tracemalloc to get the object allocation traceback\n"
     ]
    }
   ],
   "source": [
    "await fillValueFromOnePass(\"Username field\", \"twitter\", (\"ctrl\",\"c\"))"
   ]
  },
  {
   "cell_type": "code",
   "execution_count": 102,
   "metadata": {},
   "outputs": [
    {
     "name": "stdout",
     "output_type": "stream",
     "text": [
      "Xpath in config is invalid, reidentifying\n",
      "Prompting user to click\n",
      "Prompt resulted in selector //div[@role=\"button\"]//span[contains(., 'Next')]\n"
     ]
    }
   ],
   "source": [
    "await click(\"Log in next button\")"
   ]
  },
  {
   "cell_type": "code",
   "execution_count": 109,
   "metadata": {},
   "outputs": [
    {
     "name": "stderr",
     "output_type": "stream",
     "text": [
      "C:\\Users\\TeamD\\AppData\\Local\\Temp\\ipykernel_4648\\790595159.py:45: RuntimeWarning: coroutine 'isOnePassOpen' was never awaited\n",
      "  if isOnePassOpen():\n",
      "RuntimeWarning: Enable tracemalloc to get the object allocation traceback\n"
     ]
    }
   ],
   "source": [
    "await fillValueFromOnePass(\"Password field\", \"twitter\", (\"ctrl\",\"shift\",\"c\"))"
   ]
  },
  {
   "cell_type": "code",
   "execution_count": 110,
   "metadata": {},
   "outputs": [],
   "source": [
    "thing = \"Log in submit button\"\n",
    "# del config[thing]\n",
    "await click(thing)"
   ]
  },
  {
   "cell_type": "code",
   "execution_count": 114,
   "metadata": {},
   "outputs": [
    {
     "name": "stdout",
     "output_type": "stream",
     "text": [
      "Xpath in config is invalid, reidentifying\n",
      "Prompting user to click\n",
      "Prompt resulted in selector //input[@data-testid=\"ocfEnterTextTextInput\"]\n"
     ]
    },
    {
     "name": "stderr",
     "output_type": "stream",
     "text": [
      "C:\\Users\\TeamD\\AppData\\Local\\Temp\\ipykernel_4648\\29930543.py:46: RuntimeWarning: coroutine 'isOnePassOpen' was never awaited\n",
      "  if isOnePassOpen():\n",
      "RuntimeWarning: Enable tracemalloc to get the object allocation traceback\n"
     ]
    }
   ],
   "source": [
    "await fillValueFromOnePass(\"OTP\", \"twitter\", (\"ctrl\",\"alt\",\"c\"))"
   ]
  },
  {
   "cell_type": "code",
   "execution_count": 115,
   "metadata": {},
   "outputs": [
    {
     "name": "stdout",
     "output_type": "stream",
     "text": [
      "Prompting user to click\n",
      "Prompt resulted in selector //div[@role=\"button\"][@data-testid=\"ocfEnterTextNextButton\"]\n"
     ]
    }
   ],
   "source": [
    "thing = \"OTP submit button\"\n",
    "# del config[thing]\n",
    "await click(thing)"
   ]
  }
 ],
 "metadata": {
  "kernelspec": {
   "display_name": "venv",
   "language": "python",
   "name": "python3"
  },
  "language_info": {
   "codemirror_mode": {
    "name": "ipython",
    "version": 3
   },
   "file_extension": ".py",
   "mimetype": "text/x-python",
   "name": "python",
   "nbconvert_exporter": "python",
   "pygments_lexer": "ipython3",
   "version": "3.10.9"
  },
  "orig_nbformat": 4
 },
 "nbformat": 4,
 "nbformat_minor": 2
}
