{
 "cells": [
  {
   "cell_type": "code",
   "execution_count": null,
   "metadata": {},
   "outputs": [],
   "source": [
    "%load_ext autoreload\n",
    "%autoreload 2"
   ]
  },
  {
   "cell_type": "code",
   "execution_count": 2,
   "metadata": {},
   "outputs": [
    {
     "name": "stdout",
     "output_type": "stream",
     "text": [
      "4.8.2\n"
     ]
    }
   ],
   "source": [
    "import selenium\n",
    "print(selenium.__version__)"
   ]
  },
  {
   "attachments": {},
   "cell_type": "markdown",
   "metadata": {},
   "source": [
    "# 4Chan"
   ]
  },
  {
   "cell_type": "code",
   "execution_count": 3,
   "metadata": {},
   "outputs": [],
   "source": [
    "from selenium import webdriver\n",
    "from selenium.webdriver.common.by import By\n",
    "from selenium.webdriver.edge.options import Options as EdgeOptions\n",
    "from pathlib import Path\n",
    "\n",
    "downloads_dir = Path(\"downloads\")\n",
    "downloads_dir.mkdir(exist_ok=True)\n",
    "# from msedge.selenium_tools import EdgeOptions\n",
    "options = EdgeOptions()\n",
    "options.add_experimental_option(\"prefs\", {\n",
    "    \"download.default_directory\": str(downloads_dir),\n",
    "    \"download.directory_upgrade\": True,\n",
    "})\n",
    "# options.add_argument(\"--headless\")\n",
    "# options.add_argument(\"--disable-gpu\") \n",
    "browser = webdriver.Edge(options=options)\n",
    "# browser.set_window_position(1920,0)\n",
    "browser.get(\"https://boards.4channel.org/g/thread/92468569#p92471725\")\n",
    "# href = browser.find_element(By.CSS_SELECTOR, \"a[title='Mdk']\").get_attribute(\"href\")\n",
    "# href = href.split(\"&url=\")[1]\n",
    "# browser.get(href)\n",
    "# browser.close()\n",
    "# del browser\n",
    "# print(f\"href: {href}\")"
   ]
  },
  {
   "cell_type": "code",
   "execution_count": 17,
   "metadata": {},
   "outputs": [
    {
     "name": "stdout",
     "output_type": "stream",
     "text": [
      "{'a': 4, 'b': 6, 'myName': 'is daddy'}\n"
     ]
    }
   ],
   "source": [
    "selector = browser.execute_script(r\"return {a:4, b:6, myName:'is daddy'};\")\n",
    "print(selector) # holy shit it converts the objects"
   ]
  },
  {
   "cell_type": "code",
   "execution_count": null,
   "metadata": {},
   "outputs": [],
   "source": [
    "import requests\n",
    "url = \"http://127.0.0.1:5000/\"\n",
    "#     prompt = f\"\"\"The following is a conversation between a human and an AI.\n",
    "# Human: {human_input}\n",
    "# AI:\"\"\"\n",
    "prompt=f\"\"\"Below is an instruction that describes a task, paired with an input that provides further context. Write a response that correctly completes the request.\n",
    "\n",
    "### Instruction:\n",
    "{human_input}\n",
    "\n",
    "### Context:\n",
    "{human_input}\n",
    "\n",
    "### Response:\"\"\"\n",
    "data = {\"prompts\": [prompt]}\n",
    "response = requests.post(url, json=data).json()[0]\n",
    "response = response.replace(prompt, \"\")\n",
    "if \"Human:\" in response:\n",
    "    response = response.split(\"Human:\")[0]\n",
    "response = response.strip()\n",
    "return response\n",
    "# await get_response(\"Hi there!\")"
   ]
  },
  {
   "attachments": {},
   "cell_type": "markdown",
   "metadata": {},
   "source": [
    "# Picker"
   ]
  },
  {
   "cell_type": "code",
   "execution_count": 2,
   "metadata": {},
   "outputs": [],
   "source": [
    "import json\n",
    "\n",
    "class AutoSaveDict(dict):\n",
    "    def __init__(self, json_file):\n",
    "        self.json_file = json_file\n",
    "        try:\n",
    "            with open(json_file, 'r') as f:\n",
    "                data = json.load(f)\n",
    "                super().__init__(data)\n",
    "        except FileNotFoundError:\n",
    "            super().__init__()\n",
    "\n",
    "    def __setitem__(self, key, value):\n",
    "        super().__setitem__(key, value)\n",
    "        self.save_to_json()\n",
    "\n",
    "    def save_to_json(self):\n",
    "        with open(self.json_file, 'w') as f:\n",
    "            json.dump(self, f, indent=4)\n",
    "config = AutoSaveDict(\"config.json\")"
   ]
  },
  {
   "cell_type": "code",
   "execution_count": 10,
   "metadata": {},
   "outputs": [],
   "source": [
    "from selenium import webdriver\n",
    "from selenium.webdriver.common.by import By\n",
    "\n",
    "driver = webdriver.Edge()\n",
    "driver.get(\"https://twitter.com\")"
   ]
  },
  {
   "cell_type": "code",
   "execution_count": 22,
   "metadata": {},
   "outputs": [
    {
     "name": "stdout",
     "output_type": "stream",
     "text": [
      "{'height': 1020, 'width': 945, 'x': 1983, 'y': 14}\n"
     ]
    }
   ],
   "source": [
    "print(driver.get_window_rect())"
   ]
  },
  {
   "cell_type": "code",
   "execution_count": 82,
   "metadata": {},
   "outputs": [
    {
     "name": "stdout",
     "output_type": "stream",
     "text": [
      "Prompting user to click\n",
      "Found element with selector /./body/./div[@id='react-root']/./div/./div/./div[@id='layers']/./div/./div/./div/./div[@role='dialog']/./div/./div/./div[@role='group'][@tabindex='0']/./div[@aria-labelledby='modal-header'][@aria-modal='true'][@role='dialog']/./div/./div/./div[@role='group'][@tabindex='0']/./div/./div/./div[@data-testid='LoginForm_Footer_Container']/./div/./div/./div/./div[@data-testid='LoginForm_Login_Button'][@role='button'][@tabindex='0']/./div[@dir='ltr']/./span/./span\n",
      "Shortened selector: /./body/./div[@id='react-root']/./div[@id='layers']/./div[@role='dialog']/./div[@role='group'][@tabindex='0']/./div[@aria-labelledby='modal-header'][@aria-modal='true'][@role='dialog']/./div[@role='group'][@tabindex='0']/./div[@data-testid='LoginForm_Footer_Container']/./div[@data-testid='LoginForm_Login_Button'][@role='button'][@tabindex='0']/./div[@dir='ltr']/./span/./span\n",
      "Refining selector with remote model\n",
      "Refined selector: //span[text()[contains(., 'Login')]]\n",
      "Refined selector: //div[@aria-labelledby='modal-header'][@aria-modal='true'][@role='dialog']//div[@role='group'][@tabindex='0']//div[@data-testid='LoginForm_Footer_Container']//div[@data-testid='LoginForm_Login_Button'][@role='button'][@tabindex='0']//div[@dir='ltr']//span//span\n"
     ]
    }
   ],
   "source": [
    "async def getSelector(thing: str):\n",
    "    print(\"Prompting user to click\")\n",
    "    selector = driver.execute_async_script(open(\"picker.js\",\"r\").read())\n",
    "    print(f\"Found element with selector {selector}\")\n",
    "    selector = selector.replace(\"./div/\", \"\")\n",
    "    print(f\"Shortened selector: {selector}\")\n",
    "\n",
    "    import requests\n",
    "    url = \"http://127.0.0.1:5000/\"\n",
    "    PROMPT_DICT = {\n",
    "        \"prompt_input\": (\n",
    "            \"Below is an instruction that describes a task, paired with an input that provides further context. \"\n",
    "            \"Write a response that correctly completes the request.\\n\\n\"\n",
    "            \"### Instruction:\\n{instruction}\\n\\n### Input:\\n{input}\\n\\n### Response:\\n\"\n",
    "        ),\n",
    "        \"prompt_no_input\": (\n",
    "            \"Below is an instruction that describes a task. \"\n",
    "            \"Write a response that correctly completes the request.\\n\\n\"\n",
    "            \"### Instruction:\\n{instruction}\\n\\n### Response:\\n\"\n",
    "        ),\n",
    "    }\n",
    "    def fmt(prompt: str, input: str = \"\") -> str:\n",
    "        if input.strip() == \"\":\n",
    "            return PROMPT_DICT['prompt_no_input'].format_map({'instruction': prompt})\n",
    "        else:\n",
    "            return PROMPT_DICT['prompt_input'].format_map({'instruction': prompt, 'input': input})\n",
    "        \n",
    "    prompts=[\n",
    "    # fmt(\n",
    "    #     \"\"\"You are a calibration engine for a web interface.\n",
    "    # The user has just indicated the log in button on a webpage.\n",
    "    # Clean up the CSS selector for the log in button.\n",
    "    # Remove any unnecessary parts, and make sure it is as short as possible.\n",
    "    # You do not need to start at the root element.\n",
    "    # Try and make it as short as possible.\n",
    "\n",
    "    # ### Example Input:\n",
    "    # body > div#react-root > div > div:n-th-of-type(2) > div > a[href=\"/home\"] > div\n",
    "\n",
    "    # ### Example Output:\n",
    "    # a[href=\"/home\"]\n",
    "    # \"\"\",\n",
    "\n",
    "    #     result),\n",
    "\n",
    "#         fmt(\n",
    "#         \"\"\"You are a calibration engine for a web interface.\n",
    "# The user has just indicated the {thing} on a webpage.\n",
    "# Clean up the XPath selector for the {thing}.\n",
    "# Remove any unnecessary parts, and make sure it is as short as possible.\n",
    "\n",
    "# ### Example Input:\n",
    "# /html/body/div[@id=\"react-root\"]/div/div[2]/div/a[@href=\"/home\"]/div\n",
    "\n",
    "# ### Example Output:\n",
    "# //a[@href=\"/home\"]\n",
    "\n",
    "# ### Example Input:\n",
    "# /./body/./div/./div[@role='group']/./div/./div/./div/./div[@role='group']/./div/./div/./div/./div/./span[contains(., 'Log out')]/./span[contains(., 'Log out')]\n",
    "\n",
    "# ### Example Output:\n",
    "# //span[text()[contains(., 'Log out')]]\n",
    "\n",
    "# ### Example Input:\n",
    "# /./div/./input[@autocomplete='username']/./input[@autocomplete='username']\n",
    "\n",
    "# ### Example Output:\n",
    "# //input[@autocomplete='username']\n",
    "# \"\"\",\n",
    "\n",
    "fmt(f\"\"\"You are a calibration engine for a web interface.\n",
    "The user has just indicated the {thing} element on a webpage.\n",
    "Clean up the XPath selector for the {thing} element by removing the unimportant parts.\n",
    "Try and make it as short as possible. Propose 3 different selectors separated by newlines.\n",
    "\n",
    "### Example Input:\n",
    "/html/body/div[@id=\"react-root\"]/div/div[2]/div/a[@href=\"/home\"]/div\n",
    "\n",
    "### Example Output:\n",
    "//a[@href=\"/home\"]\n",
    "\n",
    "### Example Input:\n",
    "/./body/./div/./div[@role='group']/./div/./div/./div/./div[@role='group']/./div/./div/./div/./div/./span[contains(., 'Log out')]/./span[contains(., 'Log out')]\n",
    "\n",
    "### Example Output:\n",
    "//span[text()[contains(., 'Log out')]]\n",
    "\"\"\",\n",
    "\n",
    "        selector),\n",
    "    ]\n",
    "    data = {\"prompts\": prompts}\n",
    "    print(\"Refining selector with remote model\")\n",
    "    response = requests.post(url, json=data).json()\n",
    "    # print(response)\n",
    "    refinedSelector = response[0].split(\"### Response:\")[1].split(\"###\")[0].strip()\n",
    "    print(f\"Refined selector: {refinedSelector}\")\n",
    "\n",
    "    refinedSelectors = refinedSelector.split(\"\\n\")\n",
    "    validSelectors = []\n",
    "    for x in refinedSelectors:\n",
    "        try:\n",
    "            assert driver.find_element(By.XPATH, x) is not None\n",
    "            validSelectors.append(x)\n",
    "        except:\n",
    "            pass\n",
    "    refinedSelector = \"\\n\".join(validSelectors)\n",
    "\n",
    "    prompts = [\n",
    "        fmt(f\"\"\"You are a calibration engine for a web interface.\n",
    "Pick the XPath selector that best matches {thing} on a webpage.\"\"\",\n",
    "        f\"{selector}\\n{refinedSelector}\")\n",
    "    ]\n",
    "    data = {\"prompts\": prompts}\n",
    "    response = requests.post(url, json=data).json()\n",
    "    refinedSelector = response[0].split(\"### Response:\")[1].split(\"###\")[0].strip()\n",
    "    print(f\"Refined selector: {refinedSelector}\")\n",
    "\n",
    "    assert driver.find_element(By.XPATH, refinedSelector) is not None\n",
    "    return refinedSelector\n",
    "config[\"logInSubmitSelector\"] = await getSelector(\"dialog login button, must be part of the form. There are more than one login buttons on the page, so be sure to be specific enough to only grab the one in the form\")\n"
   ]
  },
  {
   "cell_type": "code",
   "execution_count": 12,
   "metadata": {},
   "outputs": [],
   "source": [
    "from time import sleep"
   ]
  },
  {
   "cell_type": "code",
   "execution_count": 13,
   "metadata": {},
   "outputs": [],
   "source": [
    "def click(xpath):\n",
    "    driver.execute_script(f\"\"\"\n",
    "        document.evaluate(\n",
    "            `{xpath}`, document, null, XPathResult.FIRST_ORDERED_NODE_TYPE, null\n",
    "        ).singleNodeValue.click();\n",
    "    \"\"\")"
   ]
  },
  {
   "cell_type": "code",
   "execution_count": 14,
   "metadata": {},
   "outputs": [],
   "source": [
    "def focus(xpath):\n",
    "    \"\"\"\n",
    "    1. Insert a panel into the page to absorb a mouse click\n",
    "    2. Click the browser content area to allow for programmatic focusing of elements (browser security thing)\n",
    "    3. The panel removes itself\n",
    "    4. The element is focused\n",
    "    \"\"\"\n",
    "    import pyautogui\n",
    "    driver.execute_script(r\"\"\"\n",
    "const panel = document.createElement(\"div\");\n",
    "panel.style.position = \"fixed\";\n",
    "panel.style.top = \"0\";\n",
    "panel.style.left = \"0\";\n",
    "panel.style.width = \"100%\";\n",
    "panel.style.height = \"100%\";\n",
    "panel.style.zIndex = \"9999\";\n",
    "panel.style.background = \"rgba(0,0.5,0,0.5)\";\n",
    "panel.innerText = \"CLICK FOR FOCUS\";\n",
    "panel.style.color = \"white\";\n",
    "panel.style.fontSize = \"50px\";\n",
    "panel.style.fontFamily = \"Impact, Charcoal, sans-serif\";\n",
    "\n",
    "panel.style.display = \"flex\";\n",
    "panel.style.justifyContent = \"center\";\n",
    "panel.style.alignItems = \"center\";\n",
    "panel.style.cursor = \"pointer\";\n",
    "document.body.appendChild(panel);\n",
    "panel.addEventListener(\"click\", () => {\n",
    "    document.body.removeChild(panel);\n",
    "});\n",
    "\"\"\")\n",
    "    # click on the browser window\n",
    "    restore = pyautogui.position()\n",
    "    pyautogui.click(driver.get_window_position()['x'] + driver.get_window_size()[\"width\"]//4, driver.get_window_position()['y'] + driver.get_window_size()[\"height\"]//2)\n",
    "    pyautogui.moveTo(restore)\n",
    "\n",
    "    driver.execute_script(f\"\"\"\n",
    "        document.evaluate(\n",
    "            `{xpath}`, document, null, XPathResult.FIRST_ORDERED_NODE_TYPE, null\n",
    "        ).singleNodeValue.focus();\n",
    "    \"\"\")\n"
   ]
  },
  {
   "cell_type": "code",
   "execution_count": 15,
   "metadata": {},
   "outputs": [
    {
     "name": "stdout",
     "output_type": "stream",
     "text": [
      "Prompting user to click\n",
      "Found element with selector /./body/./div/./div/./div/./div/./div/./div/./div/./div/./div/./div/./div/./div/./div/./span[contains(., 'Log in')]/./span[contains(., 'Log in')]/./span[contains(., 'Log in')]/./span[contains(., 'Log in')]/./span[contains(., 'Log in')]\n",
      "Refining selector with remote model\n",
      "Refined selector: //span[text()[contains(., 'Log in')]]\n"
     ]
    }
   ],
   "source": [
    "config[\"logInSelector\"] = await getSelector(\"log in button\")"
   ]
  },
  {
   "cell_type": "code",
   "execution_count": 16,
   "metadata": {},
   "outputs": [],
   "source": [
    "click(config[\"logInSelector\"])"
   ]
  },
  {
   "cell_type": "code",
   "execution_count": 17,
   "metadata": {},
   "outputs": [
    {
     "name": "stdout",
     "output_type": "stream",
     "text": [
      "Prompting user to click\n",
      "Found element with selector /./body/./div/./div/./div/./div[@id='layers']/./div/./div/./div/./div/./div/./div/./div[@role='group']/./div/./div/./div/./div[@role='group']/./div/./div/./div/./div/./div/./div/./div/./input[@autocomplete='username']/./input[@autocomplete='username']/./input[@autocomplete='username']\n",
      "Refining selector with remote model\n",
      "Refined selector: //input[@autocomplete='username']\n"
     ]
    }
   ],
   "source": [
    "config[\"usernameSelector\"] = await getSelector(\"username input\")"
   ]
  },
  {
   "cell_type": "code",
   "execution_count": 23,
   "metadata": {},
   "outputs": [],
   "source": [
    "focus(config[\"usernameSelector\"])"
   ]
  },
  {
   "cell_type": "code",
   "execution_count": 19,
   "metadata": {},
   "outputs": [],
   "source": [
    "def didOnePassOpen():\n",
    "    import mss\n",
    "    import pyautogui\n",
    "    from IPython.display import display\n",
    "    from PIL import Image\n",
    "    def getMouseMonitorScreenshot():\n",
    "        # Get the current mouse position\n",
    "        mouse_x, mouse_y = pyautogui.position()\n",
    "\n",
    "        # Determine the monitor the mouse is on\n",
    "        with mss.mss() as sct:\n",
    "            target_monitor = None\n",
    "            for monitor in sct.monitors[1:]:\n",
    "                if monitor[\"left\"] <= mouse_x < monitor[\"left\"] + monitor[\"width\"] and monitor[\"top\"] <= mouse_y < monitor[\"top\"] + monitor[\"height\"]:\n",
    "                    target_monitor = monitor\n",
    "                    break\n",
    "\n",
    "            if target_monitor:\n",
    "                image = sct.grab(target_monitor)\n",
    "                return Image.frombytes(\"RGB\", image.size, image.bgra, \"raw\", \"BGRX\")\n",
    "            else:\n",
    "                return None\n",
    "    import pytesseract\n",
    "    pytesseract.pytesseract.tesseract_cmd = r\"C:\\Program Files\\Tesseract-OCR\\tesseract.exe\"\n",
    "    def recognize_text(image):\n",
    "        return pytesseract.image_to_string(image, lang=\"eng\")\n",
    "    \n",
    "    \n",
    "    text = recognize_text(getMouseMonitorScreenshot())\n",
    "    # print(\"OCR\", text)\n",
    "    if \"Search 1Password\" in text or \"Q earch 1Password\" in text:\n",
    "        return True\n",
    "    elif \"Copy Username\" in text and \"Copy Password\" in text:\n",
    "        return True\n",
    "    else:\n",
    "        return False\n"
   ]
  },
  {
   "cell_type": "code",
   "execution_count": 70,
   "metadata": {},
   "outputs": [],
   "source": [
    "import pyautogui\n",
    "pyautogui.hotkey(\"ctrl\",\"shift\",\"space\")\n",
    "sleep(0.5)\n",
    "if didOnePassOpen():\n",
    "    pyautogui.typewrite(\"twitter\")\n",
    "    sleep(0.5)\n",
    "    pyautogui.hotkey(\"ctrl\",\"c\")\n",
    "    focus(config[\"usernameSelector\"])\n",
    "    sleep(0.5)\n",
    "    pyautogui.hotkey(\"ctrl\",\"a\")\n",
    "    pyautogui.hotkey(\"ctrl\",\"v\")\n",
    "    "
   ]
  },
  {
   "cell_type": "code",
   "execution_count": 26,
   "metadata": {},
   "outputs": [
    {
     "name": "stdout",
     "output_type": "stream",
     "text": [
      "Prompting user to click\n",
      "Found element with selector /./body/./div/./div/./div/./div[@id='layers']/./div/./div/./div/./div/./div/./div/./div[@role='group']/./div/./div/./div/./div[@role='group']/./div/./div/./div/./div/./span[contains(., 'Next')]/./span[contains(., 'Next')]\n",
      "Refining selector with remote model\n",
      "Refined selector: //span[text()[contains(., 'Next')]]\n"
     ]
    }
   ],
   "source": [
    "config[\"loginNextSelector\"] = await getSelector(\"next button\")"
   ]
  },
  {
   "cell_type": "code",
   "execution_count": 71,
   "metadata": {},
   "outputs": [],
   "source": [
    "click(config[\"loginNextSelector\"])"
   ]
  },
  {
   "cell_type": "code",
   "execution_count": 53,
   "metadata": {},
   "outputs": [
    {
     "name": "stdout",
     "output_type": "stream",
     "text": [
      "Prompting user to click\n",
      "Found element with selector /./body/./div[@id='react-root']/./div/./div/./div[@id='layers']/./div/./div/./div/./div[@role='dialog']/./div/./div/./div[@role='group'][@tabindex='0']/./div[@aria-labelledby='modal-header'][@aria-modal='true'][@role='dialog']/./div/./div/./div[@role='group'][@tabindex='0']/./div/./div[@data-viewportview='true']/./div/./div/./div/./div/./label[contains(., 'Password')]/./div/./div/./div[@dir='ltr']/./input[@autocomplete='current-password'][@autocapitalize='sentences'][@autocorrect='on'][@dir='auto'][@name='password'][@spellcheck='true'][@type='password'][@value='']\n",
      "Shortened selector: /./body/./div[@id='react-root']/./div[@id='layers']/./div[@role='dialog']/./div[@role='group'][@tabindex='0']/./div[@aria-labelledby='modal-header'][@aria-modal='true'][@role='dialog']/./div[@role='group'][@tabindex='0']/./div[@data-viewportview='true']/./label[contains(., 'Password')]/./div[@dir='ltr']/./input[@autocomplete='current-password'][@autocapitalize='sentences'][@autocorrect='on'][@dir='auto'][@name='password'][@spellcheck='true'][@type='password'][@value='']\n",
      "Refining selector with remote model\n",
      "Refined selector: //input[@type='password'][@name='password'][@spellcheck='true'][@value='']\n"
     ]
    }
   ],
   "source": [
    "config[\"passwordSelector\"] = await getSelector(\"password input\")"
   ]
  },
  {
   "cell_type": "code",
   "execution_count": 54,
   "metadata": {},
   "outputs": [],
   "source": [
    "focus(config[\"passwordSelector\"])"
   ]
  },
  {
   "cell_type": "code",
   "execution_count": 72,
   "metadata": {},
   "outputs": [],
   "source": [
    "pyautogui.hotkey(\"ctrl\",\"shift\",\"space\")\n",
    "sleep(0.5)\n",
    "if didOnePassOpen():\n",
    "    pyautogui.typewrite(\"twitter\")\n",
    "    sleep(0.5)\n",
    "    pyautogui.hotkey(\"ctrl\",\"shift\",\"c\")\n",
    "    focus(config[\"passwordSelector\"])\n",
    "    sleep(0.5)\n",
    "    pyautogui.hotkey(\"ctrl\",\"a\")\n",
    "    pyautogui.hotkey(\"ctrl\",\"v\")\n",
    "else:\n",
    "    raise Exception(\"1Password not open\")"
   ]
  },
  {
   "cell_type": "code",
   "execution_count": 63,
   "metadata": {},
   "outputs": [
    {
     "name": "stdout",
     "output_type": "stream",
     "text": [
      "Prompting user to click\n",
      "Found element with selector /./body/./div[@id='react-root']/./div/./div/./div[@id='layers']/./div/./div/./div/./div[@role='dialog']/./div/./div/./div[@role='group'][@tabindex='0']/./div[@aria-labelledby='modal-header'][@aria-modal='true'][@role='dialog']/./div/./div/./div[@role='group'][@tabindex='0']/./div/./div/./div[@data-testid='LoginForm_Footer_Container']/./div/./div/./div/./div[@data-testid='LoginForm_Login_Button'][@role='button'][@tabindex='0']/./div[@dir='ltr']/./span/./span\n",
      "Shortened selector: /./body/./div[@id='react-root']/./div[@id='layers']/./div[@role='dialog']/./div[@role='group'][@tabindex='0']/./div[@aria-labelledby='modal-header'][@aria-modal='true'][@role='dialog']/./div[@role='group'][@tabindex='0']/./div[@data-testid='LoginForm_Footer_Container']/./div[@data-testid='LoginForm_Login_Button'][@role='button'][@tabindex='0']/./div[@dir='ltr']/./span/./span\n",
      "Refining selector with remote model\n",
      "Refined selector: //span[text()[contains(., 'LoginForm_Footer_Container')]]\n",
      "//span[text()[contains(., 'LoginForm_Login_Button')]]\n",
      "//button[tabindex='0'][dir='ltr'][data-testid='LoginForm_Login_Button']\n",
      "Refined selector: //span[text()[contains(., 'LoginForm_Footer_Container')]]\n",
      "//span[text()[contains(., 'LoginForm_Login_Button')]]\n",
      "//button[tabindex='0'][dir='ltr'][data-testid='LoginForm_Login_Button']\n"
     ]
    },
    {
     "ename": "NoSuchElementException",
     "evalue": "Message: no such element: Unable to locate element: {\"method\":\"xpath\",\"selector\":\"//span[text()[contains(., 'LoginForm_Footer_Container')]]\n//span[text()[contains(., 'LoginForm_Login_Button')]]\n//button[tabindex='0'][dir='ltr'][data-testid='LoginForm_Login_Button']\"}\n  (Session info: MicrosoftEdge=111.0.1661.62)\nStacktrace:\nBacktrace:\n\tMicrosoft::Applications::Events::EventProperties::SetProperty [0x00007FF72CB63C22+14194]\n\tMicrosoft::Applications::Events::EventProperty::EventProperty [0x00007FF72CAFAEC2+817458]\n\t(No symbol) [0x00007FF72C78DB50]\n\t(No symbol) [0x00007FF72C7D0585]\n\t(No symbol) [0x00007FF72C7D070C]\n\t(No symbol) [0x00007FF72C80C277]\n\t(No symbol) [0x00007FF72C7F06CF]\n\t(No symbol) [0x00007FF72C7C3121]\n\t(No symbol) [0x00007FF72C8096FE]\n\t(No symbol) [0x00007FF72C7F0343]\n\t(No symbol) [0x00007FF72C7C1FFC]\n\t(No symbol) [0x00007FF72C7C0F7E]\n\t(No symbol) [0x00007FF72C7C27EE]\n\tMicrosoft::Applications::Events::EventProperties::SetProperty [0x00007FF72C9DEAA0+180080]\n\t(No symbol) [0x00007FF72C890B17]\n\tMicrosoft::Applications::Events::EventProperty::EventProperty [0x00007FF72CA3F772+49634]\n\tMicrosoft::Applications::Events::EventProperty::EventProperty [0x00007FF72CA42975+62437]\n\tMicrosoft::Applications::Events::ILogManager::DispatchEventBroadcast [0x00007FF72CD51488+1408232]\n\tMicrosoft::Applications::Events::EventProperty::EventProperty [0x00007FF72CB033CF+851519]\n\tMicrosoft::Applications::Events::EventProperty::EventProperty [0x00007FF72CB08434+872100]\n\tMicrosoft::Applications::Events::EventProperty::EventProperty [0x00007FF72CB0858C+872444]\n\tMicrosoft::Applications::Events::EventProperty::EventProperty [0x00007FF72CB1089B+905995]\n\tBaseThreadInitThunk [0x00007FF9F8D87614+20]\n\tRtlUserThreadStart [0x00007FF9FAC426A1+33]\n",
     "output_type": "error",
     "traceback": [
      "\u001b[1;31m---------------------------------------------------------------------------\u001b[0m",
      "\u001b[1;31mNoSuchElementException\u001b[0m                    Traceback (most recent call last)",
      "Cell \u001b[1;32mIn[63], line 1\u001b[0m\n\u001b[1;32m----> 1\u001b[0m config[\u001b[39m\"\u001b[39m\u001b[39mlogInSubmitSelector\u001b[39m\u001b[39m\"\u001b[39m] \u001b[39m=\u001b[39m \u001b[39mawait\u001b[39;00m getSelector(\u001b[39m\"\u001b[39m\u001b[39mdialog login button, must be part of the form. There are more than one login buttons on the page, so be sure to be specific enough to only grab the one in the form\u001b[39m\u001b[39m\"\u001b[39m)\n",
      "Cell \u001b[1;32mIn[57], line 112\u001b[0m, in \u001b[0;36mgetSelector\u001b[1;34m(thing)\u001b[0m\n\u001b[0;32m    109\u001b[0m refinedSelector \u001b[39m=\u001b[39m response[\u001b[39m0\u001b[39m]\u001b[39m.\u001b[39msplit(\u001b[39m\"\u001b[39m\u001b[39m### Response:\u001b[39m\u001b[39m\"\u001b[39m)[\u001b[39m1\u001b[39m]\u001b[39m.\u001b[39msplit(\u001b[39m\"\u001b[39m\u001b[39m###\u001b[39m\u001b[39m\"\u001b[39m)[\u001b[39m0\u001b[39m]\u001b[39m.\u001b[39mstrip()\n\u001b[0;32m    110\u001b[0m \u001b[39mprint\u001b[39m(\u001b[39mf\u001b[39m\u001b[39m\"\u001b[39m\u001b[39mRefined selector: \u001b[39m\u001b[39m{\u001b[39;00mrefinedSelector\u001b[39m}\u001b[39;00m\u001b[39m\"\u001b[39m)\n\u001b[1;32m--> 112\u001b[0m \u001b[39massert\u001b[39;00m driver\u001b[39m.\u001b[39;49mfind_element(By\u001b[39m.\u001b[39;49mXPATH, refinedSelector) \u001b[39mis\u001b[39;00m \u001b[39mnot\u001b[39;00m \u001b[39mNone\u001b[39;00m\n\u001b[0;32m    113\u001b[0m \u001b[39mreturn\u001b[39;00m refinedSelector\n",
      "File \u001b[1;32md:\\Repos\\Other\\toolformer\\backend\\venv\\lib\\site-packages\\selenium\\webdriver\\remote\\webdriver.py:830\u001b[0m, in \u001b[0;36mWebDriver.find_element\u001b[1;34m(self, by, value)\u001b[0m\n\u001b[0;32m    827\u001b[0m     by \u001b[39m=\u001b[39m By\u001b[39m.\u001b[39mCSS_SELECTOR\n\u001b[0;32m    828\u001b[0m     value \u001b[39m=\u001b[39m \u001b[39mf\u001b[39m\u001b[39m'\u001b[39m\u001b[39m[name=\u001b[39m\u001b[39m\"\u001b[39m\u001b[39m{\u001b[39;00mvalue\u001b[39m}\u001b[39;00m\u001b[39m\"\u001b[39m\u001b[39m]\u001b[39m\u001b[39m'\u001b[39m\n\u001b[1;32m--> 830\u001b[0m \u001b[39mreturn\u001b[39;00m \u001b[39mself\u001b[39;49m\u001b[39m.\u001b[39;49mexecute(Command\u001b[39m.\u001b[39;49mFIND_ELEMENT, {\u001b[39m\"\u001b[39;49m\u001b[39musing\u001b[39;49m\u001b[39m\"\u001b[39;49m: by, \u001b[39m\"\u001b[39;49m\u001b[39mvalue\u001b[39;49m\u001b[39m\"\u001b[39;49m: value})[\u001b[39m\"\u001b[39m\u001b[39mvalue\u001b[39m\u001b[39m\"\u001b[39m]\n",
      "File \u001b[1;32md:\\Repos\\Other\\toolformer\\backend\\venv\\lib\\site-packages\\selenium\\webdriver\\remote\\webdriver.py:440\u001b[0m, in \u001b[0;36mWebDriver.execute\u001b[1;34m(self, driver_command, params)\u001b[0m\n\u001b[0;32m    438\u001b[0m response \u001b[39m=\u001b[39m \u001b[39mself\u001b[39m\u001b[39m.\u001b[39mcommand_executor\u001b[39m.\u001b[39mexecute(driver_command, params)\n\u001b[0;32m    439\u001b[0m \u001b[39mif\u001b[39;00m response:\n\u001b[1;32m--> 440\u001b[0m     \u001b[39mself\u001b[39;49m\u001b[39m.\u001b[39;49merror_handler\u001b[39m.\u001b[39;49mcheck_response(response)\n\u001b[0;32m    441\u001b[0m     response[\u001b[39m\"\u001b[39m\u001b[39mvalue\u001b[39m\u001b[39m\"\u001b[39m] \u001b[39m=\u001b[39m \u001b[39mself\u001b[39m\u001b[39m.\u001b[39m_unwrap_value(response\u001b[39m.\u001b[39mget(\u001b[39m\"\u001b[39m\u001b[39mvalue\u001b[39m\u001b[39m\"\u001b[39m, \u001b[39mNone\u001b[39;00m))\n\u001b[0;32m    442\u001b[0m     \u001b[39mreturn\u001b[39;00m response\n",
      "File \u001b[1;32md:\\Repos\\Other\\toolformer\\backend\\venv\\lib\\site-packages\\selenium\\webdriver\\remote\\errorhandler.py:245\u001b[0m, in \u001b[0;36mErrorHandler.check_response\u001b[1;34m(self, response)\u001b[0m\n\u001b[0;32m    243\u001b[0m         alert_text \u001b[39m=\u001b[39m value[\u001b[39m\"\u001b[39m\u001b[39malert\u001b[39m\u001b[39m\"\u001b[39m]\u001b[39m.\u001b[39mget(\u001b[39m\"\u001b[39m\u001b[39mtext\u001b[39m\u001b[39m\"\u001b[39m)\n\u001b[0;32m    244\u001b[0m     \u001b[39mraise\u001b[39;00m exception_class(message, screen, stacktrace, alert_text)  \u001b[39m# type: ignore[call-arg]  # mypy is not smart enough here\u001b[39;00m\n\u001b[1;32m--> 245\u001b[0m \u001b[39mraise\u001b[39;00m exception_class(message, screen, stacktrace)\n",
      "\u001b[1;31mNoSuchElementException\u001b[0m: Message: no such element: Unable to locate element: {\"method\":\"xpath\",\"selector\":\"//span[text()[contains(., 'LoginForm_Footer_Container')]]\n//span[text()[contains(., 'LoginForm_Login_Button')]]\n//button[tabindex='0'][dir='ltr'][data-testid='LoginForm_Login_Button']\"}\n  (Session info: MicrosoftEdge=111.0.1661.62)\nStacktrace:\nBacktrace:\n\tMicrosoft::Applications::Events::EventProperties::SetProperty [0x00007FF72CB63C22+14194]\n\tMicrosoft::Applications::Events::EventProperty::EventProperty [0x00007FF72CAFAEC2+817458]\n\t(No symbol) [0x00007FF72C78DB50]\n\t(No symbol) [0x00007FF72C7D0585]\n\t(No symbol) [0x00007FF72C7D070C]\n\t(No symbol) [0x00007FF72C80C277]\n\t(No symbol) [0x00007FF72C7F06CF]\n\t(No symbol) [0x00007FF72C7C3121]\n\t(No symbol) [0x00007FF72C8096FE]\n\t(No symbol) [0x00007FF72C7F0343]\n\t(No symbol) [0x00007FF72C7C1FFC]\n\t(No symbol) [0x00007FF72C7C0F7E]\n\t(No symbol) [0x00007FF72C7C27EE]\n\tMicrosoft::Applications::Events::EventProperties::SetProperty [0x00007FF72C9DEAA0+180080]\n\t(No symbol) [0x00007FF72C890B17]\n\tMicrosoft::Applications::Events::EventProperty::EventProperty [0x00007FF72CA3F772+49634]\n\tMicrosoft::Applications::Events::EventProperty::EventProperty [0x00007FF72CA42975+62437]\n\tMicrosoft::Applications::Events::ILogManager::DispatchEventBroadcast [0x00007FF72CD51488+1408232]\n\tMicrosoft::Applications::Events::EventProperty::EventProperty [0x00007FF72CB033CF+851519]\n\tMicrosoft::Applications::Events::EventProperty::EventProperty [0x00007FF72CB08434+872100]\n\tMicrosoft::Applications::Events::EventProperty::EventProperty [0x00007FF72CB0858C+872444]\n\tMicrosoft::Applications::Events::EventProperty::EventProperty [0x00007FF72CB1089B+905995]\n\tBaseThreadInitThunk [0x00007FF9F8D87614+20]\n\tRtlUserThreadStart [0x00007FF9FAC426A1+33]\n"
     ]
    }
   ],
   "source": [
    "config[\"logInSubmitSelector\"] = await getSelector(\"dialog login button, must be part of the form. There are more than one login buttons on the page, so be sure to be specific enough to only grab the one in the form\")"
   ]
  },
  {
   "cell_type": "code",
   "execution_count": 94,
   "metadata": {},
   "outputs": [],
   "source": [
    "click(config[\"logInSubmitSelector\"])"
   ]
  },
  {
   "attachments": {},
   "cell_type": "markdown",
   "metadata": {},
   "source": [
    "# Tweet gatherer"
   ]
  },
  {
   "cell_type": "code",
   "execution_count": null,
   "metadata": {},
   "outputs": [],
   "source": [
    "program = \"\"\"\n",
    "Go to twitter.com.\n",
    "Check if the user is logged in. If there is \"\"\""
   ]
  },
  {
   "cell_type": "code",
   "execution_count": 37,
   "metadata": {},
   "outputs": [],
   "source": [
    "from selenium import webdriver\n",
    "from selenium.webdriver.common.keys import Keys\n",
    "\n",
    "driver = webdriver.Edge()\n",
    "driver.get(\"https://twitter.com\")\n"
   ]
  },
  {
   "attachments": {},
   "cell_type": "markdown",
   "metadata": {},
   "source": [
    "# Forge MDK"
   ]
  },
  {
   "cell_type": "code",
   "execution_count": null,
   "metadata": {},
   "outputs": [
    {
     "name": "stdout",
     "output_type": "stream",
     "text": [
      "href: https://maven.minecraftforge.net/net/minecraftforge/forge/1.19.3-44.1.23/forge-1.19.3-44.1.23-mdk.zip\n"
     ]
    }
   ],
   "source": [
    "from selenium import webdriver\n",
    "from selenium.webdriver.common.by import By\n",
    "from selenium.webdriver.edge.options import Options as EdgeOptions\n",
    "from pathlib import Path\n",
    "\n",
    "downloads_dir = Path(\"downloads\")\n",
    "downloads_dir.mkdir(exist_ok=True)\n",
    "# from msedge.selenium_tools import EdgeOptions\n",
    "options = EdgeOptions()\n",
    "options.add_experimental_option(\"prefs\", {\n",
    "    \"download.default_directory\": str(downloads_dir),\n",
    "    \"download.directory_upgrade\": True,\n",
    "})\n",
    "# options.add_argument(\"--headless\")\n",
    "# options.add_argument(\"--disable-gpu\") \n",
    "browser = webdriver.Edge(options=options)\n",
    "browser.set_window_position(1920,0)\n",
    "browser.get(\"https://files.minecraftforge.net/\")\n",
    "href = browser.find_element(By.CSS_SELECTOR, \"a[title='Mdk']\").get_attribute(\"href\")\n",
    "href = href.split(\"&url=\")[1]\n",
    "browser.get(href)\n",
    "# browser.close()\n",
    "# del browser\n",
    "print(f\"href: {href}\")"
   ]
  },
  {
   "cell_type": "code",
   "execution_count": null,
   "metadata": {},
   "outputs": [
    {
     "name": "stdout",
     "output_type": "stream",
     "text": [
      "d:\\Repos\\Other\\toolformer\\backend\\src\n",
      "hehe\n"
     ]
    },
    {
     "name": "stderr",
     "output_type": "stream",
     "text": [
      "Traceback (most recent call last):\n",
      "  File \"d:\\Repos\\Other\\toolformer\\backend\\venv\\lib\\site-packages\\selenium\\webdriver\\common\\service.py\", line 72, in start\n",
      "    self.process = subprocess.Popen(cmd, env=self.env,\n",
      "  File \"C:\\Users\\TeamD\\.conda\\envs\\3.10\\lib\\subprocess.py\", line 971, in __init__\n",
      "    self._execute_child(args, executable, preexec_fn, close_fds,\n",
      "  File \"C:\\Users\\TeamD\\.conda\\envs\\3.10\\lib\\subprocess.py\", line 1440, in _execute_child\n",
      "    hp, ht, pid, tid = _winapi.CreateProcess(executable, args,\n",
      "FileNotFoundError: [WinError 2] The system cannot find the file specified\n",
      "\n",
      "During handling of the above exception, another exception occurred:\n",
      "\n",
      "Traceback (most recent call last):\n",
      "  File \"d:\\Repos\\Other\\toolformer\\backend\\src\\tools\\helpers.py\", line 35, in handle_tool_invocation\n",
      "    result = tool.method(params)\n",
      "  File \"d:\\Repos\\Other\\toolformer\\backend\\src\\tools\\edge.py\", line 31, in invoke\n",
      "    driver = Edge(options=options)\n",
      "  File \"d:\\Repos\\Other\\toolformer\\backend\\venv\\lib\\site-packages\\msedge\\selenium_tools\\webdriver.py\", line 104, in __init__\n",
      "    self.service.start()\n",
      "  File \"d:\\Repos\\Other\\toolformer\\backend\\venv\\lib\\site-packages\\selenium\\webdriver\\common\\service.py\", line 81, in start\n",
      "    raise WebDriverException(\n",
      "selenium.common.exceptions.WebDriverException: Message: 'msedgedriver' executable needs to be in PATH. Please download from http://go.microsoft.com/fwlink/?LinkId=619687\n",
      "\n"
     ]
    },
    {
     "data": {
      "text/plain": [
       "(True,\n",
       " \"ERROR: Message: 'msedgedriver' executable needs to be in PATH. Please download from http://go.microsoft.com/fwlink/?LinkId=619687\\n\")"
      ]
     },
     "metadata": {},
     "output_type": "display_data"
    }
   ],
   "source": [
    "%cd ../../src\n",
    "from tools.forge_mdk import ForgeMDKTool\n",
    "from tools.helpers import handle_tool_invocation\n",
    "# tool = ForgeMDKTool()\n",
    "# tool.invoke(\"latest\")\n",
    "await handle_tool_invocation(\"[EDGE(open https://files.minecraftforge.net/) ->\")"
   ]
  }
 ],
 "metadata": {
  "kernelspec": {
   "display_name": "venv",
   "language": "python",
   "name": "python3"
  },
  "language_info": {
   "codemirror_mode": {
    "name": "ipython",
    "version": 3
   },
   "file_extension": ".py",
   "mimetype": "text/x-python",
   "name": "python",
   "nbconvert_exporter": "python",
   "pygments_lexer": "ipython3",
   "version": "3.10.9"
  },
  "orig_nbformat": 4
 },
 "nbformat": 4,
 "nbformat_minor": 2
}
