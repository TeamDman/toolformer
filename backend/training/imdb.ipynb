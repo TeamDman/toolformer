{
 "cells": [
  {
   "cell_type": "code",
   "execution_count": null,
   "metadata": {},
   "outputs": [],
   "source": [
    "# from dataclasses import dataclass, field\n",
    "# from itertools import chain\n",
    "# from typing import Optional\n",
    "\n",
    "# import torch\n",
    "# import transformers\n",
    "\n",
    "# from peft import LoraConfig, PeftConfig, PeftModel, get_peft_model, prepare_model_for_int8_training\n",
    "# from transformers import AutoModelForCausalLM, AutoTokenizer, HfArgumentParser, TrainingArguments"
   ]
  },
  {
   "attachments": {},
   "cell_type": "markdown",
   "metadata": {},
   "source": [
    "https://github.com/lvwerra/trl/blob/main/examples/sentiment/scripts/gpt-neox-20b_peft/clm_finetune_peft_imdb.py"
   ]
  },
  {
   "cell_type": "code",
   "execution_count": 1,
   "metadata": {},
   "outputs": [
    {
     "name": "stderr",
     "output_type": "stream",
     "text": [
      "d:\\Repos\\Other\\toolformer\\backend\\venv\\lib\\site-packages\\tqdm\\auto.py:21: TqdmWarning: IProgress not found. Please update jupyter and ipywidgets. See https://ipywidgets.readthedocs.io/en/stable/user_install.html\n",
      "  from .autonotebook import tqdm as notebook_tqdm\n",
      "Downloading builder script: 100%|██████████| 4.31k/4.31k [00:00<00:00, 4.31MB/s]\n",
      "Downloading metadata: 100%|██████████| 2.17k/2.17k [00:00<00:00, 2.17MB/s]\n",
      "Downloading readme: 100%|██████████| 7.59k/7.59k [00:00<00:00, 3.80MB/s]\n"
     ]
    },
    {
     "name": "stdout",
     "output_type": "stream",
     "text": [
      "Downloading and preparing dataset imdb/plain_text to C:/Users/TeamD/.cache/huggingface/datasets/imdb/plain_text/1.0.0/d613c88cf8fa3bab83b4ded3713f1f74830d1100e171db75bbddb80b3345c9c0...\n"
     ]
    },
    {
     "name": "stderr",
     "output_type": "stream",
     "text": [
      "Downloading data: 100%|██████████| 84.1M/84.1M [00:07<00:00, 11.2MB/s]\n",
      "                                                                                             \r"
     ]
    },
    {
     "name": "stdout",
     "output_type": "stream",
     "text": [
      "Dataset imdb downloaded and prepared to C:/Users/TeamD/.cache/huggingface/datasets/imdb/plain_text/1.0.0/d613c88cf8fa3bab83b4ded3713f1f74830d1100e171db75bbddb80b3345c9c0. Subsequent calls will reuse this data.\n"
     ]
    },
    {
     "name": "stderr",
     "output_type": "stream",
     "text": [
      "100%|██████████| 3/3 [00:00<00:00, 75.00it/s]\n"
     ]
    }
   ],
   "source": [
    "from datasets import load_dataset\n",
    "data = load_dataset(\"imdb\")"
   ]
  },
  {
   "cell_type": "code",
   "execution_count": 8,
   "metadata": {},
   "outputs": [
    {
     "name": "stdout",
     "output_type": "stream",
     "text": [
      "{'label': [0, 0, 0],\n",
      " 'text': ['I rented I AM CURIOUS-YELLOW from my video store because of all the '\n",
      "          'controversy that surrounded it when it was first released in 1967. '\n",
      "          'I also heard that at first it was seized by U.S. customs if it ever '\n",
      "          'tried to enter this country, therefore being a fan of films '\n",
      "          'considered \"controversial\" I really had to see this for myself.<br '\n",
      "          '/><br />The plot is centered around a young Swedish drama student '\n",
      "          'named Lena who wants to learn everything she can about life. In '\n",
      "          'particular she wants to focus her attentions to making some sort of '\n",
      "          'documentary on what the average Swede thought about certain '\n",
      "          'political issues such as the Vietnam War and race issues in the '\n",
      "          'United States. In between asking politicians and ordinary denizens '\n",
      "          'of Stockholm about their opinions on politics, she has sex with her '\n",
      "          'drama teacher, classmates, and married men.<br /><br />What kills '\n",
      "          'me about I AM CURIOUS-YELLOW is that 40 years ago, this was '\n",
      "          'considered pornographic. Really, the sex and nudity scenes are few '\n",
      "          \"and far between, even then it's not shot like some cheaply made \"\n",
      "          'porno. While my countrymen mind find it shocking, in reality sex '\n",
      "          'and nudity are a major staple in Swedish cinema. Even Ingmar '\n",
      "          'Bergman, arguably their answer to good old boy John Ford, had sex '\n",
      "          'scenes in his films.<br /><br />I do commend the filmmakers for the '\n",
      "          'fact that any sex shown in the film is shown for artistic purposes '\n",
      "          'rather than just to shock people and make money to be shown in '\n",
      "          'pornographic theaters in America. I AM CURIOUS-YELLOW is a good '\n",
      "          'film for anyone wanting to study the meat and potatoes (no pun '\n",
      "          \"intended) of Swedish cinema. But really, this film doesn't have \"\n",
      "          'much of a plot.',\n",
      "          '\"I Am Curious: Yellow\" is a risible and pretentious steaming pile. '\n",
      "          \"It doesn't matter what one's political views are because this film \"\n",
      "          'can hardly be taken seriously on any level. As for the claim that '\n",
      "          \"frontal male nudity is an automatic NC-17, that isn't true. I've \"\n",
      "          'seen R-rated films with male nudity. Granted, they only offer some '\n",
      "          'fleeting views, but where are the R-rated films with gaping vulvas '\n",
      "          \"and flapping labia? Nowhere, because they don't exist. The same \"\n",
      "          'goes for those crappy cable shows: schlongs swinging in the breeze '\n",
      "          'but not a clitoris in sight. And those pretentious indie movies '\n",
      "          \"like The Brown Bunny, in which we're treated to the site of Vincent \"\n",
      "          \"Gallo's throbbing johnson, but not a trace of pink visible on Chloe \"\n",
      "          'Sevigny. Before crying (or implying) \"double-standard\" in matters '\n",
      "          'of nudity, the mentally obtuse should take into account one '\n",
      "          'unavoidably obvious anatomical difference between men and women: '\n",
      "          'there are no genitals on display when actresses appears nude, and '\n",
      "          \"the same cannot be said for a man. In fact, you generally won't see \"\n",
      "          'female genitals in an American film in anything short of porn or '\n",
      "          'explicit erotica. This alleged double-standard is less a double '\n",
      "          'standard than an admittedly depressing ability to come to terms '\n",
      "          \"culturally with the insides of women's bodies.\",\n",
      "          'If only to avoid making this type of film in the future. This film '\n",
      "          'is interesting as an experiment but tells no cogent story.<br /><br '\n",
      "          '/>One might feel virtuous for sitting thru it because it touches on '\n",
      "          'so many IMPORTANT issues but it does so without any discernable '\n",
      "          'motive. The viewer comes away with no new perspectives (unless one '\n",
      "          \"comes up with one while one's mind wanders, as it will invariably \"\n",
      "          'do during this pointless film).<br /><br />One might better spend '\n",
      "          \"one's time staring out a window at a tree growing.<br /><br />\"]}\n"
     ]
    }
   ],
   "source": [
    "from pprint import pprint\n",
    "pprint(data[\"train\"][0:3])"
   ]
  },
  {
   "cell_type": "code",
   "execution_count": null,
   "metadata": {},
   "outputs": [],
   "source": [
    "\n",
    "columns = data[\"train\"].features\n",
    "data = data.map(lambda samples: tokenizer(samples[\"text\"]), batched=True, remove_columns=columns)\n",
    "data = data.map(group_texts, batched=True)"
   ]
  }
 ],
 "metadata": {
  "kernelspec": {
   "display_name": "venv",
   "language": "python",
   "name": "python3"
  },
  "language_info": {
   "codemirror_mode": {
    "name": "ipython",
    "version": 3
   },
   "file_extension": ".py",
   "mimetype": "text/x-python",
   "name": "python",
   "nbconvert_exporter": "python",
   "pygments_lexer": "ipython3",
   "version": "3.10.9"
  },
  "orig_nbformat": 4
 },
 "nbformat": 4,
 "nbformat_minor": 2
}
