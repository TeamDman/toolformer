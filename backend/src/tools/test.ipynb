{
 "cells": [
  {
   "cell_type": "code",
   "execution_count": 2,
   "metadata": {},
   "outputs": [
    {
     "name": "stdout",
     "output_type": "stream",
     "text": [
      "[WinError 2] The system cannot find the file specified: '../../src'\n",
      "d:\\Repos\\Other\\toolformer\\src\n",
      "NOW() -> 2023-03-03 19:25:46.213923\n",
      "WEEKDAY(2023-03-03) -> Friday\n",
      "MATH(9+10) -> 19.0000000000000\n",
      "SNAP(Chrome, left) -> Chrome not found\n"
     ]
    }
   ],
   "source": [
    "%cd ../../src\n",
    "import re\n",
    "from helpers import tools\n",
    "pattern = r\".*?\\((.*?)\\).*?\"\n",
    "for tool in tools:\n",
    "    found = re.match(pattern, tool.examples[0].output, re.DOTALL)\n",
    "    assert found\n",
    "    params = found.group(1)\n",
    "    output = tool.method(params)\n",
    "    print(f\"{tool.name}({params}) -> {output}\")\n"
   ]
  },
  {
   "cell_type": "code",
   "execution_count": 2,
   "metadata": {},
   "outputs": [
    {
     "name": "stdout",
     "output_type": "stream",
     "text": [
      "[WinError 2] The system cannot find the file specified: '../../src'\n",
      "d:\\Repos\\Other\\toolformer\\src\n",
      "(1639808, 'Apashe - Golden Empire feat. Zitaa - Original Mix', 'Spotify.exe')\n"
     ]
    }
   ],
   "source": [
    "\n",
    "%cd ../../src\n",
    "from tools.snap import SnapTool\n",
    "tool = SnapTool()\n",
    "found = tool.get_process_by_natural_name(\"Spotify\")\n",
    "print(found)"
   ]
  },
  {
   "cell_type": "code",
   "execution_count": 3,
   "metadata": {},
   "outputs": [
    {
     "data": {
      "text/plain": [
       "[(66014, '', 'explorer.exe'),\n",
       " (65992, '', 'explorer.exe'),\n",
       " (65844, '', 'explorer.exe'),\n",
       " (2033850, '● test.ipynb - toolformer - Visual Studio Code', 'Code.exe'),\n",
       " (66890,\n",
       "  'ShowWindow function (winuser.h) - Win32 apps | Microsoft Learn and 6 more pages - Personal - Microsoft\\u200b Edge Dev',\n",
       "  'msedge.exe'),\n",
       " (525798, '#memes | Guh-Uh-Guys - Discord', 'Discord.exe'),\n",
       " (1639808, 'Apashe - Golden Empire feat. Zitaa - Original Mix', 'Spotify.exe'),\n",
       " (330138, '', 'ApplicationFrameHost.exe'),\n",
       " (133606, '', 'explorer.exe'),\n",
       " (330128, 'Clock', 'ApplicationFrameHost.exe'),\n",
       " (395718, 'Clock', 'Time.exe'),\n",
       " (67924, 'Groove Music', 'Music.UI.exe'),\n",
       " (330034, 'Groove Music', 'ApplicationFrameHost.exe'),\n",
       " (328348, 'Settings', 'SystemSettings.exe'),\n",
       " (197282, 'Settings', 'ApplicationFrameHost.exe'),\n",
       " (66120, '', 'explorer.exe'),\n",
       " (66138, '', 'explorer.exe'),\n",
       " (66156, '', 'explorer.exe'),\n",
       " (66164, '', 'explorer.exe'),\n",
       " (66090, '', 'explorer.exe'),\n",
       " (66088, '', 'explorer.exe'),\n",
       " (66450, 'Microsoft Text Input Application', 'TextInputHost.exe'),\n",
       " (3279430, '', 'explorer.exe'),\n",
       " (1508956, '', 'explorer.exe'),\n",
       " (66046, 'Program Manager', 'explorer.exe')]"
      ]
     },
     "execution_count": 3,
     "metadata": {},
     "output_type": "execute_result"
    }
   ],
   "source": [
    "tool.list_windows()"
   ]
  },
  {
   "cell_type": "code",
   "execution_count": 24,
   "metadata": {},
   "outputs": [
    {
     "name": "stdout",
     "output_type": "stream",
     "text": [
      "(1639808, 'VSNS - Five Days of Light', 'Spotify.exe')\n"
     ]
    },
    {
     "data": {
      "text/plain": [
       "24"
      ]
     },
     "execution_count": 24,
     "metadata": {},
     "output_type": "execute_result"
    }
   ],
   "source": [
    "import ctypes\n",
    "user32 = ctypes.windll.user32\n",
    "found = tool.get_process_by_natural_name(\"Spotify\")\n",
    "print(found)\n",
    "assert found is not None\n",
    "handle, title, exe = found\n",
    "user32.ShowWindow(handle, 3)"
   ]
  }
 ],
 "metadata": {
  "kernelspec": {
   "display_name": "venv",
   "language": "python",
   "name": "python3"
  },
  "language_info": {
   "codemirror_mode": {
    "name": "ipython",
    "version": 3
   },
   "file_extension": ".py",
   "mimetype": "text/x-python",
   "name": "python",
   "nbconvert_exporter": "python",
   "pygments_lexer": "ipython3",
   "version": "3.10.9"
  },
  "orig_nbformat": 4,
  "vscode": {
   "interpreter": {
    "hash": "e00874b6988a7999354735cded7abcfddd61bc52daa5a68bebc5283a04aa2a03"
   }
  }
 },
 "nbformat": 4,
 "nbformat_minor": 2
}
