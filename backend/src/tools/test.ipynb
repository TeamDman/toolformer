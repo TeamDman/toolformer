{
 "cells": [
  {
   "attachments": {},
   "cell_type": "markdown",
   "metadata": {},
   "source": [
    "# Snap"
   ]
  },
  {
   "cell_type": "code",
   "execution_count": 2,
   "metadata": {},
   "outputs": [
    {
     "name": "stdout",
     "output_type": "stream",
     "text": [
      "[WinError 2] The system cannot find the file specified: '../../src'\n",
      "d:\\Repos\\Other\\toolformer\\src\n",
      "NOW() -> 2023-03-03 19:25:46.213923\n",
      "WEEKDAY(2023-03-03) -> Friday\n",
      "MATH(9+10) -> 19.0000000000000\n",
      "SNAP(Chrome, left) -> Chrome not found\n"
     ]
    }
   ],
   "source": [
    "%cd ../../src\n",
    "import re\n",
    "from helpers import tools\n",
    "pattern = r\".*?\\((.*?)\\).*?\"\n",
    "for tool in tools:\n",
    "    found = re.match(pattern, tool.examples[0].output, re.DOTALL)\n",
    "    assert found\n",
    "    params = found.group(1)\n",
    "    output = tool.method(params)\n",
    "    print(f\"{tool.name}({params}) -> {output}\")\n"
   ]
  },
  {
   "cell_type": "code",
   "execution_count": 1,
   "metadata": {},
   "outputs": [
    {
     "name": "stdout",
     "output_type": "stream",
     "text": [
      "d:\\Repos\\Other\\toolformer\\backend\\src\n",
      "(985734, 'Untitled - Notepad', 'notepad.exe')\n"
     ]
    },
    {
     "name": "stderr",
     "output_type": "stream",
     "text": [
      "d:\\Repos\\Other\\toolformer\\backend\\venv\\lib\\site-packages\\fuzzywuzzy\\fuzz.py:11: UserWarning: Using slow pure-python SequenceMatcher. Install python-Levenshtein to remove this warning\n",
      "  warnings.warn('Using slow pure-python SequenceMatcher. Install python-Levenshtein to remove this warning')\n"
     ]
    }
   ],
   "source": [
    "\n",
    "%cd ../../src\n",
    "from tools.snap import SnapTool\n",
    "tool = SnapTool()\n",
    "found = tool.get_process_by_natural_name(\"No pad\")\n",
    "print(found)"
   ]
  },
  {
   "cell_type": "code",
   "execution_count": 3,
   "metadata": {},
   "outputs": [
    {
     "data": {
      "text/plain": [
       "[(66014, '', 'explorer.exe'),\n",
       " (65992, '', 'explorer.exe'),\n",
       " (65844, '', 'explorer.exe'),\n",
       " (2033850, '● test.ipynb - toolformer - Visual Studio Code', 'Code.exe'),\n",
       " (66890,\n",
       "  'ShowWindow function (winuser.h) - Win32 apps | Microsoft Learn and 6 more pages - Personal - Microsoft\\u200b Edge Dev',\n",
       "  'msedge.exe'),\n",
       " (525798, '#memes | Guh-Uh-Guys - Discord', 'Discord.exe'),\n",
       " (1639808, 'Apashe - Golden Empire feat. Zitaa - Original Mix', 'Spotify.exe'),\n",
       " (330138, '', 'ApplicationFrameHost.exe'),\n",
       " (133606, '', 'explorer.exe'),\n",
       " (330128, 'Clock', 'ApplicationFrameHost.exe'),\n",
       " (395718, 'Clock', 'Time.exe'),\n",
       " (67924, 'Groove Music', 'Music.UI.exe'),\n",
       " (330034, 'Groove Music', 'ApplicationFrameHost.exe'),\n",
       " (328348, 'Settings', 'SystemSettings.exe'),\n",
       " (197282, 'Settings', 'ApplicationFrameHost.exe'),\n",
       " (66120, '', 'explorer.exe'),\n",
       " (66138, '', 'explorer.exe'),\n",
       " (66156, '', 'explorer.exe'),\n",
       " (66164, '', 'explorer.exe'),\n",
       " (66090, '', 'explorer.exe'),\n",
       " (66088, '', 'explorer.exe'),\n",
       " (66450, 'Microsoft Text Input Application', 'TextInputHost.exe'),\n",
       " (3279430, '', 'explorer.exe'),\n",
       " (1508956, '', 'explorer.exe'),\n",
       " (66046, 'Program Manager', 'explorer.exe')]"
      ]
     },
     "execution_count": 3,
     "metadata": {},
     "output_type": "execute_result"
    }
   ],
   "source": [
    "tool.list_windows()"
   ]
  },
  {
   "cell_type": "code",
   "execution_count": 24,
   "metadata": {},
   "outputs": [
    {
     "name": "stdout",
     "output_type": "stream",
     "text": [
      "(1639808, 'VSNS - Five Days of Light', 'Spotify.exe')\n"
     ]
    },
    {
     "data": {
      "text/plain": [
       "24"
      ]
     },
     "execution_count": 24,
     "metadata": {},
     "output_type": "execute_result"
    }
   ],
   "source": [
    "import ctypes\n",
    "user32 = ctypes.windll.user32\n",
    "found = tool.get_process_by_natural_name(\"Spotify\")\n",
    "print(found)\n",
    "assert found is not None\n",
    "handle, title, exe = found\n",
    "user32.ShowWindow(handle, 3)"
   ]
  },
  {
   "attachments": {},
   "cell_type": "markdown",
   "metadata": {},
   "source": [
    "# Forge MDK"
   ]
  },
  {
   "cell_type": "code",
   "execution_count": 2,
   "metadata": {},
   "outputs": [],
   "source": [
    "%load_ext autoreload\n",
    "%autoreload 2"
   ]
  },
  {
   "cell_type": "code",
   "execution_count": 12,
   "metadata": {},
   "outputs": [
    {
     "name": "stdout",
     "output_type": "stream",
     "text": [
      "3.141.0\n"
     ]
    }
   ],
   "source": [
    "import selenium\n",
    "print(selenium.__version__)"
   ]
  },
  {
   "cell_type": "code",
   "execution_count": 15,
   "metadata": {},
   "outputs": [],
   "source": []
  },
  {
   "cell_type": "code",
   "execution_count": 17,
   "metadata": {},
   "outputs": [
    {
     "name": "stdout",
     "output_type": "stream",
     "text": [
      "href: https://maven.minecraftforge.net/net/minecraftforge/forge/1.19.3-44.1.23/forge-1.19.3-44.1.23-mdk.zip\n"
     ]
    }
   ],
   "source": [
    "from selenium import webdriver\n",
    "from selenium.webdriver.common.by import By\n",
    "from selenium.webdriver.edge.options import Options as EdgeOptions\n",
    "from pathlib import Path\n",
    "\n",
    "downloads_dir = Path(\"downloads\")\n",
    "downloads_dir.mkdir(exist_ok=True)\n",
    "# from msedge.selenium_tools import EdgeOptions\n",
    "options = EdgeOptions()\n",
    "options.add_experimental_option(\"prefs\", {\n",
    "    \"download.default_directory\": str(downloads_dir),\n",
    "    \"download.directory_upgrade\": True,\n",
    "})\n",
    "# options.add_argument(\"--headless\")\n",
    "# options.add_argument(\"--disable-gpu\") \n",
    "browser = webdriver.Edge(options=options)\n",
    "browser.set_window_position(1920,0)\n",
    "browser.get(\"https://files.minecraftforge.net/\")\n",
    "href = browser.find_element(By.CSS_SELECTOR, \"a[title='Mdk']\").get_attribute(\"href\")\n",
    "href = href.split(\"&url=\")[1]\n",
    "browser.get(href)\n",
    "# browser.close()\n",
    "# del browser\n",
    "print(f\"href: {href}\")"
   ]
  },
  {
   "cell_type": "code",
   "execution_count": 1,
   "metadata": {},
   "outputs": [
    {
     "name": "stdout",
     "output_type": "stream",
     "text": [
      "d:\\Repos\\Other\\toolformer\\backend\\src\n",
      "hehe\n"
     ]
    },
    {
     "name": "stderr",
     "output_type": "stream",
     "text": [
      "Traceback (most recent call last):\n",
      "  File \"d:\\Repos\\Other\\toolformer\\backend\\venv\\lib\\site-packages\\selenium\\webdriver\\common\\service.py\", line 72, in start\n",
      "    self.process = subprocess.Popen(cmd, env=self.env,\n",
      "  File \"C:\\Users\\TeamD\\.conda\\envs\\3.10\\lib\\subprocess.py\", line 971, in __init__\n",
      "    self._execute_child(args, executable, preexec_fn, close_fds,\n",
      "  File \"C:\\Users\\TeamD\\.conda\\envs\\3.10\\lib\\subprocess.py\", line 1440, in _execute_child\n",
      "    hp, ht, pid, tid = _winapi.CreateProcess(executable, args,\n",
      "FileNotFoundError: [WinError 2] The system cannot find the file specified\n",
      "\n",
      "During handling of the above exception, another exception occurred:\n",
      "\n",
      "Traceback (most recent call last):\n",
      "  File \"d:\\Repos\\Other\\toolformer\\backend\\src\\tools\\helpers.py\", line 35, in handle_tool_invocation\n",
      "    result = tool.method(params)\n",
      "  File \"d:\\Repos\\Other\\toolformer\\backend\\src\\tools\\edge.py\", line 31, in invoke\n",
      "    driver = Edge(options=options)\n",
      "  File \"d:\\Repos\\Other\\toolformer\\backend\\venv\\lib\\site-packages\\msedge\\selenium_tools\\webdriver.py\", line 104, in __init__\n",
      "    self.service.start()\n",
      "  File \"d:\\Repos\\Other\\toolformer\\backend\\venv\\lib\\site-packages\\selenium\\webdriver\\common\\service.py\", line 81, in start\n",
      "    raise WebDriverException(\n",
      "selenium.common.exceptions.WebDriverException: Message: 'msedgedriver' executable needs to be in PATH. Please download from http://go.microsoft.com/fwlink/?LinkId=619687\n",
      "\n"
     ]
    },
    {
     "data": {
      "text/plain": [
       "(True,\n",
       " \"ERROR: Message: 'msedgedriver' executable needs to be in PATH. Please download from http://go.microsoft.com/fwlink/?LinkId=619687\\n\")"
      ]
     },
     "execution_count": 1,
     "metadata": {},
     "output_type": "execute_result"
    }
   ],
   "source": [
    "%cd ../../src\n",
    "from tools.forge_mdk import ForgeMDKTool\n",
    "from tools.helpers import handle_tool_invocation\n",
    "# tool = ForgeMDKTool()\n",
    "# tool.invoke(\"latest\")\n",
    "await handle_tool_invocation(\"[EDGE(open https://files.minecraftforge.net/) ->\")"
   ]
  }
 ],
 "metadata": {
  "kernelspec": {
   "display_name": "venv",
   "language": "python",
   "name": "python3"
  },
  "language_info": {
   "codemirror_mode": {
    "name": "ipython",
    "version": 3
   },
   "file_extension": ".py",
   "mimetype": "text/x-python",
   "name": "python",
   "nbconvert_exporter": "python",
   "pygments_lexer": "ipython3",
   "version": "3.10.9"
  },
  "orig_nbformat": 4,
  "vscode": {
   "interpreter": {
    "hash": "e00874b6988a7999354735cded7abcfddd61bc52daa5a68bebc5283a04aa2a03"
   }
  }
 },
 "nbformat": 4,
 "nbformat_minor": 2
}
