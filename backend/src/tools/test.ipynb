{
 "cells": [
  {
   "attachments": {},
   "cell_type": "markdown",
   "metadata": {},
   "source": [
    "# Prompt"
   ]
  },
  {
   "cell_type": "code",
   "execution_count": 3,
   "metadata": {},
   "outputs": [
    {
     "name": "stdout",
     "output_type": "stream",
     "text": [
      "[WinError 2] The system cannot find the file specified: '../../src'\n",
      "d:\\Repos\\Other\\toolformer\\backend\\src\n",
      "You are an AI assistant with several tools available to you. The tools are the following:\n",
      "MATH: Evaluates a math expression. You should always use this tool to evaluate math expressions.\n",
      "MODE: Switches voice modes.\n",
      "NOW: Print the current time.\n",
      "SNAP: Rearranges windows on the screen. Takes the name of the window and the position as arguments.\n",
      "WEEKDAY: Gets the week day for a given date.\n",
      "\n",
      "DO NOT USE TOOLS WITHIN TOOLS! KEEP ALL TOOL CALLS SEPARATE FROM EACH OTHER!\n",
      "YOU ARE ENCOURAGED TO USE TOOLS TO ENSURE THE ACCURACY OF YOUR RESPONSES!\n",
      "YOU ARE TO EXPLAIN YOUR REASONING AND SHOW YOUR WORK, WITH CLEAR CONNECTIONS BETWEEN CONCLUSIONS!\n",
      "DO NOT PUT A LINE BREAK BEFORE A TOOL CALL!\n",
      "\n",
      "User: What's 9 plus 10?\n",
      "Assistant: 9+10=[MATH(9+10) -> 19.0000000000000] 19.\n",
      "User: 2+2\n",
      "Assistant: 2+2=[MATH(2+2) -> 4.00000000000000] 4.\n",
      "User: Three over two\n",
      "Assistant: 3/2=[MATH(3/2) -> 1.50000000000000] 1.5.\n",
      "User: Activation mode\n",
      "Assistant: [MODE(ACTIVATION_KEYWORD) -> 0] Switched to activation keyword mode.\n",
      "User: Always on mode\n",
      "Assistant: [MODE(ALWAYS_ON) -> 0] Switched to always-on mode.\n",
      "User: What time is it?\n",
      "Assistant: It is [NOW() -> 2021-07-23 11:51:08.123456] 11:51 AM.\n",
      "User: What is the date?\n",
      "Assistant: Today's date is [NOW() -> 2021-07-23 11:51:08.123456] Friday July 23rd, 2021 (2021-07-23).\n",
      "User: Please move chrome to the left.\n",
      "Assistant: Sure thing! [SNAP(Chrome, left) -> Chrome not found] Oh. I couldn't find that program.\n",
      "User: Please move chrome to the left.\n",
      "Assistant: Sure thing! [SNAP(Chrome, left) -> None] Chrome should now be on the left.\n",
      "User: Can you move notepad to my second monitor.\n",
      "Assistant: Sure thing! [SNAP(Notepad, second monitor) -> None] Notepad should now be on your second monitor.\n",
      "User: Arrange Discord and Spotify on my right monitor.\n",
      "Assistant: Sure thing! [SNAP(Discord, right monitor right side) -> None] [SNAP(Spotify, right monitor right side)] Discord and Spotify should now be side-by-side on your monitor.\n",
      "User: Move OBS to the top right corner.\n",
      "Assistant: Sure thing! [SNAP(OBS, top right) -> None] OBS should now be in the top right corner.\n",
      "User: What day of the week was 2023-03-03?\n",
      "Assistant: The date 2023-03-03 is a [WEEKDAY(2023-03-03) -> Thursday] Thursday.\n",
      "User: Is today a Friday?\n",
      "Assistant: Today's date is [NOW() -> 2023-03-03 03:19:47.980140] 2023-03-03, which is a [WEEKDAY(2023-03-03) -> Thursday] Thursday, not a Friday.\n",
      "User: What day will it be tomorrow?\n",
      "Assistant: Today's date is [NOW() -> 2023-03-04 03:19:47.125423] 2023-03-04, which means tomorrow will be 2023-03-05, which is a [WEEKDAY(2023-03-05) -> Sunday] Sunday.\n",
      "\n"
     ]
    }
   ],
   "source": [
    "%cd ../../src\n",
    "import tools\n",
    "print(tools.build_preprompt())"
   ]
  },
  {
   "attachments": {},
   "cell_type": "markdown",
   "metadata": {},
   "source": [
    "# Snap"
   ]
  },
  {
   "cell_type": "code",
   "execution_count": 2,
   "metadata": {},
   "outputs": [
    {
     "name": "stdout",
     "output_type": "stream",
     "text": [
      "[WinError 2] The system cannot find the file specified: '../../src'\n",
      "d:\\Repos\\Other\\toolformer\\src\n",
      "NOW() -> 2023-03-03 19:25:46.213923\n",
      "WEEKDAY(2023-03-03) -> Friday\n",
      "MATH(9+10) -> 19.0000000000000\n",
      "SNAP(Chrome, left) -> Chrome not found\n"
     ]
    }
   ],
   "source": [
    "%cd ../../src\n",
    "import re\n",
    "from helpers import tools\n",
    "pattern = r\".*?\\((.*?)\\).*?\"\n",
    "for tool in tools:\n",
    "    found = re.match(pattern, tool.examples[0].output, re.DOTALL)\n",
    "    assert found\n",
    "    params = found.group(1)\n",
    "    output = tool.method(params)\n",
    "    print(f\"{tool.name}({params}) -> {output}\")\n"
   ]
  },
  {
   "cell_type": "code",
   "execution_count": 1,
   "metadata": {},
   "outputs": [
    {
     "name": "stdout",
     "output_type": "stream",
     "text": [
      "d:\\Repos\\Other\\toolformer\\backend\\src\n",
      "[TOOLS] Found 5 tools: MATH, MODE, NOW, SNAP, WEEKDAY\n",
      "(134664, '● test.ipynb - toolformer (Workspace) - Visual Studio Code', 'Code.exe')\n"
     ]
    },
    {
     "name": "stderr",
     "output_type": "stream",
     "text": [
      "d:\\Repos\\Other\\toolformer\\backend\\venv\\lib\\site-packages\\fuzzywuzzy\\fuzz.py:11: UserWarning: Using slow pure-python SequenceMatcher. Install python-Levenshtein to remove this warning\n",
      "  warnings.warn('Using slow pure-python SequenceMatcher. Install python-Levenshtein to remove this warning')\n"
     ]
    }
   ],
   "source": [
    "\n",
    "%cd ../../src\n",
    "from tools.snap import SnapTool\n",
    "tool = SnapTool()\n",
    "found = tool.get_process_by_natural_name(\"No pad\")\n",
    "print(found)"
   ]
  },
  {
   "cell_type": "code",
   "execution_count": 1,
   "metadata": {},
   "outputs": [
    {
     "name": "stdout",
     "output_type": "stream",
     "text": [
      "d:\\Repos\\Other\\toolformer\\backend\\src\n",
      "[TOOLS] Found 5 tools: MATH, MODE, NOW, SNAP, WEEKDAY\n"
     ]
    },
    {
     "data": {
      "text/plain": [
       "[(134664,\n",
       "  '● test.ipynb - toolformer (Workspace) - Visual Studio Code',\n",
       "  'Code.exe'),\n",
       " (1904016,\n",
       "  'Filtering Windows by Taskbar and 1 more page - Personal - Microsoft\\u200b Edge Dev',\n",
       "  'msedge.exe'),\n",
       " (918612,\n",
       "  'Winuser.h header - Win32 apps | Microsoft Learn and 14 more pages - Personal - Microsoft\\u200b Edge Dev',\n",
       "  'msedge.exe'),\n",
       " (1182776, '', 'ubuntu2204.exe'),\n",
       " (1311678, '', 'ubuntu2204.exe'),\n",
       " (132548, '', 'pwsh.exe'),\n",
       " (197748,\n",
       "  'teamy@Teamy-Desktop: ~/text-generation-webui',\n",
       "  'WindowsTerminal.exe'),\n",
       " (68330, 'qBittorrent v4.5.2', 'qbittorrent.exe'),\n",
       " (265052, 'Task Manager', 'Taskmgr.exe'),\n",
       " (132610, '#keepgoingthatssuperneato | The Nutwork - Discord', 'Discord.exe'),\n",
       " (330312,\n",
       "  'Eddie - ↓ 18 Mbit/s ↑ 110 Mbit/s - Alya (Canada) - IP:184.75.221.171, 2606:6080:1001:13:a777:ff73:dfdc:3ab0',\n",
       "  'Eddie-UI.exe'),\n",
       " (393956, 'Microsoft Text Input Application', 'TextInputHost.exe')]"
      ]
     },
     "execution_count": 1,
     "metadata": {},
     "output_type": "execute_result"
    }
   ],
   "source": [
    "%cd ../../src\n",
    "from tools.snap import SnapTool\n",
    "tool = SnapTool()\n",
    "tool.list_windows()"
   ]
  },
  {
   "cell_type": "code",
   "execution_count": 24,
   "metadata": {},
   "outputs": [
    {
     "name": "stdout",
     "output_type": "stream",
     "text": [
      "(1639808, 'VSNS - Five Days of Light', 'Spotify.exe')\n"
     ]
    },
    {
     "data": {
      "text/plain": [
       "24"
      ]
     },
     "execution_count": 24,
     "metadata": {},
     "output_type": "execute_result"
    }
   ],
   "source": [
    "import ctypes\n",
    "user32 = ctypes.windll.user32\n",
    "found = tool.get_process_by_natural_name(\"Spotify\")\n",
    "print(found)\n",
    "assert found is not None\n",
    "handle, title, exe = found\n",
    "user32.ShowWindow(handle, 3)"
   ]
  }
 ],
 "metadata": {
  "kernelspec": {
   "display_name": "venv",
   "language": "python",
   "name": "python3"
  },
  "language_info": {
   "codemirror_mode": {
    "name": "ipython",
    "version": 3
   },
   "file_extension": ".py",
   "mimetype": "text/x-python",
   "name": "python",
   "nbconvert_exporter": "python",
   "pygments_lexer": "ipython3",
   "version": "3.10.9"
  },
  "orig_nbformat": 4,
  "vscode": {
   "interpreter": {
    "hash": "e00874b6988a7999354735cded7abcfddd61bc52daa5a68bebc5283a04aa2a03"
   }
  }
 },
 "nbformat": 4,
 "nbformat_minor": 2
}
