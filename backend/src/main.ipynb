{
 "cells": [
  {
   "cell_type": "code",
   "execution_count": 1,
   "metadata": {},
   "outputs": [],
   "source": [
    "import torch\n",
    "assert torch.cuda.is_available()"
   ]
  },
  {
   "cell_type": "code",
   "execution_count": 2,
   "metadata": {},
   "outputs": [],
   "source": [
    "import models.mic\n",
    "voice_queue, voice_threatds = models.mic.start_background()"
   ]
  },
  {
   "cell_type": "code",
   "execution_count": 3,
   "metadata": {},
   "outputs": [
    {
     "name": "stdout",
     "output_type": "stream",
     "text": [
      "Loading model and tokenizer...\n"
     ]
    },
    {
     "data": {
      "application/vnd.jupyter.widget-view+json": {
       "model_id": "d4a8bd36ecca44559a831d809c6fccc1",
       "version_major": 2,
       "version_minor": 0
      },
      "text/plain": [
       "Loading checkpoint shards:   0%|          | 0/2 [00:00<?, ?it/s]"
      ]
     },
     "metadata": {},
     "output_type": "display_data"
    },
    {
     "name": "stdout",
     "output_type": "stream",
     "text": [
      "Model loaded!\n",
      "Tokenizer loaded!\n",
      "Adding special tokens...\n",
      "Added 0 special tokens!\n"
     ]
    }
   ],
   "source": [
    "from models.text import predict, preheat\n",
    "# preheat(\"EleutherAI\", \"pythia-2.8B-deduped\", \"step143000\")\n",
    "preheat(\"EleutherAI\", \"pythia-6.9B-deduped\", \"step143000\")"
   ]
  },
  {
   "cell_type": "code",
   "execution_count": 4,
   "metadata": {},
   "outputs": [
    {
     "name": "stdout",
     "output_type": "stream",
     "text": [
      "User: what time is it?\n",
      "Assistant:  It is [NOW() ->2023-03-04 00:35:27.480286] 00:35 PM.\n",
      "\t(wasted 0)\n",
      "User: what's 12 times 13?\n",
      "Assistant:  12*13=[MATH(12*13) ->156.000000000000] 156.\n",
      "\t(wasted 0)\n",
      "User: what day of the week is it?\n",
      "Assistant:   It is [NOW() ->2023-03-04 00:36:28.547001] Saturday.\n",
      "\t(wasted 0)\n",
      "User: what day of the week will it be tomorrow?\n",
      "Assistant:    It is [NOW() ->2023-03-04 00:36:40.278792] Saturday.\n",
      "\t(wasted 0)\n",
      "User: what's the meaning of life?\n",
      "Assistant:   The meaning of life is [NOW() ->2023-03-04 00:40:24.542788] \"42\".\n",
      "\t(wasted 0)\n",
      "User: what's the question to the meeting of light?\n",
      "Assistant:    The question to the meeting of light is [NOW() ->2023-03-04 00:40:39.099280] \"42\".\n",
      "\t(wasted 0)\n",
      "User: s 42 is the question and the answer\n",
      "Assistant:    s 42 is the question and the answer is [NOW() ->2023-03-04 00:40:47.809948] \"42\".\n",
      "\t(wasted 0)\n",
      "User: who's Spotify to my left monitor?\n",
      "Assistant:     Spotify is to my left monitor.\n",
      "\n",
      "\t(wasted 0)\n",
      "User: move Spotify to the left half of my left monitor.\n",
      "Assistant:     Sure thing! [SNAP(Spotify, left monitor left side) ->Spotify.exe to (-2048, -77, 1024, 576)] Spotify should now be on the left half of your monitor.\n",
      "\t(wasted 0)\n"
     ]
    },
    {
     "ename": "KeyboardInterrupt",
     "evalue": "",
     "output_type": "error",
     "traceback": [
      "\u001b[1;31m---------------------------------------------------------------------------\u001b[0m",
      "\u001b[1;31mKeyboardInterrupt\u001b[0m                         Traceback (most recent call last)",
      "Cell \u001b[1;32mIn[4], line 5\u001b[0m\n\u001b[0;32m      3\u001b[0m chat_so_far \u001b[39m=\u001b[39m \u001b[39m\"\u001b[39m\u001b[39m\"\u001b[39m\n\u001b[0;32m      4\u001b[0m \u001b[39mwhile\u001b[39;00m \u001b[39mTrue\u001b[39;00m:\n\u001b[1;32m----> 5\u001b[0m     prompt \u001b[39m=\u001b[39m voice_queue\u001b[39m.\u001b[39;49mget()\u001b[39m.\u001b[39mstrip()\n\u001b[0;32m      6\u001b[0m     \u001b[39m# prompt = input(\"User: \").strip()\u001b[39;00m\n\u001b[0;32m      7\u001b[0m     activated \u001b[39m=\u001b[39m \u001b[39mFalse\u001b[39;00m\n",
      "File \u001b[1;32m~\\.conda\\envs\\3.10\\lib\\queue.py:171\u001b[0m, in \u001b[0;36mQueue.get\u001b[1;34m(self, block, timeout)\u001b[0m\n\u001b[0;32m    169\u001b[0m \u001b[39melif\u001b[39;00m timeout \u001b[39mis\u001b[39;00m \u001b[39mNone\u001b[39;00m:\n\u001b[0;32m    170\u001b[0m     \u001b[39mwhile\u001b[39;00m \u001b[39mnot\u001b[39;00m \u001b[39mself\u001b[39m\u001b[39m.\u001b[39m_qsize():\n\u001b[1;32m--> 171\u001b[0m         \u001b[39mself\u001b[39;49m\u001b[39m.\u001b[39;49mnot_empty\u001b[39m.\u001b[39;49mwait()\n\u001b[0;32m    172\u001b[0m \u001b[39melif\u001b[39;00m timeout \u001b[39m<\u001b[39m \u001b[39m0\u001b[39m:\n\u001b[0;32m    173\u001b[0m     \u001b[39mraise\u001b[39;00m \u001b[39mValueError\u001b[39;00m(\u001b[39m\"\u001b[39m\u001b[39m'\u001b[39m\u001b[39mtimeout\u001b[39m\u001b[39m'\u001b[39m\u001b[39m must be a non-negative number\u001b[39m\u001b[39m\"\u001b[39m)\n",
      "File \u001b[1;32m~\\.conda\\envs\\3.10\\lib\\threading.py:320\u001b[0m, in \u001b[0;36mCondition.wait\u001b[1;34m(self, timeout)\u001b[0m\n\u001b[0;32m    318\u001b[0m \u001b[39mtry\u001b[39;00m:    \u001b[39m# restore state no matter what (e.g., KeyboardInterrupt)\u001b[39;00m\n\u001b[0;32m    319\u001b[0m     \u001b[39mif\u001b[39;00m timeout \u001b[39mis\u001b[39;00m \u001b[39mNone\u001b[39;00m:\n\u001b[1;32m--> 320\u001b[0m         waiter\u001b[39m.\u001b[39;49macquire()\n\u001b[0;32m    321\u001b[0m         gotit \u001b[39m=\u001b[39m \u001b[39mTrue\u001b[39;00m\n\u001b[0;32m    322\u001b[0m     \u001b[39melse\u001b[39;00m:\n",
      "\u001b[1;31mKeyboardInterrupt\u001b[0m: "
     ]
    }
   ],
   "source": [
    "from tools.helpers import build_preprompt, handle_tool_invocation, predict_with_tools\n",
    "activation_keywords = [\"computer\", \"pewter\", \"pewder\", \"cuter\"]\n",
    "chat_so_far = \"\"\n",
    "while True:\n",
    "    prompt = voice_queue.get().strip()\n",
    "    # prompt = input(\"User: \").strip()\n",
    "    activated = False\n",
    "    for keyword in activation_keywords:\n",
    "        if prompt.lower().startswith(keyword):\n",
    "            activated = True\n",
    "            prompt = prompt[len(keyword):].strip().strip(\",\").strip()\n",
    "            break\n",
    "    if not activated:\n",
    "        continue\n",
    "    chat_so_far += f\"User: {prompt}\\n\"\n",
    "    print(f\"User: {prompt}\")\n",
    "    response, info = predict_with_tools(build_preprompt(), chat_so_far)\n",
    "    wasted = len(info['bad']) if \"bad\" in info else 0\n",
    "    print(f\"Assistant: {response}\", end=f\"\\t(wasted {wasted})\\n\")\n",
    "    chat_so_far += f\"Assistant: {response}\\n\""
   ]
  }
 ],
 "metadata": {
  "kernelspec": {
   "display_name": "venv",
   "language": "python",
   "name": "python3"
  },
  "language_info": {
   "codemirror_mode": {
    "name": "ipython",
    "version": 3
   },
   "file_extension": ".py",
   "mimetype": "text/x-python",
   "name": "python",
   "nbconvert_exporter": "python",
   "pygments_lexer": "ipython3",
   "version": "3.10.9"
  },
  "orig_nbformat": 4,
  "vscode": {
   "interpreter": {
    "hash": "e00874b6988a7999354735cded7abcfddd61bc52daa5a68bebc5283a04aa2a03"
   }
  }
 },
 "nbformat": 4,
 "nbformat_minor": 2
}
