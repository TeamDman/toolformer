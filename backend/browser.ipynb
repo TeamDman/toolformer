{
 "cells": [
  {
   "cell_type": "code",
   "execution_count": null,
   "metadata": {},
   "outputs": [],
   "source": [
    "%load_ext autoreload\n",
    "%autoreload 2"
   ]
  },
  {
   "cell_type": "code",
   "execution_count": 2,
   "metadata": {},
   "outputs": [
    {
     "name": "stdout",
     "output_type": "stream",
     "text": [
      "4.8.2\n"
     ]
    }
   ],
   "source": [
    "import selenium\n",
    "print(selenium.__version__)"
   ]
  },
  {
   "attachments": {},
   "cell_type": "markdown",
   "metadata": {},
   "source": [
    "# 4Chan"
   ]
  },
  {
   "cell_type": "code",
   "execution_count": 3,
   "metadata": {},
   "outputs": [],
   "source": [
    "from selenium import webdriver\n",
    "from selenium.webdriver.common.by import By\n",
    "from selenium.webdriver.edge.options import Options as EdgeOptions\n",
    "from pathlib import Path\n",
    "\n",
    "downloads_dir = Path(\"downloads\")\n",
    "downloads_dir.mkdir(exist_ok=True)\n",
    "# from msedge.selenium_tools import EdgeOptions\n",
    "options = EdgeOptions()\n",
    "options.add_experimental_option(\"prefs\", {\n",
    "    \"download.default_directory\": str(downloads_dir),\n",
    "    \"download.directory_upgrade\": True,\n",
    "})\n",
    "# options.add_argument(\"--headless\")\n",
    "# options.add_argument(\"--disable-gpu\") \n",
    "browser = webdriver.Edge(options=options)\n",
    "# browser.set_window_position(1920,0)\n",
    "browser.get(\"https://boards.4channel.org/g/thread/92468569#p92471725\")\n",
    "# href = browser.find_element(By.CSS_SELECTOR, \"a[title='Mdk']\").get_attribute(\"href\")\n",
    "# href = href.split(\"&url=\")[1]\n",
    "# browser.get(href)\n",
    "# browser.close()\n",
    "# del browser\n",
    "# print(f\"href: {href}\")"
   ]
  },
  {
   "cell_type": "code",
   "execution_count": 17,
   "metadata": {},
   "outputs": [
    {
     "name": "stdout",
     "output_type": "stream",
     "text": [
      "{'a': 4, 'b': 6, 'myName': 'is daddy'}\n"
     ]
    }
   ],
   "source": [
    "result = browser.execute_script(r\"return {a:4, b:6, myName:'is daddy'};\")\n",
    "print(result) # holy shit it converts the objects"
   ]
  },
  {
   "cell_type": "code",
   "execution_count": null,
   "metadata": {},
   "outputs": [],
   "source": [
    "import requests\n",
    "url = \"http://127.0.0.1:5000/\"\n",
    "#     prompt = f\"\"\"The following is a conversation between a human and an AI.\n",
    "# Human: {human_input}\n",
    "# AI:\"\"\"\n",
    "prompt=f\"\"\"Below is an instruction that describes a task, paired with an input that provides further context. Write a response that appropriately completes the request.\n",
    "\n",
    "### Instruction:\n",
    "{human_input}\n",
    "\n",
    "### Context:\n",
    "{human_input}\n",
    "\n",
    "### Response:\"\"\"\n",
    "data = {\"prompts\": [prompt]}\n",
    "response = requests.post(url, json=data).json()[0]\n",
    "response = response.replace(prompt, \"\")\n",
    "if \"Human:\" in response:\n",
    "    response = response.split(\"Human:\")[0]\n",
    "response = response.strip()\n",
    "return response\n",
    "# await get_response(\"Hi there!\")"
   ]
  },
  {
   "attachments": {},
   "cell_type": "markdown",
   "metadata": {},
   "source": [
    "# Picker"
   ]
  },
  {
   "cell_type": "code",
   "execution_count": 50,
   "metadata": {},
   "outputs": [],
   "source": [
    "from selenium import webdriver\n",
    "from selenium.webdriver.common.by import By\n",
    "\n",
    "driver = webdriver.Edge()\n",
    "driver.get(\"https://twitter.com\")"
   ]
  },
  {
   "cell_type": "code",
   "execution_count": 60,
   "metadata": {},
   "outputs": [],
   "source": [
    "async def getSelector():\n",
    "    print(\"Prompting user to click\")\n",
    "    result = driver.execute_async_script(r\"\"\"\n",
    "var done = arguments[0];\n",
    "const panel = document.createElement('div');\n",
    "panel.style.position = 'fixed';\n",
    "panel.style.top = '0';\n",
    "panel.style.left = '0';\n",
    "panel.style.width = '100%';\n",
    "panel.style.height = '100%';\n",
    "panel.style.zIndex = '9999';\n",
    "panel.style.background = 'rgba(0,0.5,0,0.5)';\n",
    "panel.innerText = \"CLICK THE ELEMENT.\";\n",
    "panel.style.color = 'white';\n",
    "panel.style.fontSize = '50px';\n",
    "panel.style.fontFamily = 'Impact, Charcoal, sans-serif';\n",
    "\n",
    "panel.style.display = 'flex';\n",
    "panel.style.justifyContent = 'center';\n",
    "panel.style.alignItems = 'center';\n",
    "panel.style.cursor = 'pointer';\n",
    "\n",
    "function preprocess(list, keyGetter, priority, disallowPred) {\n",
    "  return Array.from(list).filter(x => !disallowPred(keyGetter(x))).sort((a, b) => {\n",
    "    a = keyGetter(a);\n",
    "    b = keyGetter(b);\n",
    "    const aInPriority = priority.includes(a);\n",
    "    const bInPriority = priority.includes(b);\n",
    "\n",
    "    if (aInPriority && bInPriority) {\n",
    "      return 0;\n",
    "    } else if (aInPriority) {\n",
    "      return -1;\n",
    "    } else if (bInPriority) {\n",
    "      return 1;\n",
    "    } else {\n",
    "      return a.localeCompare(b);\n",
    "    }\n",
    "  });\n",
    "}\n",
    "\n",
    "function getXPath(element) {\n",
    "  function getUniqueXPath(el) {\n",
    "    while (el.childNodes.length === 1 && el.firstChild.nodeType === 1) el = el.firstChild;\n",
    "    let tagName = el.tagName.toLowerCase();\n",
    "\n",
    "    function isUnique(xpath) {\n",
    "      return el.parentElement.querySelectorAll(xpath).length === 1;\n",
    "    }\n",
    "\n",
    "    let xpath = `./${tagName}`;\n",
    "    if (el.id) {\n",
    "      xpath += `[@id='${el.id}']`;\n",
    "      if (isUnique(xpath)) return xpath;\n",
    "    }\n",
    "\n",
    "    for (const a of preprocess(element.attributes, x => x.name, [\"autocomplete\", \"href\"], x=>false))) {\n",
    "      if (a.name === 'id' || a.name === 'class' || a.name === 'style') continue;\n",
    "      xpath += `[@${a.name}='${a.value}']`;\n",
    "      if (isUnique(xpath)) return xpath;\n",
    "    }\n",
    "\n",
    "    if (el.classList.length > 0) {\n",
    "      for (const className of preprocess(element.classList, x => x, [\"content\"], x=>x.startsWith(\"css-\") || x.startsWith(\"r-\"))) {\n",
    "        xpath += `[contains(concat(' ', normalize-space(@class), ' '), ' ${className} ')]`;\n",
    "        if (isUnique(xpath)) return xpath;\n",
    "      }\n",
    "    }\n",
    "\n",
    "    if (el.textContent) {\n",
    "      xpath += `[contains(., '${el.textContent.trim()}')]`;\n",
    "      if (isUnique(xpath)) return xpath;\n",
    "    }\n",
    "\n",
    "    const index = Array.from(el.parentNode.children).filter((sibling) => sibling.tagName.toLowerCase() === tagName).indexOf(el);\n",
    "    xpath = `./${tagName}[${index + 1}]`;\n",
    "\n",
    "    return xpath;\n",
    "  }\n",
    "\n",
    "  const xpaths = [];\n",
    "  let current = element;\n",
    "\n",
    "  while (current.parentElement) {\n",
    "    xpaths.unshift(getUniqueXPath(current));\n",
    "    current = current.parentElement;\n",
    "  }\n",
    "\n",
    "  return '/' + xpaths.join('/');\n",
    "}\n",
    "\n",
    "//function getUniqueSelector(element) {\n",
    "//  while (element.childNodes.length === 1 && element.firstChild.nodeType === 1) element = element.firstChild;\n",
    "//  let selector = element.tagName.toLowerCase();\n",
    "//  function isUnique() {\n",
    "//      return [...element.parentElement.children].filter((sibling) => sibling.matches(selector)).length === 1;\n",
    "//  }\n",
    "//  \n",
    "//  if (element.id) {\n",
    "//    selector += `#${element.id}`;\n",
    "//    if (isUnique()) return selector;\n",
    "//  }\n",
    "//  for (const a of preprocess(element.attributes, x => x.name, [\"autocomplete\", \"href\"], x=>false)) {   \n",
    "//      if (a.name === 'id' || a.name === 'class' || a.name === \"style\") continue;\n",
    "//      selector += `[${a.name}=\"${a.value}\"]`;\n",
    "//      if (isUnique()) return selector;\n",
    "//  }\n",
    "//\n",
    "//  if (element.classList.length > 0) {\n",
    "//    for (const className of preprocess(element.classList, x => x, [\"content\"], x=>x.startsWith(\"css-\") || x.startsWith(\"r-\"))) {\n",
    "//      selector += `.${className}`;\n",
    "//      if (isUnique()) return selector;\n",
    "//    }\n",
    "//  }\n",
    "//\n",
    "//  const siblingSameType = [...element.parentElement.children].filter(\n",
    "//    (sibling) => sibling.tagName.toLowerCase() === selector\n",
    "//  );\n",
    "//  if (siblingSameType.length === 1) return selector;\n",
    "//  const index = siblingSameType.indexOf(element);\n",
    "//  selector += `:nth-of-type(${index + 1})`;\n",
    "//\n",
    "//  return selector;\n",
    "//}\n",
    "\n",
    "function getSelector(el) {\n",
    "  const elements = [];\n",
    "  let current = el;\n",
    "\n",
    "  while (current.parentElement) {\n",
    "    elements.unshift(current);\n",
    "    current = current.parentElement;\n",
    "  }\n",
    "\n",
    "  return elements.map(getXPath).join(' > ');\n",
    "}\n",
    "\n",
    "\n",
    "panel.addEventListener('click', e => {\n",
    "    // get x,y\n",
    "    let x = e.clientX;\n",
    "    let y = e.clientY;\n",
    "    console.log(\"clicked\", x, y);\n",
    "    document.body.removeChild(panel);\n",
    "    const element = document.elementFromPoint(x, y);\n",
    "    try {\n",
    "        console.log(element, getSelector(element));\n",
    "        done(getSelector(element));\n",
    "    } catch (e) {\n",
    "        console.error(e);\n",
    "        done(null);\n",
    "    }\n",
    "});\n",
    "document.body.appendChild(panel);\n",
    "\n",
    "    \"\"\"\n",
    "    )\n",
    "    print(f\"Found element with selector {result}\")\n",
    "\n",
    "    import requests\n",
    "    url = \"http://127.0.0.1:5000/\"\n",
    "    PROMPT_DICT = {\n",
    "        \"prompt_input\": (\n",
    "            \"Below is an instruction that describes a task, paired with an input that provides further context. \"\n",
    "            \"Write a response that appropriately completes the request.\\n\\n\"\n",
    "            \"### Instruction:\\n{instruction}\\n\\n### Input:\\n{input}\\n\\n### Response:\"\n",
    "        ),\n",
    "        \"prompt_no_input\": (\n",
    "            \"Below is an instruction that describes a task. \"\n",
    "            \"Write a response that appropriately completes the request.\\n\\n\"\n",
    "            \"### Instruction:\\n{instruction}\\n\\n### Response:\"\n",
    "        ),\n",
    "    }\n",
    "    def fmt(prompt: str, input: str = \"\") -> str:\n",
    "        if input.strip() == \"\":\n",
    "            return PROMPT_DICT['prompt_no_input'].format_map({'instruction': prompt})\n",
    "        else:\n",
    "            return PROMPT_DICT['prompt_input'].format_map({'instruction': prompt, 'input': input})\n",
    "        \n",
    "    prompts=[\n",
    "    fmt(\n",
    "        \"\"\"You are a calibration engine for a web interface.\n",
    "    The user has just indicated the log in button on a webpage.\n",
    "    Clean up the CSS selector for the log in button.\n",
    "    Remove any unnecessary parts, and make sure it is as short as possible.\n",
    "    You do not need to start at the root element.\n",
    "    Try and make it as short as possible.\n",
    "\n",
    "    ### Example Input:\n",
    "    body > div#react-root > div > div:n-th-of-type(2) > div > a[href=\"/home\"] > div\n",
    "\n",
    "    ### Example Output:\n",
    "    a[href=\"/home\"]\n",
    "    \"\"\",\n",
    "\n",
    "        result),\n",
    "    ]\n",
    "    data = {\"prompts\": prompts}\n",
    "    print(\"Refining selector with remote model\")\n",
    "    response = requests.post(url, json=data).json()\n",
    "    selector = response[0].split(\"### Response:\")[1].strip()\n",
    "\n",
    "    assert driver.find_element(By.CSS_SELECTOR, selector) is not None\n",
    "    return selector\n"
   ]
  },
  {
   "cell_type": "code",
   "execution_count": 61,
   "metadata": {},
   "outputs": [],
   "source": [
    "def click(selector):\n",
    "    driver.execute_script(f\"document.querySelector('{selector}').click()\")"
   ]
  },
  {
   "cell_type": "code",
   "execution_count": 62,
   "metadata": {},
   "outputs": [],
   "source": [
    "def focus(selector):\n",
    "    driver.execute_script(f\"document.querySelector('{selector}').focus()\")"
   ]
  },
  {
   "cell_type": "code",
   "execution_count": 64,
   "metadata": {},
   "outputs": [
    {
     "name": "stdout",
     "output_type": "stream",
     "text": [
      "Prompting user to click\n",
      "Found element with selector body > div > div > div > div > div > div > div > div > div > div > div > div > div > span > span > span > span > span\n",
      "Refining selector with remote model\n"
     ]
    },
    {
     "ename": "InvalidSelectorException",
     "evalue": "Message: invalid selector: An invalid or illegal selector was specified\n  (Session info: MicrosoftEdge=111.0.1661.54)\nStacktrace:\nBacktrace:\n\tMicrosoft::Applications::Events::EventProperties::SetProperty [0x00007FF7238D3C22+14194]\n\tMicrosoft::Applications::Events::EventProperty::EventProperty [0x00007FF72386AEC2+817458]\n\t(No symbol) [0x00007FF7234FDB50]\n\t(No symbol) [0x00007FF72350195D]\n\t(No symbol) [0x00007FF7235015D9]\n\t(No symbol) [0x00007FF723501A30]\n\t(No symbol) [0x00007FF72354011B]\n\t(No symbol) [0x00007FF72354070C]\n\t(No symbol) [0x00007FF72357C277]\n\t(No symbol) [0x00007FF7235606CF]\n\t(No symbol) [0x00007FF723533121]\n\t(No symbol) [0x00007FF7235796FE]\n\t(No symbol) [0x00007FF723560343]\n\t(No symbol) [0x00007FF723531FFC]\n\t(No symbol) [0x00007FF723530F7E]\n\t(No symbol) [0x00007FF7235327EE]\n\tMicrosoft::Applications::Events::EventProperties::SetProperty [0x00007FF72374EAA0+180080]\n\t(No symbol) [0x00007FF723600B17]\n\tMicrosoft::Applications::Events::EventProperty::EventProperty [0x00007FF7237AF772+49634]\n\tMicrosoft::Applications::Events::EventProperty::EventProperty [0x00007FF7237B2975+62437]\n\tMicrosoft::Applications::Events::ILogManager::DispatchEventBroadcast [0x00007FF723AC1488+1408232]\n\tMicrosoft::Applications::Events::EventProperty::EventProperty [0x00007FF7238733CF+851519]\n\tMicrosoft::Applications::Events::EventProperty::EventProperty [0x00007FF723878434+872100]\n\tMicrosoft::Applications::Events::EventProperty::EventProperty [0x00007FF72387858C+872444]\n\tMicrosoft::Applications::Events::EventProperty::EventProperty [0x00007FF72388089B+905995]\n\tBaseThreadInitThunk [0x00007FF9F8D87614+20]\n\tRtlUserThreadStart [0x00007FF9FAC426A1+33]\n",
     "output_type": "error",
     "traceback": [
      "\u001b[1;31m---------------------------------------------------------------------------\u001b[0m",
      "\u001b[1;31mInvalidSelectorException\u001b[0m                  Traceback (most recent call last)",
      "Cell \u001b[1;32mIn[64], line 1\u001b[0m\n\u001b[1;32m----> 1\u001b[0m logInSelector \u001b[39m=\u001b[39m \u001b[39mawait\u001b[39;00m getSelector()\n\u001b[0;32m      2\u001b[0m \u001b[39mprint\u001b[39m(logInSelector)\n\u001b[0;32m      3\u001b[0m click(logInSelector)\n",
      "Cell \u001b[1;32mIn[60], line 153\u001b[0m, in \u001b[0;36mgetSelector\u001b[1;34m()\u001b[0m\n\u001b[0;32m    150\u001b[0m response \u001b[39m=\u001b[39m requests\u001b[39m.\u001b[39mpost(url, json\u001b[39m=\u001b[39mdata)\u001b[39m.\u001b[39mjson()\n\u001b[0;32m    151\u001b[0m selector \u001b[39m=\u001b[39m response[\u001b[39m0\u001b[39m]\u001b[39m.\u001b[39msplit(\u001b[39m\"\u001b[39m\u001b[39m### Response:\u001b[39m\u001b[39m\"\u001b[39m)[\u001b[39m1\u001b[39m]\u001b[39m.\u001b[39mstrip()\n\u001b[1;32m--> 153\u001b[0m \u001b[39massert\u001b[39;00m driver\u001b[39m.\u001b[39;49mfind_element(By\u001b[39m.\u001b[39;49mCSS_SELECTOR, selector) \u001b[39mis\u001b[39;00m \u001b[39mnot\u001b[39;00m \u001b[39mNone\u001b[39;00m\n\u001b[0;32m    154\u001b[0m \u001b[39mreturn\u001b[39;00m selector\n",
      "File \u001b[1;32md:\\Repos\\Other\\toolformer\\backend\\venv\\lib\\site-packages\\selenium\\webdriver\\remote\\webdriver.py:830\u001b[0m, in \u001b[0;36mWebDriver.find_element\u001b[1;34m(self, by, value)\u001b[0m\n\u001b[0;32m    827\u001b[0m     by \u001b[39m=\u001b[39m By\u001b[39m.\u001b[39mCSS_SELECTOR\n\u001b[0;32m    828\u001b[0m     value \u001b[39m=\u001b[39m \u001b[39mf\u001b[39m\u001b[39m'\u001b[39m\u001b[39m[name=\u001b[39m\u001b[39m\"\u001b[39m\u001b[39m{\u001b[39;00mvalue\u001b[39m}\u001b[39;00m\u001b[39m\"\u001b[39m\u001b[39m]\u001b[39m\u001b[39m'\u001b[39m\n\u001b[1;32m--> 830\u001b[0m \u001b[39mreturn\u001b[39;00m \u001b[39mself\u001b[39;49m\u001b[39m.\u001b[39;49mexecute(Command\u001b[39m.\u001b[39;49mFIND_ELEMENT, {\u001b[39m\"\u001b[39;49m\u001b[39musing\u001b[39;49m\u001b[39m\"\u001b[39;49m: by, \u001b[39m\"\u001b[39;49m\u001b[39mvalue\u001b[39;49m\u001b[39m\"\u001b[39;49m: value})[\u001b[39m\"\u001b[39m\u001b[39mvalue\u001b[39m\u001b[39m\"\u001b[39m]\n",
      "File \u001b[1;32md:\\Repos\\Other\\toolformer\\backend\\venv\\lib\\site-packages\\selenium\\webdriver\\remote\\webdriver.py:440\u001b[0m, in \u001b[0;36mWebDriver.execute\u001b[1;34m(self, driver_command, params)\u001b[0m\n\u001b[0;32m    438\u001b[0m response \u001b[39m=\u001b[39m \u001b[39mself\u001b[39m\u001b[39m.\u001b[39mcommand_executor\u001b[39m.\u001b[39mexecute(driver_command, params)\n\u001b[0;32m    439\u001b[0m \u001b[39mif\u001b[39;00m response:\n\u001b[1;32m--> 440\u001b[0m     \u001b[39mself\u001b[39;49m\u001b[39m.\u001b[39;49merror_handler\u001b[39m.\u001b[39;49mcheck_response(response)\n\u001b[0;32m    441\u001b[0m     response[\u001b[39m\"\u001b[39m\u001b[39mvalue\u001b[39m\u001b[39m\"\u001b[39m] \u001b[39m=\u001b[39m \u001b[39mself\u001b[39m\u001b[39m.\u001b[39m_unwrap_value(response\u001b[39m.\u001b[39mget(\u001b[39m\"\u001b[39m\u001b[39mvalue\u001b[39m\u001b[39m\"\u001b[39m, \u001b[39mNone\u001b[39;00m))\n\u001b[0;32m    442\u001b[0m     \u001b[39mreturn\u001b[39;00m response\n",
      "File \u001b[1;32md:\\Repos\\Other\\toolformer\\backend\\venv\\lib\\site-packages\\selenium\\webdriver\\remote\\errorhandler.py:245\u001b[0m, in \u001b[0;36mErrorHandler.check_response\u001b[1;34m(self, response)\u001b[0m\n\u001b[0;32m    243\u001b[0m         alert_text \u001b[39m=\u001b[39m value[\u001b[39m\"\u001b[39m\u001b[39malert\u001b[39m\u001b[39m\"\u001b[39m]\u001b[39m.\u001b[39mget(\u001b[39m\"\u001b[39m\u001b[39mtext\u001b[39m\u001b[39m\"\u001b[39m)\n\u001b[0;32m    244\u001b[0m     \u001b[39mraise\u001b[39;00m exception_class(message, screen, stacktrace, alert_text)  \u001b[39m# type: ignore[call-arg]  # mypy is not smart enough here\u001b[39;00m\n\u001b[1;32m--> 245\u001b[0m \u001b[39mraise\u001b[39;00m exception_class(message, screen, stacktrace)\n",
      "\u001b[1;31mInvalidSelectorException\u001b[0m: Message: invalid selector: An invalid or illegal selector was specified\n  (Session info: MicrosoftEdge=111.0.1661.54)\nStacktrace:\nBacktrace:\n\tMicrosoft::Applications::Events::EventProperties::SetProperty [0x00007FF7238D3C22+14194]\n\tMicrosoft::Applications::Events::EventProperty::EventProperty [0x00007FF72386AEC2+817458]\n\t(No symbol) [0x00007FF7234FDB50]\n\t(No symbol) [0x00007FF72350195D]\n\t(No symbol) [0x00007FF7235015D9]\n\t(No symbol) [0x00007FF723501A30]\n\t(No symbol) [0x00007FF72354011B]\n\t(No symbol) [0x00007FF72354070C]\n\t(No symbol) [0x00007FF72357C277]\n\t(No symbol) [0x00007FF7235606CF]\n\t(No symbol) [0x00007FF723533121]\n\t(No symbol) [0x00007FF7235796FE]\n\t(No symbol) [0x00007FF723560343]\n\t(No symbol) [0x00007FF723531FFC]\n\t(No symbol) [0x00007FF723530F7E]\n\t(No symbol) [0x00007FF7235327EE]\n\tMicrosoft::Applications::Events::EventProperties::SetProperty [0x00007FF72374EAA0+180080]\n\t(No symbol) [0x00007FF723600B17]\n\tMicrosoft::Applications::Events::EventProperty::EventProperty [0x00007FF7237AF772+49634]\n\tMicrosoft::Applications::Events::EventProperty::EventProperty [0x00007FF7237B2975+62437]\n\tMicrosoft::Applications::Events::ILogManager::DispatchEventBroadcast [0x00007FF723AC1488+1408232]\n\tMicrosoft::Applications::Events::EventProperty::EventProperty [0x00007FF7238733CF+851519]\n\tMicrosoft::Applications::Events::EventProperty::EventProperty [0x00007FF723878434+872100]\n\tMicrosoft::Applications::Events::EventProperty::EventProperty [0x00007FF72387858C+872444]\n\tMicrosoft::Applications::Events::EventProperty::EventProperty [0x00007FF72388089B+905995]\n\tBaseThreadInitThunk [0x00007FF9F8D87614+20]\n\tRtlUserThreadStart [0x00007FF9FAC426A1+33]\n"
     ]
    }
   ],
   "source": [
    "logInSelector = await getSelector()\n",
    "print(logInSelector)\n",
    "click(logInSelector)"
   ]
  },
  {
   "cell_type": "code",
   "execution_count": 16,
   "metadata": {},
   "outputs": [
    {
     "name": "stdout",
     "output_type": "stream",
     "text": [
      "Prompting user to click\n",
      "Refining selector with remote model\n",
      "input[autocomplete=\"username\"]\n"
     ]
    }
   ],
   "source": [
    "usernameSelector = await getSelector()\n",
    "print(usernameSelector)\n",
    "focus(usernameSelector)"
   ]
  },
  {
   "cell_type": "code",
   "execution_count": 18,
   "metadata": {},
   "outputs": [],
   "source": [
    "import mss\n",
    "import pyautogui\n",
    "from IPython.display import display\n",
    "from PIL import Image\n",
    "def getMouseMonitorScreenshot():\n",
    "    # Get the current mouse position\n",
    "    mouse_x, mouse_y = pyautogui.position()\n",
    "\n",
    "    # Determine the monitor the mouse is on\n",
    "    with mss.mss() as sct:\n",
    "        target_monitor = None\n",
    "        for monitor in sct.monitors[1:]:\n",
    "            if monitor[\"left\"] <= mouse_x < monitor[\"left\"] + monitor[\"width\"] and monitor[\"top\"] <= mouse_y < monitor[\"top\"] + monitor[\"height\"]:\n",
    "                target_monitor = monitor\n",
    "                break\n",
    "\n",
    "        if target_monitor:\n",
    "            image = sct.grab(target_monitor)\n",
    "            return Image.frombytes(\"RGB\", image.size, image.bgra, \"raw\", \"BGRX\")\n",
    "        else:\n",
    "            return None"
   ]
  },
  {
   "cell_type": "code",
   "execution_count": 5,
   "metadata": {},
   "outputs": [
    {
     "data": {
      "text/plain": [
       "'J File Edit Selection view Go ‘© browser.ipynb - toolformer (Workspace) - Visual Studio Code oOegonr - a x\\n| EXPLORER ++ browseripynb U @ @ README.md U B® install-dependencies.ps1 M @#aunoao-\\n\\\\ VS CODE PETS © backend > = browseripynb > m#Picker > CHimport pytesseract\\n“ ” ff WY, 4+ code + Markdown | [> Run All = Clear all Outputs ‘D Restart | --- G1 venv (Python 3.10.9) =\\n\\n(7) Xavier\\n(ack) on T...\\n\\n\\\\ OPEN EDITORS |1 unsaved\\n\\nShh B- @\\n\\n(© browseripynb backend U De\\n@ READMEMmd b: u\\nBF install-dependencies ps... M\\n\\\\ TOOLFORMER (WORKSPACE)\\n> B& downloads\\n@ lama-7b-hf\\nfe models\\n@ mio-small 4 © 00s Python\\n& old\\npythia-2.88-deduped\\npythia-6.98-deduped\\n\\nimport pytesseract\\npytesseract.pytesseract.tesseract_cmd = r\"C: \\\\Program Files\\\\Tesseract-(\\n\\na\\n2\\n3 def recognize text (image):\\n4 | return pytesseract.image_to_string(image, lang-\"eng\")\\n5\\n6\\n\\n4%\\n2\\nbie\\n>\\n1m)\\n\\nqo Pacognize text (getMouseHonitorScreenshot())\\n7]\\n\\nA\\n\\ngitignore\\n\\nbrowseripynb u\\n\\nconversationpynb = M\\n\\nexploration ipynb u\\nM\\nM\\n\\n1 program\\nGo to twitter.com.\\n3 Check if the user is logged in. If there is\\n\\ninstall-dependencies.ps1\\noutputwav\\nREADME.md\\nrun_text_repl.pst\\n\\nrun txts\\n\\nrungs\\n\\ntokens.ipynb\\n\\ntts.ipynb\\n\\n> @ frontend B71 Y 63s Python:\\n> @ llamacpp\\n\\n> @ text-generation-webui ] J .\\npOara Forge MDK ‘shale 4 :\\n> © Ideas ° ’\\n\\n© oe =\\n> © dalai — . x\\nSane 1 from selenium import webdriver\\n2 from selenium.webdriver.common.by import By\\n> HIDDEN ITEMS A ane\\n\\n© Y\\n\\nfrom selenium import webdriver\\nfrom selenium.webdriver.common.keys import Keys\\n\\ndriver = webdriver.Edge()\\n\\ndriver.get(“https://twitter\\n\\ncon\")\\n\\nOOURENOOCRVUUCRRSTER\\n\\nounwne\\n\\ni a 239M\\n@ oringriays... ES Kubbi-tmber CY sharex 15.0 Qe ACO SEHR OSE EADY NG Poo BD |\\n\\n'"
      ]
     },
     "execution_count": 5,
     "metadata": {},
     "output_type": "execute_result"
    }
   ],
   "source": [
    "import pytesseract\n",
    "pytesseract.pytesseract.tesseract_cmd = r\"C:\\Program Files\\Tesseract-OCR\\tesseract.exe\"\n",
    "def recognize_text(image):\n",
    "    return pytesseract.image_to_string(image, lang=\"eng\")\n"
   ]
  },
  {
   "cell_type": "code",
   "execution_count": 21,
   "metadata": {},
   "outputs": [],
   "source": [
    "sleep(1)\n",
    "focus(usernameSelector)"
   ]
  },
  {
   "cell_type": "code",
   "execution_count": 23,
   "metadata": {},
   "outputs": [],
   "source": [
    "import pyautogui\n",
    "from time import sleep\n",
    "sleep(1)\n",
    "pyautogui.hotkey(\"ctrl\",\"shift\",\"space\")\n",
    "sleep(0.5)\n",
    "text = recognize_text(getMouseMonitorScreenshot())\n",
    "if \"Search 1Password\" in text:\n",
    "    pyautogui.typewrite(\"twitter\")\n",
    "    pyautogui.hotkey(\"ctrl\",\"c\")\n",
    "    focus(usernameSelector)\n",
    "    sleep(0.5)\n",
    "    pyautogui.hotkey(\"ctrl\",\"v\")\n",
    "    "
   ]
  },
  {
   "cell_type": "code",
   "execution_count": 28,
   "metadata": {},
   "outputs": [
    {
     "name": "stdout",
     "output_type": "stream",
     "text": [
      "a[href=\"/home\"]\n"
     ]
    },
    {
     "data": {
      "text/plain": [
       "'not found'"
      ]
     },
     "execution_count": 28,
     "metadata": {},
     "output_type": "execute_result"
    }
   ],
   "source": [
    "print(loginNextSelector)\n",
    "driver.execute_script(f\"return document.querySelector(`{loginNextSelector}`) || 'not found'\")"
   ]
  },
  {
   "cell_type": "code",
   "execution_count": 33,
   "metadata": {},
   "outputs": [
    {
     "name": "stdout",
     "output_type": "stream",
     "text": [
      "Prompting user to click\n",
      "Found element with selector body[data-innertext=\"\"] > div[aria-hidden=\"false\"] > div[aria-hidden=\"false\"] > div[aria-hidden=\"false\"] > div[aria-hidden=\"false\"] > div[data-innertext=\"\"] > div[data-innertext=\"\"] > div[data-innertext=\"\"] > div[data-innertext=\"\"] > div[data-innertext=\"\"] > div[data-innertext=\"\"] > div[data-innertext=\"\"] > span[data-innertext=\"\"] > span[data-innertext=\"\"]\n",
      "Refining selector with remote model\n",
      "body[data-innertext=\"\"] > div[aria-hidden=\"false\"] > div[aria-hidden=\"false\"] > div[aria-hidden=\"false\"] > div[aria-hidden=\"false\"] > div[data-innertext=\"\"] > div[data-innertext=\"\"] > div[data-innertext=\"\"] > div[data-innertext=\"\"] > div[data-innertext=\"\"] > span[data-innertext=\"\"] > span[data-innertext=\"\"]\n"
     ]
    },
    {
     "ename": "JavascriptException",
     "evalue": "Message: javascript error: Cannot read properties of null (reading 'click')\n  (Session info: MicrosoftEdge=111.0.1661.54)\nStacktrace:\nBacktrace:\n\tMicrosoft::Applications::Events::EventProperties::SetProperty [0x00007FF7238D3C22+14194]\n\tMicrosoft::Applications::Events::EventProperty::EventProperty [0x00007FF72386AEC2+817458]\n\t(No symbol) [0x00007FF7234FDB50]\n\t(No symbol) [0x00007FF72350195D]\n\t(No symbol) [0x00007FF7235015D9]\n\t(No symbol) [0x00007FF723502640]\n\t(No symbol) [0x00007FF72357A692]\n\t(No symbol) [0x00007FF72356068A]\n\t(No symbol) [0x00007FF723533121]\n\t(No symbol) [0x00007FF7235796FE]\n\t(No symbol) [0x00007FF723560343]\n\t(No symbol) [0x00007FF723531FFC]\n\t(No symbol) [0x00007FF723530F7E]\n\t(No symbol) [0x00007FF7235327EE]\n\tMicrosoft::Applications::Events::EventProperties::SetProperty [0x00007FF72374EAA0+180080]\n\t(No symbol) [0x00007FF723600B17]\n\tMicrosoft::Applications::Events::EventProperty::EventProperty [0x00007FF7237AF772+49634]\n\tMicrosoft::Applications::Events::EventProperty::EventProperty [0x00007FF7237B2975+62437]\n\tMicrosoft::Applications::Events::ILogManager::DispatchEventBroadcast [0x00007FF723AC1488+1408232]\n\tMicrosoft::Applications::Events::EventProperty::EventProperty [0x00007FF7238733CF+851519]\n\tMicrosoft::Applications::Events::EventProperty::EventProperty [0x00007FF723878434+872100]\n\tMicrosoft::Applications::Events::EventProperty::EventProperty [0x00007FF72387858C+872444]\n\tMicrosoft::Applications::Events::EventProperty::EventProperty [0x00007FF72388089B+905995]\n\tBaseThreadInitThunk [0x00007FF9F8D87614+20]\n\tRtlUserThreadStart [0x00007FF9FAC426A1+33]\n",
     "output_type": "error",
     "traceback": [
      "\u001b[1;31m---------------------------------------------------------------------------\u001b[0m",
      "\u001b[1;31mJavascriptException\u001b[0m                       Traceback (most recent call last)",
      "Cell \u001b[1;32mIn[33], line 3\u001b[0m\n\u001b[0;32m      1\u001b[0m loginNextSelector \u001b[39m=\u001b[39m \u001b[39mawait\u001b[39;00m getSelector()\n\u001b[0;32m      2\u001b[0m \u001b[39mprint\u001b[39m(loginNextSelector)\n\u001b[1;32m----> 3\u001b[0m click(loginNextSelector)\n",
      "Cell \u001b[1;32mIn[10], line 2\u001b[0m, in \u001b[0;36mclick\u001b[1;34m(selector)\u001b[0m\n\u001b[0;32m      1\u001b[0m \u001b[39mdef\u001b[39;00m \u001b[39mclick\u001b[39m(selector):\n\u001b[1;32m----> 2\u001b[0m     driver\u001b[39m.\u001b[39;49mexecute_script(\u001b[39mf\u001b[39;49m\u001b[39m\"\u001b[39;49m\u001b[39mdocument.querySelector(\u001b[39;49m\u001b[39m'\u001b[39;49m\u001b[39m{\u001b[39;49;00mselector\u001b[39m}\u001b[39;49;00m\u001b[39m'\u001b[39;49m\u001b[39m).click()\u001b[39;49m\u001b[39m\"\u001b[39;49m)\n",
      "File \u001b[1;32md:\\Repos\\Other\\toolformer\\backend\\venv\\lib\\site-packages\\selenium\\webdriver\\remote\\webdriver.py:500\u001b[0m, in \u001b[0;36mWebDriver.execute_script\u001b[1;34m(self, script, *args)\u001b[0m\n\u001b[0;32m    497\u001b[0m converted_args \u001b[39m=\u001b[39m \u001b[39mlist\u001b[39m(args)\n\u001b[0;32m    498\u001b[0m command \u001b[39m=\u001b[39m Command\u001b[39m.\u001b[39mW3C_EXECUTE_SCRIPT\n\u001b[1;32m--> 500\u001b[0m \u001b[39mreturn\u001b[39;00m \u001b[39mself\u001b[39;49m\u001b[39m.\u001b[39;49mexecute(command, {\u001b[39m\"\u001b[39;49m\u001b[39mscript\u001b[39;49m\u001b[39m\"\u001b[39;49m: script, \u001b[39m\"\u001b[39;49m\u001b[39margs\u001b[39;49m\u001b[39m\"\u001b[39;49m: converted_args})[\u001b[39m\"\u001b[39m\u001b[39mvalue\u001b[39m\u001b[39m\"\u001b[39m]\n",
      "File \u001b[1;32md:\\Repos\\Other\\toolformer\\backend\\venv\\lib\\site-packages\\selenium\\webdriver\\remote\\webdriver.py:440\u001b[0m, in \u001b[0;36mWebDriver.execute\u001b[1;34m(self, driver_command, params)\u001b[0m\n\u001b[0;32m    438\u001b[0m response \u001b[39m=\u001b[39m \u001b[39mself\u001b[39m\u001b[39m.\u001b[39mcommand_executor\u001b[39m.\u001b[39mexecute(driver_command, params)\n\u001b[0;32m    439\u001b[0m \u001b[39mif\u001b[39;00m response:\n\u001b[1;32m--> 440\u001b[0m     \u001b[39mself\u001b[39;49m\u001b[39m.\u001b[39;49merror_handler\u001b[39m.\u001b[39;49mcheck_response(response)\n\u001b[0;32m    441\u001b[0m     response[\u001b[39m\"\u001b[39m\u001b[39mvalue\u001b[39m\u001b[39m\"\u001b[39m] \u001b[39m=\u001b[39m \u001b[39mself\u001b[39m\u001b[39m.\u001b[39m_unwrap_value(response\u001b[39m.\u001b[39mget(\u001b[39m\"\u001b[39m\u001b[39mvalue\u001b[39m\u001b[39m\"\u001b[39m, \u001b[39mNone\u001b[39;00m))\n\u001b[0;32m    442\u001b[0m     \u001b[39mreturn\u001b[39;00m response\n",
      "File \u001b[1;32md:\\Repos\\Other\\toolformer\\backend\\venv\\lib\\site-packages\\selenium\\webdriver\\remote\\errorhandler.py:245\u001b[0m, in \u001b[0;36mErrorHandler.check_response\u001b[1;34m(self, response)\u001b[0m\n\u001b[0;32m    243\u001b[0m         alert_text \u001b[39m=\u001b[39m value[\u001b[39m\"\u001b[39m\u001b[39malert\u001b[39m\u001b[39m\"\u001b[39m]\u001b[39m.\u001b[39mget(\u001b[39m\"\u001b[39m\u001b[39mtext\u001b[39m\u001b[39m\"\u001b[39m)\n\u001b[0;32m    244\u001b[0m     \u001b[39mraise\u001b[39;00m exception_class(message, screen, stacktrace, alert_text)  \u001b[39m# type: ignore[call-arg]  # mypy is not smart enough here\u001b[39;00m\n\u001b[1;32m--> 245\u001b[0m \u001b[39mraise\u001b[39;00m exception_class(message, screen, stacktrace)\n",
      "\u001b[1;31mJavascriptException\u001b[0m: Message: javascript error: Cannot read properties of null (reading 'click')\n  (Session info: MicrosoftEdge=111.0.1661.54)\nStacktrace:\nBacktrace:\n\tMicrosoft::Applications::Events::EventProperties::SetProperty [0x00007FF7238D3C22+14194]\n\tMicrosoft::Applications::Events::EventProperty::EventProperty [0x00007FF72386AEC2+817458]\n\t(No symbol) [0x00007FF7234FDB50]\n\t(No symbol) [0x00007FF72350195D]\n\t(No symbol) [0x00007FF7235015D9]\n\t(No symbol) [0x00007FF723502640]\n\t(No symbol) [0x00007FF72357A692]\n\t(No symbol) [0x00007FF72356068A]\n\t(No symbol) [0x00007FF723533121]\n\t(No symbol) [0x00007FF7235796FE]\n\t(No symbol) [0x00007FF723560343]\n\t(No symbol) [0x00007FF723531FFC]\n\t(No symbol) [0x00007FF723530F7E]\n\t(No symbol) [0x00007FF7235327EE]\n\tMicrosoft::Applications::Events::EventProperties::SetProperty [0x00007FF72374EAA0+180080]\n\t(No symbol) [0x00007FF723600B17]\n\tMicrosoft::Applications::Events::EventProperty::EventProperty [0x00007FF7237AF772+49634]\n\tMicrosoft::Applications::Events::EventProperty::EventProperty [0x00007FF7237B2975+62437]\n\tMicrosoft::Applications::Events::ILogManager::DispatchEventBroadcast [0x00007FF723AC1488+1408232]\n\tMicrosoft::Applications::Events::EventProperty::EventProperty [0x00007FF7238733CF+851519]\n\tMicrosoft::Applications::Events::EventProperty::EventProperty [0x00007FF723878434+872100]\n\tMicrosoft::Applications::Events::EventProperty::EventProperty [0x00007FF72387858C+872444]\n\tMicrosoft::Applications::Events::EventProperty::EventProperty [0x00007FF72388089B+905995]\n\tBaseThreadInitThunk [0x00007FF9F8D87614+20]\n\tRtlUserThreadStart [0x00007FF9FAC426A1+33]\n"
     ]
    }
   ],
   "source": [
    "loginNextSelector = await getSelector()\n",
    "print(loginNextSelector)\n",
    "click(loginNextSelector)"
   ]
  },
  {
   "attachments": {},
   "cell_type": "markdown",
   "metadata": {},
   "source": [
    "# Tweet gatherer"
   ]
  },
  {
   "cell_type": "code",
   "execution_count": null,
   "metadata": {},
   "outputs": [],
   "source": [
    "program = \"\"\"\n",
    "Go to twitter.com.\n",
    "Check if the user is logged in. If there is \"\"\""
   ]
  },
  {
   "cell_type": "code",
   "execution_count": 37,
   "metadata": {},
   "outputs": [],
   "source": [
    "from selenium import webdriver\n",
    "from selenium.webdriver.common.keys import Keys\n",
    "\n",
    "driver = webdriver.Edge()\n",
    "driver.get(\"https://twitter.com\")\n"
   ]
  },
  {
   "attachments": {},
   "cell_type": "markdown",
   "metadata": {},
   "source": [
    "# Forge MDK"
   ]
  },
  {
   "cell_type": "code",
   "execution_count": null,
   "metadata": {},
   "outputs": [
    {
     "name": "stdout",
     "output_type": "stream",
     "text": [
      "href: https://maven.minecraftforge.net/net/minecraftforge/forge/1.19.3-44.1.23/forge-1.19.3-44.1.23-mdk.zip\n"
     ]
    }
   ],
   "source": [
    "from selenium import webdriver\n",
    "from selenium.webdriver.common.by import By\n",
    "from selenium.webdriver.edge.options import Options as EdgeOptions\n",
    "from pathlib import Path\n",
    "\n",
    "downloads_dir = Path(\"downloads\")\n",
    "downloads_dir.mkdir(exist_ok=True)\n",
    "# from msedge.selenium_tools import EdgeOptions\n",
    "options = EdgeOptions()\n",
    "options.add_experimental_option(\"prefs\", {\n",
    "    \"download.default_directory\": str(downloads_dir),\n",
    "    \"download.directory_upgrade\": True,\n",
    "})\n",
    "# options.add_argument(\"--headless\")\n",
    "# options.add_argument(\"--disable-gpu\") \n",
    "browser = webdriver.Edge(options=options)\n",
    "browser.set_window_position(1920,0)\n",
    "browser.get(\"https://files.minecraftforge.net/\")\n",
    "href = browser.find_element(By.CSS_SELECTOR, \"a[title='Mdk']\").get_attribute(\"href\")\n",
    "href = href.split(\"&url=\")[1]\n",
    "browser.get(href)\n",
    "# browser.close()\n",
    "# del browser\n",
    "print(f\"href: {href}\")"
   ]
  },
  {
   "cell_type": "code",
   "execution_count": null,
   "metadata": {},
   "outputs": [
    {
     "name": "stdout",
     "output_type": "stream",
     "text": [
      "d:\\Repos\\Other\\toolformer\\backend\\src\n",
      "hehe\n"
     ]
    },
    {
     "name": "stderr",
     "output_type": "stream",
     "text": [
      "Traceback (most recent call last):\n",
      "  File \"d:\\Repos\\Other\\toolformer\\backend\\venv\\lib\\site-packages\\selenium\\webdriver\\common\\service.py\", line 72, in start\n",
      "    self.process = subprocess.Popen(cmd, env=self.env,\n",
      "  File \"C:\\Users\\TeamD\\.conda\\envs\\3.10\\lib\\subprocess.py\", line 971, in __init__\n",
      "    self._execute_child(args, executable, preexec_fn, close_fds,\n",
      "  File \"C:\\Users\\TeamD\\.conda\\envs\\3.10\\lib\\subprocess.py\", line 1440, in _execute_child\n",
      "    hp, ht, pid, tid = _winapi.CreateProcess(executable, args,\n",
      "FileNotFoundError: [WinError 2] The system cannot find the file specified\n",
      "\n",
      "During handling of the above exception, another exception occurred:\n",
      "\n",
      "Traceback (most recent call last):\n",
      "  File \"d:\\Repos\\Other\\toolformer\\backend\\src\\tools\\helpers.py\", line 35, in handle_tool_invocation\n",
      "    result = tool.method(params)\n",
      "  File \"d:\\Repos\\Other\\toolformer\\backend\\src\\tools\\edge.py\", line 31, in invoke\n",
      "    driver = Edge(options=options)\n",
      "  File \"d:\\Repos\\Other\\toolformer\\backend\\venv\\lib\\site-packages\\msedge\\selenium_tools\\webdriver.py\", line 104, in __init__\n",
      "    self.service.start()\n",
      "  File \"d:\\Repos\\Other\\toolformer\\backend\\venv\\lib\\site-packages\\selenium\\webdriver\\common\\service.py\", line 81, in start\n",
      "    raise WebDriverException(\n",
      "selenium.common.exceptions.WebDriverException: Message: 'msedgedriver' executable needs to be in PATH. Please download from http://go.microsoft.com/fwlink/?LinkId=619687\n",
      "\n"
     ]
    },
    {
     "data": {
      "text/plain": [
       "(True,\n",
       " \"ERROR: Message: 'msedgedriver' executable needs to be in PATH. Please download from http://go.microsoft.com/fwlink/?LinkId=619687\\n\")"
      ]
     },
     "metadata": {},
     "output_type": "display_data"
    }
   ],
   "source": [
    "%cd ../../src\n",
    "from tools.forge_mdk import ForgeMDKTool\n",
    "from tools.helpers import handle_tool_invocation\n",
    "# tool = ForgeMDKTool()\n",
    "# tool.invoke(\"latest\")\n",
    "await handle_tool_invocation(\"[EDGE(open https://files.minecraftforge.net/) ->\")"
   ]
  }
 ],
 "metadata": {
  "kernelspec": {
   "display_name": "venv",
   "language": "python",
   "name": "python3"
  },
  "language_info": {
   "codemirror_mode": {
    "name": "ipython",
    "version": 3
   },
   "file_extension": ".py",
   "mimetype": "text/x-python",
   "name": "python",
   "nbconvert_exporter": "python",
   "pygments_lexer": "ipython3",
   "version": "3.10.9"
  },
  "orig_nbformat": 4
 },
 "nbformat": 4,
 "nbformat_minor": 2
}
