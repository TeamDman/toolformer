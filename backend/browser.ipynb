{
 "cells": [
  {
   "cell_type": "code",
   "execution_count": null,
   "metadata": {},
   "outputs": [],
   "source": [
    "%load_ext autoreload\n",
    "%autoreload 2"
   ]
  },
  {
   "cell_type": "code",
   "execution_count": 2,
   "metadata": {},
   "outputs": [
    {
     "name": "stdout",
     "output_type": "stream",
     "text": [
      "4.8.2\n"
     ]
    }
   ],
   "source": [
    "import selenium\n",
    "print(selenium.__version__)"
   ]
  },
  {
   "attachments": {},
   "cell_type": "markdown",
   "metadata": {},
   "source": [
    "# 4Chan"
   ]
  },
  {
   "cell_type": "code",
   "execution_count": 3,
   "metadata": {},
   "outputs": [],
   "source": [
    "from selenium import webdriver\n",
    "from selenium.webdriver.common.by import By\n",
    "from selenium.webdriver.edge.options import Options as EdgeOptions\n",
    "from pathlib import Path\n",
    "\n",
    "downloads_dir = Path(\"downloads\")\n",
    "downloads_dir.mkdir(exist_ok=True)\n",
    "# from msedge.selenium_tools import EdgeOptions\n",
    "options = EdgeOptions()\n",
    "options.add_experimental_option(\"prefs\", {\n",
    "    \"download.default_directory\": str(downloads_dir),\n",
    "    \"download.directory_upgrade\": True,\n",
    "})\n",
    "# options.add_argument(\"--headless\")\n",
    "# options.add_argument(\"--disable-gpu\") \n",
    "browser = webdriver.Edge(options=options)\n",
    "# browser.set_window_position(1920,0)\n",
    "browser.get(\"https://boards.4channel.org/g/thread/92468569#p92471725\")\n",
    "# href = browser.find_element(By.CSS_SELECTOR, \"a[title='Mdk']\").get_attribute(\"href\")\n",
    "# href = href.split(\"&url=\")[1]\n",
    "# browser.get(href)\n",
    "# browser.close()\n",
    "# del browser\n",
    "# print(f\"href: {href}\")"
   ]
  },
  {
   "cell_type": "code",
   "execution_count": 17,
   "metadata": {},
   "outputs": [
    {
     "name": "stdout",
     "output_type": "stream",
     "text": [
      "{'a': 4, 'b': 6, 'myName': 'is daddy'}\n"
     ]
    }
   ],
   "source": [
    "result = browser.execute_script(r\"return {a:4, b:6, myName:'is daddy'};\")\n",
    "print(result) # holy shit it converts the objects"
   ]
  },
  {
   "cell_type": "code",
   "execution_count": null,
   "metadata": {},
   "outputs": [],
   "source": [
    "import requests\n",
    "url = \"http://127.0.0.1:5000/\"\n",
    "#     prompt = f\"\"\"The following is a conversation between a human and an AI.\n",
    "# Human: {human_input}\n",
    "# AI:\"\"\"\n",
    "prompt=f\"\"\"Below is an instruction that describes a task, paired with an input that provides further context. Write a response that appropriately completes the request.\n",
    "\n",
    "### Instruction:\n",
    "{human_input}\n",
    "\n",
    "### Context:\n",
    "{human_input}\n",
    "\n",
    "### Response:\"\"\"\n",
    "data = {\"prompts\": [prompt]}\n",
    "response = requests.post(url, json=data).json()[0]\n",
    "response = response.replace(prompt, \"\")\n",
    "if \"Human:\" in response:\n",
    "    response = response.split(\"Human:\")[0]\n",
    "response = response.strip()\n",
    "return response\n",
    "# await get_response(\"Hi there!\")"
   ]
  },
  {
   "attachments": {},
   "cell_type": "markdown",
   "metadata": {},
   "source": [
    "# Picker"
   ]
  },
  {
   "cell_type": "code",
   "execution_count": 1,
   "metadata": {},
   "outputs": [],
   "source": [
    "from selenium import webdriver\n",
    "from selenium.webdriver.common.by import By\n",
    "\n",
    "driver = webdriver.Edge()\n",
    "driver.get(\"https://twitter.com\")"
   ]
  },
  {
   "cell_type": "code",
   "execution_count": 80,
   "metadata": {},
   "outputs": [],
   "source": [
    "async def getSelector(thing: str):\n",
    "    print(\"Prompting user to click\")\n",
    "    result = driver.execute_async_script(open(\"picker.js\",\"r\").read())\n",
    "    print(f\"Found element with selector {result}\")\n",
    "\n",
    "    import requests\n",
    "    url = \"http://127.0.0.1:5000/\"\n",
    "    PROMPT_DICT = {\n",
    "        \"prompt_input\": (\n",
    "            \"Below is an instruction that describes a task, paired with an input that provides further context. \"\n",
    "            \"Write a response that appropriately completes the request.\\n\\n\"\n",
    "            \"### Instruction:\\n{instruction}\\n\\n### Input:\\n{input}\\n\\n### Response:\"\n",
    "        ),\n",
    "        \"prompt_no_input\": (\n",
    "            \"Below is an instruction that describes a task. \"\n",
    "            \"Write a response that appropriately completes the request.\\n\\n\"\n",
    "            \"### Instruction:\\n{instruction}\\n\\n### Response:\"\n",
    "        ),\n",
    "    }\n",
    "    def fmt(prompt: str, input: str = \"\") -> str:\n",
    "        if input.strip() == \"\":\n",
    "            return PROMPT_DICT['prompt_no_input'].format_map({'instruction': prompt})\n",
    "        else:\n",
    "            return PROMPT_DICT['prompt_input'].format_map({'instruction': prompt, 'input': input})\n",
    "        \n",
    "    prompts=[\n",
    "    # fmt(\n",
    "    #     \"\"\"You are a calibration engine for a web interface.\n",
    "    # The user has just indicated the log in button on a webpage.\n",
    "    # Clean up the CSS selector for the log in button.\n",
    "    # Remove any unnecessary parts, and make sure it is as short as possible.\n",
    "    # You do not need to start at the root element.\n",
    "    # Try and make it as short as possible.\n",
    "\n",
    "    # ### Example Input:\n",
    "    # body > div#react-root > div > div:n-th-of-type(2) > div > a[href=\"/home\"] > div\n",
    "\n",
    "    # ### Example Output:\n",
    "    # a[href=\"/home\"]\n",
    "    # \"\"\",\n",
    "\n",
    "    #     result),\n",
    "        fmt(\n",
    "        \"\"\"You are a calibration engine for a web interface.\n",
    "The user has just indicated the {thing} on a webpage.\n",
    "Clean up the XPath selector for the {thing}.\n",
    "Remove any unnecessary parts, and make sure it is as short as possible.\n",
    "You do not need to start at the root element.\n",
    "Try and make it as short as possible.\n",
    "\n",
    "### Example Input:\n",
    "/html/body/div[@id=\"react-root\"]/div/div[2]/div/a[@href=\"/home\"]/div\n",
    "\n",
    "### Example Output:\n",
    "//a[@href=\"/home\"]\n",
    "\n",
    "### Example Input:\n",
    "/./body/./div/./div[@role='group']/./div/./div/./div/./div[@role='group']/./div/./div/./div/./div/./span[contains(., 'Log out')]/./span[contains(., 'Log out')]\n",
    "\n",
    "### Example Output:\n",
    "//span[text()[contains(., 'Log out')]]\n",
    "\n",
    "### Example Input:\n",
    "/./div/./input[@autocomplete='username']/./input[@autocomplete='username']\n",
    "\n",
    "### Example Output:\n",
    "//input[@autocomplete='username']\n",
    "\"\"\",\n",
    "\n",
    "        result),\n",
    "    ]\n",
    "    data = {\"prompts\": prompts}\n",
    "    print(\"Refining selector with remote model\")\n",
    "    response = requests.post(url, json=data).json()\n",
    "    # print(response)\n",
    "    selector = response[0].split(\"### Response:\")[1].split(\"###\")[0].strip()\n",
    "    print(f\"Refined selector: {selector}\")\n",
    "    assert driver.find_element(By.XPATH, selector) is not None\n",
    "    return selector\n"
   ]
  },
  {
   "cell_type": "code",
   "execution_count": 81,
   "metadata": {},
   "outputs": [],
   "source": [
    "from time import sleep"
   ]
  },
  {
   "cell_type": "code",
   "execution_count": 77,
   "metadata": {},
   "outputs": [],
   "source": [
    "def click(xpath):\n",
    "    driver.execute_script(f\"\"\"\n",
    "        document.evaluate(\n",
    "            `{xpath}`, document, null, XPathResult.FIRST_ORDERED_NODE_TYPE, null\n",
    "        ).singleNodeValue.click();\n",
    "    \"\"\")"
   ]
  },
  {
   "cell_type": "code",
   "execution_count": 112,
   "metadata": {},
   "outputs": [],
   "source": [
    "def focus(xpath):\n",
    "    \"\"\"\n",
    "    1. Insert a panel into the page to absorb a mouse click\n",
    "    2. Click the browser content area to allow for programmatic focusing of elements (browser security thing)\n",
    "    3. The panel removes itself\n",
    "    4. The element is focused\n",
    "    \"\"\"\n",
    "    import pyautogui\n",
    "    driver.execute_script(r\"\"\"\n",
    "const panel = document.createElement(\"div\");\n",
    "panel.style.position = \"fixed\";\n",
    "panel.style.top = \"0\";\n",
    "panel.style.left = \"0\";\n",
    "panel.style.width = \"100%\";\n",
    "panel.style.height = \"100%\";\n",
    "panel.style.zIndex = \"9999\";\n",
    "panel.style.background = \"rgba(0,0.5,0,0.5)\";\n",
    "panel.innerText = \"CLICK FOR FOCUS\";\n",
    "panel.style.color = \"white\";\n",
    "panel.style.fontSize = \"50px\";\n",
    "panel.style.fontFamily = \"Impact, Charcoal, sans-serif\";\n",
    "\n",
    "panel.style.display = \"flex\";\n",
    "panel.style.justifyContent = \"center\";\n",
    "panel.style.alignItems = \"center\";\n",
    "panel.style.cursor = \"pointer\";\n",
    "document.body.appendChild(panel);\n",
    "panel.addEventListener(\"click\", () => {\n",
    "    document.body.removeChild(panel);\n",
    "});\n",
    "\"\"\")\n",
    "    # click on the browser window\n",
    "    restore = pyautogui.position()\n",
    "    pyautogui.click(driver.get_window_position()['x'] + driver.get_window_size()[\"width\"]//4, driver.get_window_position()['y'] + driver.get_window_size()[\"height\"]//2)\n",
    "    pyautogui.moveTo(restore)\n",
    "\n",
    "    driver.execute_script(f\"\"\"\n",
    "        document.evaluate(\n",
    "            `{xpath}`, document, null, XPathResult.FIRST_ORDERED_NODE_TYPE, null\n",
    "        ).singleNodeValue.focus();\n",
    "    \"\"\")\n"
   ]
  },
  {
   "cell_type": "code",
   "execution_count": 68,
   "metadata": {},
   "outputs": [
    {
     "name": "stdout",
     "output_type": "stream",
     "text": [
      "Prompting user to click\n",
      "Found element with selector /./body/./div/./div/./div/./div/./div/./div/./div/./div/./div/./div/./div/./div/./div/./span[contains(., 'Log in')]/./span[contains(., 'Log in')]/./span[contains(., 'Log in')]/./span[contains(., 'Log in')]/./span[contains(., 'Log in')]\n",
      "Refining selector with remote model\n",
      "Refined selector: //*[text()[contains(., 'Log in')]]\n"
     ]
    }
   ],
   "source": [
    "logInSelector = await getSelector(\"log in button\")"
   ]
  },
  {
   "cell_type": "code",
   "execution_count": 69,
   "metadata": {},
   "outputs": [],
   "source": [
    "click(logInSelector)"
   ]
  },
  {
   "cell_type": "code",
   "execution_count": 82,
   "metadata": {},
   "outputs": [
    {
     "name": "stdout",
     "output_type": "stream",
     "text": [
      "Prompting user to click\n",
      "Found element with selector /./body/./div/./div/./div/./div[@id='layers']/./div/./div/./div/./div/./div/./div/./div[@role='group']/./div/./div/./div/./div[@role='group']/./div/./div/./div/./div/./div/./div/./div/./input[@autocomplete='username']/./input[@autocomplete='username']/./input[@autocomplete='username']\n",
      "Refining selector with remote model\n",
      "Refined selector: //input[@autocomplete='username']\n"
     ]
    }
   ],
   "source": [
    "usernameSelector = await getSelector(\"username input\")"
   ]
  },
  {
   "cell_type": "code",
   "execution_count": 113,
   "metadata": {},
   "outputs": [],
   "source": [
    "focus(usernameSelector)"
   ]
  },
  {
   "cell_type": "code",
   "execution_count": 130,
   "metadata": {},
   "outputs": [],
   "source": [
    "def didOnePassOpen():\n",
    "    import mss\n",
    "    import pyautogui\n",
    "    from IPython.display import display\n",
    "    from PIL import Image\n",
    "    def getMouseMonitorScreenshot():\n",
    "        # Get the current mouse position\n",
    "        mouse_x, mouse_y = pyautogui.position()\n",
    "\n",
    "        # Determine the monitor the mouse is on\n",
    "        with mss.mss() as sct:\n",
    "            target_monitor = None\n",
    "            for monitor in sct.monitors[1:]:\n",
    "                if monitor[\"left\"] <= mouse_x < monitor[\"left\"] + monitor[\"width\"] and monitor[\"top\"] <= mouse_y < monitor[\"top\"] + monitor[\"height\"]:\n",
    "                    target_monitor = monitor\n",
    "                    break\n",
    "\n",
    "            if target_monitor:\n",
    "                image = sct.grab(target_monitor)\n",
    "                return Image.frombytes(\"RGB\", image.size, image.bgra, \"raw\", \"BGRX\")\n",
    "            else:\n",
    "                return None\n",
    "    import pytesseract\n",
    "    pytesseract.pytesseract.tesseract_cmd = r\"C:\\Program Files\\Tesseract-OCR\\tesseract.exe\"\n",
    "    def recognize_text(image):\n",
    "        return pytesseract.image_to_string(image, lang=\"eng\")\n",
    "    \n",
    "    \n",
    "    text = recognize_text(getMouseMonitorScreenshot())\n",
    "    # print(\"OCR\", text)\n",
    "    if \"Search 1Password\" in text or \"Q earch 1Password\" in text:\n",
    "        return True\n",
    "    elif \"Copy Username\" in text and \"Copy Password\" in text:\n",
    "        return True\n",
    "    else:\n",
    "        return False\n"
   ]
  },
  {
   "cell_type": "code",
   "execution_count": 116,
   "metadata": {},
   "outputs": [],
   "source": [
    "import pyautogui\n",
    "pyautogui.hotkey(\"ctrl\",\"shift\",\"space\")\n",
    "sleep(0.5)\n",
    "if didOnePassOpen():\n",
    "    pyautogui.typewrite(\"twitter\")\n",
    "    sleep(0.5)\n",
    "    pyautogui.hotkey(\"ctrl\",\"c\")\n",
    "    focus(usernameSelector)\n",
    "    sleep(0.5)\n",
    "    pyautogui.hotkey(\"ctrl\",\"a\")\n",
    "    pyautogui.hotkey(\"ctrl\",\"v\")\n",
    "    "
   ]
  },
  {
   "cell_type": "code",
   "execution_count": 87,
   "metadata": {},
   "outputs": [
    {
     "name": "stdout",
     "output_type": "stream",
     "text": [
      "Prompting user to click\n",
      "Found element with selector /./body/./div/./div/./div/./div[@id='layers']/./div/./div/./div/./div/./div/./div/./div[@role='group']/./div/./div/./div/./div[@role='group']/./div/./div/./div/./div/./span[contains(., 'Next')]/./span[contains(., 'Next')]\n",
      "Refining selector with remote model\n",
      "Refined selector: //span[text()[contains(., 'Next')]]\n"
     ]
    }
   ],
   "source": [
    "loginNextSelector = await getSelector(\"next button\")"
   ]
  },
  {
   "cell_type": "code",
   "execution_count": 117,
   "metadata": {},
   "outputs": [],
   "source": [
    "click(loginNextSelector)"
   ]
  },
  {
   "cell_type": "code",
   "execution_count": 89,
   "metadata": {},
   "outputs": [
    {
     "name": "stdout",
     "output_type": "stream",
     "text": [
      "Prompting user to click\n",
      "Found element with selector /./body/./div/./div/./div/./div[@id='layers']/./div/./div/./div/./div/./div/./div/./div[@role='group']/./div/./div/./div/./div[@role='group']/./div/./div/./div/./div/./div/./div/./div/./div/./div/./input[@autocomplete='current-password']\n",
      "Refining selector with remote model\n",
      "Refined selector: //input[@autocomplete='current-password']\n"
     ]
    }
   ],
   "source": [
    "passwordSelector = await getSelector(\"password input\")"
   ]
  },
  {
   "cell_type": "code",
   "execution_count": 119,
   "metadata": {},
   "outputs": [],
   "source": [
    "focus(passwordSelector)"
   ]
  },
  {
   "cell_type": "code",
   "execution_count": 132,
   "metadata": {},
   "outputs": [],
   "source": [
    "pyautogui.hotkey(\"ctrl\",\"shift\",\"space\")\n",
    "sleep(0.5)\n",
    "if didOnePassOpen():\n",
    "    pyautogui.typewrite(\"twitter\")\n",
    "    sleep(0.5)\n",
    "    pyautogui.hotkey(\"ctrl\",\"shift\",\"c\")\n",
    "    focus(passwordSelector)\n",
    "    sleep(0.5)\n",
    "    pyautogui.hotkey(\"ctrl\",\"a\")\n",
    "    pyautogui.hotkey(\"ctrl\",\"v\")\n",
    "else:\n",
    "    raise Exception(\"1Password not open\")"
   ]
  },
  {
   "cell_type": "code",
   "execution_count": 133,
   "metadata": {},
   "outputs": [
    {
     "name": "stdout",
     "output_type": "stream",
     "text": [
      "Prompting user to click\n"
     ]
    }
   ],
   "source": [
    "loginSelector = await getSelector(\"dialog login button\")"
   ]
  },
  {
   "cell_type": "code",
   "execution_count": 94,
   "metadata": {},
   "outputs": [],
   "source": [
    "click(loginSelector)"
   ]
  },
  {
   "attachments": {},
   "cell_type": "markdown",
   "metadata": {},
   "source": [
    "# Tweet gatherer"
   ]
  },
  {
   "cell_type": "code",
   "execution_count": null,
   "metadata": {},
   "outputs": [],
   "source": [
    "program = \"\"\"\n",
    "Go to twitter.com.\n",
    "Check if the user is logged in. If there is \"\"\""
   ]
  },
  {
   "cell_type": "code",
   "execution_count": 37,
   "metadata": {},
   "outputs": [],
   "source": [
    "from selenium import webdriver\n",
    "from selenium.webdriver.common.keys import Keys\n",
    "\n",
    "driver = webdriver.Edge()\n",
    "driver.get(\"https://twitter.com\")\n"
   ]
  },
  {
   "attachments": {},
   "cell_type": "markdown",
   "metadata": {},
   "source": [
    "# Forge MDK"
   ]
  },
  {
   "cell_type": "code",
   "execution_count": null,
   "metadata": {},
   "outputs": [
    {
     "name": "stdout",
     "output_type": "stream",
     "text": [
      "href: https://maven.minecraftforge.net/net/minecraftforge/forge/1.19.3-44.1.23/forge-1.19.3-44.1.23-mdk.zip\n"
     ]
    }
   ],
   "source": [
    "from selenium import webdriver\n",
    "from selenium.webdriver.common.by import By\n",
    "from selenium.webdriver.edge.options import Options as EdgeOptions\n",
    "from pathlib import Path\n",
    "\n",
    "downloads_dir = Path(\"downloads\")\n",
    "downloads_dir.mkdir(exist_ok=True)\n",
    "# from msedge.selenium_tools import EdgeOptions\n",
    "options = EdgeOptions()\n",
    "options.add_experimental_option(\"prefs\", {\n",
    "    \"download.default_directory\": str(downloads_dir),\n",
    "    \"download.directory_upgrade\": True,\n",
    "})\n",
    "# options.add_argument(\"--headless\")\n",
    "# options.add_argument(\"--disable-gpu\") \n",
    "browser = webdriver.Edge(options=options)\n",
    "browser.set_window_position(1920,0)\n",
    "browser.get(\"https://files.minecraftforge.net/\")\n",
    "href = browser.find_element(By.CSS_SELECTOR, \"a[title='Mdk']\").get_attribute(\"href\")\n",
    "href = href.split(\"&url=\")[1]\n",
    "browser.get(href)\n",
    "# browser.close()\n",
    "# del browser\n",
    "print(f\"href: {href}\")"
   ]
  },
  {
   "cell_type": "code",
   "execution_count": null,
   "metadata": {},
   "outputs": [
    {
     "name": "stdout",
     "output_type": "stream",
     "text": [
      "d:\\Repos\\Other\\toolformer\\backend\\src\n",
      "hehe\n"
     ]
    },
    {
     "name": "stderr",
     "output_type": "stream",
     "text": [
      "Traceback (most recent call last):\n",
      "  File \"d:\\Repos\\Other\\toolformer\\backend\\venv\\lib\\site-packages\\selenium\\webdriver\\common\\service.py\", line 72, in start\n",
      "    self.process = subprocess.Popen(cmd, env=self.env,\n",
      "  File \"C:\\Users\\TeamD\\.conda\\envs\\3.10\\lib\\subprocess.py\", line 971, in __init__\n",
      "    self._execute_child(args, executable, preexec_fn, close_fds,\n",
      "  File \"C:\\Users\\TeamD\\.conda\\envs\\3.10\\lib\\subprocess.py\", line 1440, in _execute_child\n",
      "    hp, ht, pid, tid = _winapi.CreateProcess(executable, args,\n",
      "FileNotFoundError: [WinError 2] The system cannot find the file specified\n",
      "\n",
      "During handling of the above exception, another exception occurred:\n",
      "\n",
      "Traceback (most recent call last):\n",
      "  File \"d:\\Repos\\Other\\toolformer\\backend\\src\\tools\\helpers.py\", line 35, in handle_tool_invocation\n",
      "    result = tool.method(params)\n",
      "  File \"d:\\Repos\\Other\\toolformer\\backend\\src\\tools\\edge.py\", line 31, in invoke\n",
      "    driver = Edge(options=options)\n",
      "  File \"d:\\Repos\\Other\\toolformer\\backend\\venv\\lib\\site-packages\\msedge\\selenium_tools\\webdriver.py\", line 104, in __init__\n",
      "    self.service.start()\n",
      "  File \"d:\\Repos\\Other\\toolformer\\backend\\venv\\lib\\site-packages\\selenium\\webdriver\\common\\service.py\", line 81, in start\n",
      "    raise WebDriverException(\n",
      "selenium.common.exceptions.WebDriverException: Message: 'msedgedriver' executable needs to be in PATH. Please download from http://go.microsoft.com/fwlink/?LinkId=619687\n",
      "\n"
     ]
    },
    {
     "data": {
      "text/plain": [
       "(True,\n",
       " \"ERROR: Message: 'msedgedriver' executable needs to be in PATH. Please download from http://go.microsoft.com/fwlink/?LinkId=619687\\n\")"
      ]
     },
     "metadata": {},
     "output_type": "display_data"
    }
   ],
   "source": [
    "%cd ../../src\n",
    "from tools.forge_mdk import ForgeMDKTool\n",
    "from tools.helpers import handle_tool_invocation\n",
    "# tool = ForgeMDKTool()\n",
    "# tool.invoke(\"latest\")\n",
    "await handle_tool_invocation(\"[EDGE(open https://files.minecraftforge.net/) ->\")"
   ]
  }
 ],
 "metadata": {
  "kernelspec": {
   "display_name": "venv",
   "language": "python",
   "name": "python3"
  },
  "language_info": {
   "codemirror_mode": {
    "name": "ipython",
    "version": 3
   },
   "file_extension": ".py",
   "mimetype": "text/x-python",
   "name": "python",
   "nbconvert_exporter": "python",
   "pygments_lexer": "ipython3",
   "version": "3.10.9"
  },
  "orig_nbformat": 4
 },
 "nbformat": 4,
 "nbformat_minor": 2
}
