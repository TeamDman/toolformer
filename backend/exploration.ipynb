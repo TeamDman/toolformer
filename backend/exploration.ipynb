{
 "cells": [
  {
   "cell_type": "code",
   "execution_count": null,
   "metadata": {},
   "outputs": [],
   "source": [
    "%cd src"
   ]
  },
  {
   "cell_type": "code",
   "execution_count": null,
   "metadata": {},
   "outputs": [],
   "source": [
    "import json\n",
    "import constants\n",
    "import asyncio\n",
    "import websockets.client\n",
    "async def predict(prompt: str, stop_token: str | None = None) -> str:\n",
    "    async with websockets.client.connect(f\"ws://localhost:{constants.text_websocket_port}\") as ws:\n",
    "        await ws.send(json.dumps({\"prompt\": prompt, \"stop_token\": stop_token}))\n",
    "        # await ws.send(prompt)\n",
    "        response = await ws.recv()\n",
    "        return response"
   ]
  },
  {
   "cell_type": "code",
   "execution_count": null,
   "metadata": {},
   "outputs": [],
   "source": [
    "await predict(\"hello\")"
   ]
  },
  {
   "cell_type": "code",
   "execution_count": null,
   "metadata": {},
   "outputs": [],
   "source": [
    "from peft import PeftModel\n",
    "from transformers import LLaMATokenizer, LLaMAForCausalLM, GenerationConfig"
   ]
  },
  {
   "cell_type": "code",
   "execution_count": 3,
   "metadata": {},
   "outputs": [
    {
     "name": "stdout",
     "output_type": "stream",
     "text": [
      "Collecting screeninfo\n",
      "  Using cached screeninfo-0.8.1-py3-none-any.whl (12 kB)\n",
      "Installing collected packages: screeninfo\n",
      "Successfully installed screeninfo-0.8.1\n",
      "Note: you may need to restart the kernel to use updated packages.\n"
     ]
    },
    {
     "name": "stderr",
     "output_type": "stream",
     "text": [
      "\n",
      "[notice] A new release of pip available: 22.3.1 -> 23.0.1\n",
      "[notice] To update, run: python.exe -m pip install --upgrade pip\n"
     ]
    }
   ],
   "source": [
    "%pip install screeninfo"
   ]
  },
  {
   "cell_type": "code",
   "execution_count": 7,
   "metadata": {},
   "outputs": [
    {
     "name": "stdout",
     "output_type": "stream",
     "text": [
      "[Monitor(x=0, y=0, width=1920, height=1080, width_mm=597, height_mm=336, name='\\\\\\\\.\\\\DISPLAY1', is_primary=True), Monitor(x=1920, y=0, width=1920, height=1080, width_mm=477, height_mm=268, name='\\\\\\\\.\\\\DISPLAY2', is_primary=False), Monitor(x=-2048, y=-77, width=2048, height=1152, width_mm=510, height_mm=287, name='\\\\\\\\.\\\\DISPLAY3', is_primary=False)]\n"
     ]
    }
   ],
   "source": [
    "from pprint import pprint\n",
    "from screeninfo import get_monitors\n",
    "monitors = get_monitors()\n",
    "print(monitors)"
   ]
  }
 ],
 "metadata": {
  "kernelspec": {
   "display_name": "venv",
   "language": "python",
   "name": "python3"
  },
  "language_info": {
   "codemirror_mode": {
    "name": "ipython",
    "version": 3
   },
   "file_extension": ".py",
   "mimetype": "text/x-python",
   "name": "python",
   "nbconvert_exporter": "python",
   "pygments_lexer": "ipython3",
   "version": "3.10.9"
  },
  "orig_nbformat": 4
 },
 "nbformat": 4,
 "nbformat_minor": 2
}
