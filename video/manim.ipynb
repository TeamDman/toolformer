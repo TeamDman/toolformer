{
 "cells": [
  {
   "cell_type": "code",
   "execution_count": 2,
   "metadata": {},
   "outputs": [
    {
     "data": {
      "text/html": [
       "<pre style=\"white-space:pre;overflow-x:auto;line-height:normal;font-family:Menlo,'DejaVu Sans Mono',consolas,'Courier New',monospace\">Manim Community <span style=\"color: #008000; text-decoration-color: #008000\">v0.16.0.post0</span>\n",
       "\n",
       "</pre>\n"
      ],
      "text/plain": [
       "Manim Community \u001b[32mv0.\u001b[0m\u001b[32m16.0\u001b[0m\u001b[32m.post0\u001b[0m\n",
       "\n"
      ]
     },
     "metadata": {},
     "output_type": "display_data"
    }
   ],
   "source": [
    "from manim import *"
   ]
  },
  {
   "cell_type": "code",
   "execution_count": 5,
   "metadata": {},
   "outputs": [
    {
     "name": "stderr",
     "output_type": "stream",
     "text": [
      "                                                                                         \r"
     ]
    },
    {
     "data": {
      "text/html": [
       "<video src=\"media\\jupyter\\DataFlowScene@2023-03-27@01-53-14.mp4\" controls autoplay loop style=\"max-width: 60%;\"  >\n",
       "      Your browser does not support the <code>video</code> element.\n",
       "    </video>"
      ],
      "text/plain": [
       "<IPython.core.display.Video object>"
      ]
     },
     "metadata": {},
     "output_type": "display_data"
    }
   ],
   "source": [
    "%%manim -qm -v WARNING DataFlowScene\n",
    "\n",
    "from manim import *\n",
    "\n",
    "\n",
    "class DataFlowScene(Scene):\n",
    "    def construct(self):\n",
    "        # Components\n",
    "        adapter = RoundedRectangle(corner_radius=0.5, width=2, height=1, fill_opacity=0.8, fill_color=BLUE)\n",
    "        adapter_text = Text(\"Adapter (REST Server)\").scale(0.4).move_to(adapter.get_center())\n",
    "        adapter.add(adapter_text)\n",
    "\n",
    "        conversation = RoundedRectangle(corner_radius=0.5, width=3, height=1.2, fill_opacity=0.8, fill_color=YELLOW)\n",
    "        conversation_text = Text(\"Conversation.ipynb\").scale(0.4).move_to(conversation.get_center())\n",
    "        conversation.add(conversation_text)\n",
    "\n",
    "        transcriber = RoundedRectangle(corner_radius=0.5, width=2, height=1, fill_opacity=0.8, fill_color=GREEN)\n",
    "        transcriber_text = Text(\"Transcriber\").scale(0.4).move_to(transcriber.get_center())\n",
    "        transcriber.add(transcriber_text)\n",
    "\n",
    "        tts = RoundedRectangle(corner_radius=0.5, width=2, height=1, fill_opacity=0.8, fill_color=RED)\n",
    "        tts_text = Text(\"TTS Model\").scale(0.4).move_to(tts.get_center())\n",
    "        tts.add(tts_text)\n",
    "\n",
    "        components = VGroup(adapter, conversation, transcriber, tts).arrange(DOWN, buff=0.7)\n",
    "\n",
    "        # Connections\n",
    "        arrow1 = Arrow(conversation.get_left() + LEFT * 0.3, adapter.get_right() + RIGHT * 0.3)\n",
    "        arrow2 = Arrow(adapter.get_left() + LEFT * 0.3, conversation.get_right() + RIGHT * 0.3)\n",
    "        arrow3 = Arrow(conversation.get_bottom() + DOWN * 0.3, transcriber.get_top() + UP * 0.3)\n",
    "        arrow4 = Arrow(transcriber.get_bottom() + DOWN * 0.3, tts.get_top() + UP * 0.3)\n",
    "\n",
    "        # Labels\n",
    "        mic_label = Text(\"Mic\", font=\"Arial\", color=WHITE).scale(0.5).next_to(arrow1.get_start(), UP)\n",
    "        queue_label = Text(\"Queue\", font=\"Arial\", color=WHITE).scale(0.5).next_to(arrow3.get_start(), LEFT)\n",
    "        rest_label = Text(\"REST API\", font=\"Arial\", color=WHITE).scale(0.5).next_to(arrow2.get_end(), UP)\n",
    "        speaker_label = Text(\"Speaker\", font=\"Arial\", color=WHITE).scale(0.5).next_to(arrow4.get_end(), RIGHT)\n",
    "\n",
    "        self.play(FadeIn(components), Write(mic_label), Write(queue_label), Write(rest_label), Write(speaker_label))\n",
    "        self.play(Create(arrow1))\n",
    "        self.wait()\n",
    "        self.play(Create(arrow2))\n",
    "        self.wait()\n",
    "        self.play(Create(arrow3))\n",
    "        self.wait()\n",
    "        self.play(Create(arrow4))\n",
    "        self.wait(3)\n"
   ]
  }
 ],
 "metadata": {
  "kernelspec": {
   "display_name": "berry",
   "language": "python",
   "name": "python3"
  },
  "language_info": {
   "codemirror_mode": {
    "name": "ipython",
    "version": 3
   },
   "file_extension": ".py",
   "mimetype": "text/x-python",
   "name": "python",
   "nbconvert_exporter": "python",
   "pygments_lexer": "ipython3",
   "version": "3.10.6"
  },
  "orig_nbformat": 4
 },
 "nbformat": 4,
 "nbformat_minor": 2
}
